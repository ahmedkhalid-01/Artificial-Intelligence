{
  "cells": [
    {
      "cell_type": "markdown",
      "source": [
        "<h1 align='left' >AIR UNIVERSITY</h1>\n",
        "<h1 align='left' >Department of Electrical and Computer Engineering</h1>\n",
        "<h1 align='left' >Lab #2: Uniformed Vs Informed Search</h1>\n",
        "<h2 align='left' >Lab Instructor: Muhammad Awais</h2>"
      ],
      "metadata": {
        "collapsed": false,
        "pycharm": {
          "name": "#%% md\n"
        },
        "id": "8afjK1mqyuvE"
      }
    },
    {
      "cell_type": "markdown",
      "source": [
        "<h2>Objective</h2>\n",
        "\n",
        "<p>The objective of this lab is to explore and compare different search strategies in artificial intelligence, particularly focusing on the differences between informed (heuristic-based) and uninformed (blind) search algorithms, as well as the distinction between finding any path versus finding the optimal path.</p>\n",
        "<ol>\n",
        "<li>Implementing and analyzing uninformed search algorithms such as breadth-first search (BFS) and depth-first search (DFS).</li>\n",
        "<li>Implementing and analyzing informed search algorithms such as A* search.</li>\n",
        "\n",
        "</ol>"
      ],
      "metadata": {
        "collapsed": false,
        "pycharm": {
          "name": "#%% md\n"
        },
        "id": "83vToM9gyuvF"
      }
    },
    {
      "cell_type": "markdown",
      "source": [
        "<h2> Breath-First-Search </h2>\n",
        "<p>The Breadth First Search (BFS) algorithm is used to search a graph data structure for a node that meets a set of criteria. It starts at the root of the graph and visits all nodes at the current depth level before moving on to the nodes at the next depth level.</p>"
      ],
      "metadata": {
        "collapsed": false,
        "pycharm": {
          "name": "#%% md\n"
        },
        "id": "Ei-6-L4eyuvG"
      }
    },
    {
      "cell_type": "code",
      "execution_count": 17,
      "outputs": [],
      "source": [
        "graph = {\n",
        "    'A' : ['B', 'D'],\n",
        "    'B' : ['C', 'F'],\n",
        "    'C' : ['H', 'G', 'E'],\n",
        "    'D' : ['F'],\n",
        "    'E' : ['B', 'F'],\n",
        "    'F' : ['A'],\n",
        "    'G' : ['E', 'H'],\n",
        "    'H' : ['A']\n",
        "}"
      ],
      "metadata": {
        "pycharm": {
          "name": "#%%\n",
          "is_executing": true
        },
        "id": "rgDmQNi4yuvG"
      }
    },
    {
      "cell_type": "code",
      "execution_count": null,
      "outputs": [
        {
          "data": {
            "image/png": "[encoded data removed]",
            "text/plain": "<IPython.core.display.Image object>"
          },
          "execution_count": 13,
          "metadata": {},
          "output_type": "execute_result"
        }
      ],
      "source": [
        "from IPython import display\n",
        "display.Image(\"BFS_DFS.PNG\")"
      ],
      "metadata": {
        "pycharm": {
          "name": "#%%\n"
        },
        "id": "vyDqCY1CyuvG",
        "outputId": "ccf22aea-8130-45b5-d9ff-272e6e954dc5"
      }
    },
    {
      "cell_type": "code",
      "execution_count": 18,
      "outputs": [],
      "source": [
        "def BFS(graph, Start, Goal):\n",
        "  queue = [Start]\n",
        "  visited = []\n",
        "  if Goal == Start:\n",
        "    return Start\n",
        "  else:\n",
        "    while True:\n",
        "      temp = queue.pop(0)\n",
        "      if temp not in visited:\n",
        "        visited.append(temp)\n",
        "      if temp == Goal:\n",
        "        return visited\n",
        "      else:\n",
        "        for siblings in graph[temp]:\n",
        "          if siblings not in visited:\n",
        "            queue.append(siblings)"
      ],
      "metadata": {
        "pycharm": {
          "name": "#%%\n"
        },
        "id": "vZyVPuVnyuvH"
      }
    },
    {
      "cell_type": "code",
      "execution_count": 19,
      "outputs": [],
      "source": [
        "def get_key(tree, val):\n",
        "  for key, value in tree.items():\n",
        "    if val in value:\n",
        "      return key"
      ],
      "metadata": {
        "pycharm": {
          "name": "#%%\n"
        },
        "id": "mUSq50ahyuvH"
      }
    },
    {
      "cell_type": "code",
      "execution_count": 20,
      "outputs": [],
      "source": [
        "def short(graph, Start, Goal):\n",
        "  shortest = [Goal]\n",
        "  temp = Goal\n",
        "  while Start != temp:\n",
        "    temp = get_key(graph, temp)\n",
        "    shortest.append(temp)\n",
        "  shortest.reverse()\n",
        "  return shortest"
      ],
      "metadata": {
        "pycharm": {
          "name": "#%%\n"
        },
        "id": "H5tT36umyuvH"
      }
    },
    {
      "cell_type": "code",
      "execution_count": 22,
      "outputs": [
        {
          "output_type": "stream",
          "name": "stdout",
          "text": [
            "\n",
            "Visited : ['A', 'B', 'D', 'C', 'F', 'H', 'G', 'E']\n",
            "\n",
            "Shortest: ['A', 'B', 'C', 'E']\n"
          ]
        }
      ],
      "source": [
        "Visited = search(graph, 'A', 'E')\n",
        "print(f\"\\nVisited : {Visited}\")\n",
        "shortest = short(graph, 'A', 'E')\n",
        "print(f\"\\nShortest: {shortest[::1]}\")"
      ],
      "metadata": {
        "pycharm": {
          "name": "#%%\n"
        },
        "colab": {
          "base_uri": "https://localhost:8080/"
        },
        "id": "u6G4eUqRyuvH",
        "outputId": "6d7c79af-38b6-4986-bd72-db02a381298f"
      }
    },
    {
      "cell_type": "markdown",
      "source": [
        "<h3>Depth-First-Search</h3>\n",
        "<p>Depth first Search or Depth first traversal is a recursive algorithm for searching all the vertices of a graph or tree data structure. Traversal means visiting all the nodes of a graph.</p>\n"
      ],
      "metadata": {
        "collapsed": false,
        "pycharm": {
          "name": "#%% md\n"
        },
        "id": "EfJ6AxADyuvI"
      }
    },
    {
      "cell_type": "code",
      "execution_count": 23,
      "outputs": [],
      "source": [
        "def DFS(graphs, start, goal, visited=None):\n",
        "  stack = [start]\n",
        "  visited = [] if visited is None else visited\n",
        "\n",
        "  if goal == start:\n",
        "      return [start]\n",
        "  else:\n",
        "      while stack:\n",
        "          current = stack.pop()\n",
        "          if current not in visited:\n",
        "              visited.append(current)\n",
        "          if current == goal:\n",
        "              return visited\n",
        "          else:\n",
        "              for neighbor in reversed(graphs[current]):\n",
        "                  if neighbor not in visited:\n",
        "                      stack.append(neighbor)"
      ],
      "metadata": {
        "pycharm": {
          "name": "#%%\n"
        },
        "id": "V2iMHncwyuvI"
      }
    },
    {
      "cell_type": "code",
      "source": [
        "Visited_DFS = DFS(graph, 'A', 'D')\n",
        "print(f\"\\nVisited with DFS: {Visited_DFS}\")\n",
        "shortest = short(graph, 'A', 'E')\n",
        "print(f\"\\nShortest: {shortest}\")"
      ],
      "metadata": {
        "colab": {
          "base_uri": "https://localhost:8080/"
        },
        "id": "yJO685_VzWBj",
        "outputId": "dd4f099b-eb48-4820-b0c1-06c58fdea65c"
      },
      "execution_count": 25,
      "outputs": [
        {
          "output_type": "stream",
          "name": "stdout",
          "text": [
            "\n",
            "Visited with DFS: ['A', 'B', 'C', 'H', 'G', 'E', 'F', 'D']\n",
            "\n",
            "Shortest: ['A', 'B', 'C', 'E']\n"
          ]
        }
      ]
    },
    {
      "cell_type": "markdown",
      "source": [
        "<h3>Conclusion</h3>"
      ],
      "metadata": {
        "collapsed": false,
        "pycharm": {
          "name": "#%% md\n"
        },
        "id": "QHNZ6_YFyuvI"
      }
    },
    {
      "cell_type": "markdown",
      "source": [
        "In this lab, we explored and compared two fundamental search strategies: breadth-first search (BFS) and depth-first search (DFS). BFS systematically explores nodes level by level, guaranteeing the shortest path. DFS explores as deeply as possible before backtracking. We implemented both algorithms in Python and modified BFS to find the shortest path. BFS is memory-intensive but optimal for shortest paths, while DFS is memory-efficient but may not find the shortest path. This lab provides insights into the trade-offs between memory usage and optimality in search algorithms."
      ],
      "metadata": {
        "collapsed": false,
        "pycharm": {
          "name": "#%% md\n"
        },
        "id": "al2nv0bkaRUs"
      }
    }
  ],
  "metadata": {
    "kernelspec": {
      "display_name": "Python 3",
      "language": "python",
      "name": "python3"
    },
    "language_info": {
      "codemirror_mode": {
        "name": "ipython",
        "version": 2
      },
      "file_extension": ".py",
      "mimetype": "text/x-python",
      "name": "python",
      "nbconvert_exporter": "python",
      "pygments_lexer": "ipython2",
      "version": "2.7.6"
    },
    "colab": {
      "provenance": []
    }
  },
  "nbformat": 4,
  "nbformat_minor": 0
}