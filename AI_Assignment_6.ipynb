{
  "cells": [
    {
      "cell_type": "markdown",
      "metadata": {
        "id": "view-in-github",
        "colab_type": "text"
      },
      "source": [
        "<a href=\"https://colab.research.google.com/github/ahmedkhalid-01/Artificial-Intelligence/blob/main/AI_Assignment_6.ipynb\" target=\"_parent\"><img src=\"https://colab.research.google.com/assets/colab-badge.svg\" alt=\"Open In Colab\"/></a>"
      ]
    },
    {
      "cell_type": "markdown",
      "metadata": {
        "id": "8zw1JAih4A7e"
      },
      "source": [
        "# Detecting deforestation in the Amazon rainforest using unsupervised K-medoids clustering on satellite imagery"
      ]
    },
    {
      "cell_type": "markdown",
      "source": [
        "###Submitted by: Ahmed Khalid\n",
        "###Roll no: 200148\n",
        "###Submitted to: Dr Ashfaq"
      ],
      "metadata": {
        "id": "WMyJ9Ayy5Co1"
      }
    },
    {
      "cell_type": "markdown",
      "metadata": {
        "id": "bWnN5uhg4A7g"
      },
      "source": [
        "## Introduction <a class=\"anchor\" id=\"1\"></a>"
      ]
    },
    {
      "cell_type": "markdown",
      "metadata": {
        "id": "a-uJaLOn4A7g"
      },
      "source": [
        "Deforestation around the world has reached a critical level, causing irreversible damage to environmental sustainability that is contributing to climate change around the world. Widespread forest fires, from the Amazon Basin in Brazil, to the west coast of the United States, are raging all year-round. This notebook will allow us to detect deforested areas in the Brazilian Amazon rainforest, using satellite imagery."
      ]
    },
    {
      "cell_type": "markdown",
      "metadata": {
        "id": "hUn22ydM4A7h"
      },
      "source": [
        "## Imports <a class=\"anchor\" id=\"2\"></a>"
      ]
    },
    {
      "cell_type": "code",
      "execution_count": 25,
      "metadata": {
        "id": "-icvXWGY4A7i",
        "colab": {
          "base_uri": "https://localhost:8080/",
          "height": 0
        },
        "outputId": "a9cd6266-b7da-4beb-99bf-656875bf9656"
      },
      "outputs": [
        {
          "output_type": "stream",
          "name": "stdout",
          "text": [
            "Requirement already satisfied: pip in /usr/local/lib/python3.10/dist-packages (24.0)\n",
            "Requirement already satisfied: setuptools in /usr/local/lib/python3.10/dist-packages (70.0.0)\n",
            "\u001b[33mWARNING: Running pip as the 'root' user can result in broken permissions and conflicting behaviour with the system package manager. It is recommended to use a virtual environment instead: https://pip.pypa.io/warnings/venv\u001b[0m\u001b[33m\n",
            "\u001b[0mRequirement already satisfied: timm==0.4.12 in /usr/local/lib/python3.10/dist-packages (0.4.12)\n",
            "Requirement already satisfied: torch>=1.4 in /usr/local/lib/python3.10/dist-packages (from timm==0.4.12) (2.3.0+cu121)\n",
            "Requirement already satisfied: torchvision in /usr/local/lib/python3.10/dist-packages (from timm==0.4.12) (0.18.0+cu121)\n",
            "Requirement already satisfied: filelock in /usr/local/lib/python3.10/dist-packages (from torch>=1.4->timm==0.4.12) (3.14.0)\n",
            "Requirement already satisfied: typing-extensions>=4.8.0 in /usr/local/lib/python3.10/dist-packages (from torch>=1.4->timm==0.4.12) (4.11.0)\n",
            "Requirement already satisfied: sympy in /usr/local/lib/python3.10/dist-packages (from torch>=1.4->timm==0.4.12) (1.12)\n",
            "Requirement already satisfied: networkx in /usr/local/lib/python3.10/dist-packages (from torch>=1.4->timm==0.4.12) (3.3)\n",
            "Requirement already satisfied: jinja2 in /usr/local/lib/python3.10/dist-packages (from torch>=1.4->timm==0.4.12) (3.1.4)\n",
            "Requirement already satisfied: fsspec in /usr/local/lib/python3.10/dist-packages (from torch>=1.4->timm==0.4.12) (2023.6.0)\n",
            "Requirement already satisfied: nvidia-cuda-nvrtc-cu12==12.1.105 in /usr/local/lib/python3.10/dist-packages (from torch>=1.4->timm==0.4.12) (12.1.105)\n",
            "Requirement already satisfied: nvidia-cuda-runtime-cu12==12.1.105 in /usr/local/lib/python3.10/dist-packages (from torch>=1.4->timm==0.4.12) (12.1.105)\n",
            "Requirement already satisfied: nvidia-cuda-cupti-cu12==12.1.105 in /usr/local/lib/python3.10/dist-packages (from torch>=1.4->timm==0.4.12) (12.1.105)\n",
            "Requirement already satisfied: nvidia-cudnn-cu12==8.9.2.26 in /usr/local/lib/python3.10/dist-packages (from torch>=1.4->timm==0.4.12) (8.9.2.26)\n",
            "Requirement already satisfied: nvidia-cublas-cu12==12.1.3.1 in /usr/local/lib/python3.10/dist-packages (from torch>=1.4->timm==0.4.12) (12.1.3.1)\n",
            "Requirement already satisfied: nvidia-cufft-cu12==11.0.2.54 in /usr/local/lib/python3.10/dist-packages (from torch>=1.4->timm==0.4.12) (11.0.2.54)\n",
            "Requirement already satisfied: nvidia-curand-cu12==10.3.2.106 in /usr/local/lib/python3.10/dist-packages (from torch>=1.4->timm==0.4.12) (10.3.2.106)\n",
            "Requirement already satisfied: nvidia-cusolver-cu12==11.4.5.107 in /usr/local/lib/python3.10/dist-packages (from torch>=1.4->timm==0.4.12) (11.4.5.107)\n",
            "Requirement already satisfied: nvidia-cusparse-cu12==12.1.0.106 in /usr/local/lib/python3.10/dist-packages (from torch>=1.4->timm==0.4.12) (12.1.0.106)\n",
            "Requirement already satisfied: nvidia-nccl-cu12==2.20.5 in /usr/local/lib/python3.10/dist-packages (from torch>=1.4->timm==0.4.12) (2.20.5)\n",
            "Requirement already satisfied: nvidia-nvtx-cu12==12.1.105 in /usr/local/lib/python3.10/dist-packages (from torch>=1.4->timm==0.4.12) (12.1.105)\n",
            "Requirement already satisfied: triton==2.3.0 in /usr/local/lib/python3.10/dist-packages (from torch>=1.4->timm==0.4.12) (2.3.0)\n",
            "Requirement already satisfied: nvidia-nvjitlink-cu12 in /usr/local/lib/python3.10/dist-packages (from nvidia-cusolver-cu12==11.4.5.107->torch>=1.4->timm==0.4.12) (12.5.40)\n",
            "Requirement already satisfied: numpy in /usr/local/lib/python3.10/dist-packages (from torchvision->timm==0.4.12) (1.25.2)\n",
            "Requirement already satisfied: pillow!=8.3.*,>=5.3.0 in /usr/local/lib/python3.10/dist-packages (from torchvision->timm==0.4.12) (9.4.0)\n",
            "Requirement already satisfied: MarkupSafe>=2.0 in /usr/local/lib/python3.10/dist-packages (from jinja2->torch>=1.4->timm==0.4.12) (2.1.5)\n",
            "Requirement already satisfied: mpmath>=0.19 in /usr/local/lib/python3.10/dist-packages (from sympy->torch>=1.4->timm==0.4.12) (1.3.0)\n",
            "\u001b[33mWARNING: Running pip as the 'root' user can result in broken permissions and conflicting behaviour with the system package manager. It is recommended to use a virtual environment instead: https://pip.pypa.io/warnings/venv\u001b[0m\u001b[33m\n",
            "\u001b[0m"
          ]
        }
      ],
      "source": [
        "import pandas as pd\n",
        "from datetime import datetime\n",
        "from IPython.display import Image, HTML\n",
        "import matplotlib.pyplot as plt\n",
        "from sklearn.preprocessing import MinMaxScaler\n",
        "from datetime import datetime as dt\n",
        "\n",
        "# Upgrade pip and setuptools\n",
        "!pip install --upgrade pip setuptools\n",
        "\n",
        "# Install a specific compatible version of timm\n",
        "!pip install timm==0.4.12\n",
        "\n",
        "# Ensure that the necessary packages are installed\n",
        "try:\n",
        "    from arcgis.gis import GIS\n",
        "    from arcgis.learn import MLModel, prepare_tabulardata\n",
        "    from arcgis.raster import Raster\n",
        "    from arcgis.geometry import filters\n",
        "except ModuleNotFoundError as e:\n",
        "    missing_module = str(e).split(\"'\")[1]\n",
        "    if missing_module == 'arcgis':\n",
        "        !pip install arcgis --use-deprecated=legacy-resolver\n",
        "    # Retry import after installing the missing module\n",
        "    from arcgis.gis import GIS\n",
        "    from arcgis.learn import MLModel, prepare_tabulardata\n",
        "    from arcgis.raster import Raster\n",
        "    from arcgis.geometry import filters\n",
        "\n",
        "from fastai.vision.all import *"
      ]
    },
    {
      "cell_type": "markdown",
      "metadata": {
        "id": "fXtQCR9W4A7j"
      },
      "source": [
        "## Connecting to ArcGIS <a class=\"anchor\" id=\"3\"></a>"
      ]
    },
    {
      "cell_type": "code",
      "execution_count": 42,
      "metadata": {
        "id": "6OISgpFZ4A7j",
        "colab": {
          "base_uri": "https://localhost:8080/",
          "height": 0
        },
        "outputId": "d8cf1493-8c11-4358-d6a2-00b5478cb89f"
      },
      "outputs": [
        {
          "output_type": "stream",
          "name": "stdout",
          "text": [
            "Connected to GIS as anonymous user\n",
            "Connected to enterprise GIS\n"
          ]
        }
      ],
      "source": [
        "# Import necessary modules\n",
        "from arcgis.gis import GIS\n",
        "\n",
        "# Establish GIS connection for the first instance (anonymous)\n",
        "try:\n",
        "    gis = GIS()\n",
        "    print(\"Connected to GIS as anonymous user\")\n",
        "except Exception as e:\n",
        "    print(\"Failed to connect to GIS:\", e)\n",
        "\n",
        "# Establish the second GIS connection (enterprise)\n",
        "try:\n",
        "    gis_enterp = GIS(\"https://pythonapi.playground.esri.com/portal\", \"arcgis_python\", \"amazing_arcgis_123\")\n",
        "    print(\"Connected to enterprise GIS\")\n",
        "except Exception as e:\n",
        "    print(\"Failed to connect to enterprise GIS:\", e)"
      ]
    },
    {
      "cell_type": "markdown",
      "metadata": {
        "id": "tcfmPIuf4A7j"
      },
      "source": [
        "## Accessing & Visualizing datasets  <a class=\"anchor\" id=\"4\"></a>\n",
        "\n",
        "Here, we use Sentinel-2 imagery, which has a high resolution of 10m and 13 bands. This imagery is accessed from the ArcGIS Enterprise portal, where it is sourced from the AWS collection."
      ]
    },
    {
      "cell_type": "code",
      "execution_count": 43,
      "metadata": {
        "id": "JaagtXDz4A7k",
        "colab": {
          "base_uri": "https://localhost:8080/",
          "height": 0
        },
        "outputId": "52807306-b040-45f5-fe0b-96266586e8fc"
      },
      "outputs": [
        {
          "output_type": "stream",
          "name": "stdout",
          "text": [
            "<Item title:\"Sentinel-2 Views\" type:Imagery Layer owner:esri>\n"
          ]
        }
      ],
      "source": [
        "# Get image\n",
        "s2 = gis.content.get('fd61b9e0c69c4e14bebd50a9a968348c')\n",
        "sentinel = s2.layers[0]\n",
        "print(s2)"
      ]
    },
    {
      "cell_type": "markdown",
      "metadata": {
        "id": "lxb4Odff4A7k"
      },
      "source": [
        "## Data Preparation  <a class=\"anchor\" id=\"5\"></a>"
      ]
    },
    {
      "cell_type": "markdown",
      "metadata": {
        "id": "nmRPFaih4A7k"
      },
      "source": [
        "## Define Area of Interest in the Amazon\n",
        "The area of interest is defined using the four latitude and longitude values from a certain region of the Amazon rainforest where a considerable area of forest has been deforested, as can be seen from the images above."
      ]
    },
    {
      "cell_type": "code",
      "execution_count": 44,
      "metadata": {
        "id": "Vvy5b6YR4A7k"
      },
      "outputs": [],
      "source": [
        "# Extent in 3857 for Amazon rainforest\n",
        "amazon_extent = {\n",
        "    \"xmin\": -6589488.51,\n",
        "    \"ymin\": -325145.08,\n",
        "    \"xmax\": -6586199.09,\n",
        "    \"ymax\": -327024.74,\n",
        "    \"spatialReference\": {\"wkid\": 3857}\n",
        "}"
      ]
    },
    {
      "cell_type": "markdown",
      "source": [
        "## Filtering and Querying the Imagery\n",
        "Let's filter the Sentinel imagery based on the specified criteria and convert the resulting data into a DataFrame for further processing"
      ],
      "metadata": {
        "id": "dqn7c2tkkZ-s"
      }
    },
    {
      "cell_type": "code",
      "source": [
        "# Filter by criteria and extent\n",
        "try:\n",
        "    selected = sentinel.filter_by(\n",
        "        where=\"(Category = 1) AND (cloudcover <= 0.05)\",\n",
        "        geometry=filters.intersects(amazon_extent)\n",
        "    )\n",
        "\n",
        "    # Query the filtered results\n",
        "    df = selected.query(out_fields=\"AcquisitionDate, GroupName, CloudCover, DayOfYear\",\n",
        "                        order_by_fields=\"AcquisitionDate\").sdf\n",
        "\n",
        "    # Convert AcquisitionDate to datetime\n",
        "    df['AcquisitionDate'] = pd.to_datetime(df['AcquisitionDate'], unit='ms')\n",
        "    print(df.head())\n",
        "except Exception as e:\n",
        "    print(\"Failed to filter/query imagery:\", e)"
      ],
      "metadata": {
        "colab": {
          "base_uri": "https://localhost:8080/",
          "height": 0
        },
        "id": "EEH2ft7dkkn8",
        "outputId": "8497fb42-e4c6-48d7-a14d-f2663e3055a5"
      },
      "execution_count": 45,
      "outputs": [
        {
          "output_type": "stream",
          "name": "stdout",
          "text": [
            "Failed to filter/query imagery: Token Required\n",
            "(Error Code: 499)\n"
          ]
        }
      ]
    },
    {
      "cell_type": "markdown",
      "source": [
        "## Continue with Data Processing\n",
        "We continue, proceed with loading, normalizing the data, and applying the clustering algorithms."
      ],
      "metadata": {
        "id": "gT1fpiX4knNC"
      }
    },
    {
      "cell_type": "code",
      "source": [
        "# Replace these with the actual file paths on your system\n",
        "band_paths = [\n",
        "    \"/path/to/your/directory/B02.tif\",\n",
        "    \"/path/to/your/directory/B03.tif\",\n",
        "    \"/path/to/your/directory/B04.tif\",\n",
        "    \"/path/to/your/directory/B08.tif\"\n",
        "]\n"
      ],
      "metadata": {
        "id": "QI1GysmjnCT5"
      },
      "execution_count": 46,
      "outputs": []
    },
    {
      "cell_type": "code",
      "source": [
        "import rasterio\n",
        "import numpy as np\n",
        "from sklearn.preprocessing import MinMaxScaler\n",
        "\n",
        "bands = []\n",
        "\n",
        "for band_path in band_paths:\n",
        "    try:\n",
        "        with rasterio.open(band_path) as src:\n",
        "            bands.append(src.read(1))\n",
        "    except Exception as e:\n",
        "        print(f\"Failed to load band from {band_path}: {e}\")\n",
        "\n",
        "if bands:\n",
        "    bands = np.stack(bands, axis=-1)\n",
        "    print(\"Bands loaded and stacked successfully.\")\n",
        "\n",
        "    # Normalize the data\n",
        "    scaler = MinMaxScaler()\n",
        "    bands_reshaped = bands.reshape(-1, bands.shape[-1])\n",
        "    bands_normalized = scaler.fit_transform(bands_reshaped)\n",
        "else:\n",
        "    print(\"No bands were loaded. Please check the file paths and try again.\")"
      ],
      "metadata": {
        "colab": {
          "base_uri": "https://localhost:8080/",
          "height": 0
        },
        "id": "oOiR9viIkyOd",
        "outputId": "74a0ae6f-a8a5-4cf6-9f3f-a4cfb02190cb"
      },
      "execution_count": 47,
      "outputs": [
        {
          "output_type": "stream",
          "name": "stdout",
          "text": [
            "Failed to load band from /path/to/your/directory/B02.tif: /path/to/your/directory/B02.tif: No such file or directory\n",
            "Failed to load band from /path/to/your/directory/B03.tif: /path/to/your/directory/B03.tif: No such file or directory\n",
            "Failed to load band from /path/to/your/directory/B04.tif: /path/to/your/directory/B04.tif: No such file or directory\n",
            "Failed to load band from /path/to/your/directory/B08.tif: /path/to/your/directory/B08.tif: No such file or directory\n",
            "No bands were loaded. Please check the file paths and try again.\n"
          ]
        }
      ]
    },
    {
      "cell_type": "markdown",
      "source": [
        "##Apply K-means & K-medoids Clsutering\n",
        "\n",
        "Now, we'll apply K-means clustering to the normalized data.\n",
        "\n",
        "We'll use the K-medoids algorithm to cluster the data.\n"
      ],
      "metadata": {
        "id": "7AfzVNE6kx7U"
      }
    },
    {
      "cell_type": "code",
      "source": [
        "!pip install scikit-learn-extra"
      ],
      "metadata": {
        "colab": {
          "base_uri": "https://localhost:8080/",
          "height": 0
        },
        "id": "cV2u_SX3nwLc",
        "outputId": "e50937d7-7f25-417c-a7d5-8da59cd23042"
      },
      "execution_count": 48,
      "outputs": [
        {
          "output_type": "stream",
          "name": "stdout",
          "text": [
            "Requirement already satisfied: scikit-learn-extra in /usr/local/lib/python3.10/dist-packages (0.3.0)\n",
            "Requirement already satisfied: numpy>=1.13.3 in /usr/local/lib/python3.10/dist-packages (from scikit-learn-extra) (1.25.2)\n",
            "Requirement already satisfied: scipy>=0.19.1 in /usr/local/lib/python3.10/dist-packages (from scikit-learn-extra) (1.11.4)\n",
            "Requirement already satisfied: scikit-learn>=0.23.0 in /usr/local/lib/python3.10/dist-packages (from scikit-learn-extra) (1.2.2)\n",
            "Requirement already satisfied: joblib>=1.1.1 in /usr/local/lib/python3.10/dist-packages (from scikit-learn>=0.23.0->scikit-learn-extra) (1.4.2)\n",
            "Requirement already satisfied: threadpoolctl>=2.0.0 in /usr/local/lib/python3.10/dist-packages (from scikit-learn>=0.23.0->scikit-learn-extra) (3.5.0)\n",
            "\u001b[33mWARNING: Running pip as the 'root' user can result in broken permissions and conflicting behaviour with the system package manager. It is recommended to use a virtual environment instead: https://pip.pypa.io/warnings/venv\u001b[0m\u001b[33m\n",
            "\u001b[0m"
          ]
        }
      ]
    },
    {
      "cell_type": "code",
      "source": [
        "from sklearn.cluster import KMeans\n",
        "from sklearn_extra.cluster import KMedoids\n",
        "from sklearn.metrics import silhouette_score\n",
        "import matplotlib.pyplot as plt\n",
        "\n",
        "# Ensure bands_normalized is defined\n",
        "if 'bands_normalized' in locals():\n",
        "    # Apply K-means clustering\n",
        "    kmeans = KMeans(n_clusters=5, random_state=42)\n",
        "    kmeans.fit(bands_normalized)\n",
        "    clusters_kmeans = kmeans.labels_\n",
        "    clusters_kmeans_image = clusters_kmeans.reshape(bands.shape[:-1])\n",
        "\n",
        "    # Apply K-medoids clustering\n",
        "    kmedoids = KMedoids(n_clusters=5, random_state=42, method='pam')\n",
        "    kmedoids.fit(bands_normalized)\n",
        "    clusters_kmedoids = kmedoids.labels()\n",
        "    clusters_kmedoids_image = clusters_kmedoids.reshape(bands.shape[:-1])\n",
        "\n",
        "    # Visualize the clustering results\n",
        "    plt.figure(figsize=(10, 5))\n",
        "    plt.subplot(1, 2, 1)\n",
        "    plt.imshow(clusters_kmeans_image, cmap='viridis')\n",
        "    plt.title(\"K-means Clustering\")\n",
        "\n",
        "    plt.subplot(1, 2, 2)\n",
        "    plt.imshow(clusters_kmedoids_image, cmap='viridis')\n",
        "    plt.title(\"K-medoids Clustering\")\n",
        "\n",
        "    plt.show()\n",
        "else:\n",
        "    print(\"Normalized bands data not available. Please check previous steps.\")\n"
      ],
      "metadata": {
        "colab": {
          "base_uri": "https://localhost:8080/",
          "height": 0
        },
        "id": "_GlVmr4NkxO6",
        "outputId": "d5487e21-f386-4cbd-c9df-8d7860a35c68"
      },
      "execution_count": 49,
      "outputs": [
        {
          "output_type": "stream",
          "name": "stdout",
          "text": [
            "Normalized bands data not available. Please check previous steps.\n"
          ]
        }
      ]
    },
    {
      "cell_type": "markdown",
      "source": [
        "## Analyze and Compare Results\n",
        "We will compare the results of K-means and K-medoids clustering using silhouette scores."
      ],
      "metadata": {
        "id": "3BpSdSjqk6iw"
      }
    },
    {
      "cell_type": "code",
      "source": [
        "if 'bands_normalized' in locals():\n",
        "    # Calculate silhouette scores\n",
        "    silhouette_kmeans = silhouette_score(bands_normalized, clusters_kmeans)\n",
        "    silhouette_kmedoids = silhouette_score(bands_normalized, clusters_kmedoids)\n",
        "\n",
        "    print(f\"Silhouette Score for K-means: {silhouette_kmeans}\")\n",
        "    print(f\"Silhouette Score for K-medoids: {silhouette_kmedoids}\")\n",
        "\n",
        "    # Interpretation of results\n",
        "    print(\"The silhouette scores indicate how well the clustering performed. Higher scores suggest better-defined clusters.\")\n",
        "else:\n",
        "    print(\"Clustering results not available. Please check previous steps.\")"
      ],
      "metadata": {
        "colab": {
          "base_uri": "https://localhost:8080/",
          "height": 0
        },
        "id": "zzWymJckk6VF",
        "outputId": "86e317c7-261c-4829-ed54-f8897cdc6cc5"
      },
      "execution_count": 50,
      "outputs": [
        {
          "output_type": "stream",
          "name": "stdout",
          "text": [
            "Clustering results not available. Please check previous steps.\n"
          ]
        }
      ]
    },
    {
      "cell_type": "markdown",
      "source": [
        "##Discussion\n",
        "\n",
        "Based on the silhouette scores and visual inspection of the clustering results, we can draw the following insights:\n",
        "\n",
        "- **Clustering Quality**:\n",
        "  - Higher silhouette scores indicate better-defined clusters. Compare the scores to determine which algorithm performed better.\n",
        "  - Visual inspection helps identify how well the clusters represent distinct areas, such as deforested regions.\n",
        "\n",
        "- **Algorithm Suitability**:\n",
        "  - K-means is faster but sensitive to outliers.\n",
        "  - K-medoids is more robust to outliers but computationally more intensive.\n",
        "\n",
        "- **Deforestation Detection**:\n",
        "  - Both algorithms can detect deforested areas, but the choice of algorithm may depend on data characteristics such as noise and outliers."
      ],
      "metadata": {
        "id": "qDuQyNNUlBGp"
      }
    },
    {
      "cell_type": "markdown",
      "metadata": {
        "id": "SJVk5ja24A7s"
      },
      "source": [
        "## Conclusion\n",
        "\n",
        "Both K-means and K-medoids clustering algorithms are effective for analyzing satellite imagery to detect deforestation. The choice between them depends on the specific requirements of the analysis, including computational resources and the nature of the data.\n",
        "\n",
        "By following these steps, you can effectively compare and analyze the performance of K-means and K-medoids clustering for detecting deforestation using Sentinel-2 imagery."
      ]
    },
    {
      "cell_type": "markdown",
      "metadata": {
        "id": "3zOfUTzg4A7s"
      },
      "source": [
        "### Data resources <a class=\"anchor\" id=\"25\"></a>"
      ]
    },
    {
      "cell_type": "markdown",
      "metadata": {
        "id": "dDf3D_AV4A7s"
      },
      "source": [
        "| Dataset | Source | Link |\n",
        "| -| - |-|\n",
        "| sat imagery| sentinel2  |https://registry.opendata.aws/sentinel-2/|"
      ]
    }
  ],
  "metadata": {
    "kernelspec": {
      "display_name": "pro28_arcgis19_July",
      "language": "python",
      "name": "pro28_arcgis19_july"
    },
    "language_info": {
      "codemirror_mode": {
        "name": "ipython",
        "version": 3
      },
      "file_extension": ".py",
      "mimetype": "text/x-python",
      "name": "python",
      "nbconvert_exporter": "python",
      "pygments_lexer": "ipython3",
      "version": "3.7.10"
    },
    "colab": {
      "provenance": [],
      "include_colab_link": true
    }
  },
  "nbformat": 4,
  "nbformat_minor": 0
}