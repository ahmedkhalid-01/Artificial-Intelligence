{
  "cells": [
    {
      "cell_type": "markdown",
      "metadata": {
        "id": "view-in-github",
        "colab_type": "text"
      },
      "source": [
        "<a href=\"https://colab.research.google.com/github/ahmedkhalid-01/Artificial-Intelligence/blob/main/lab4(200148).ipynb\" target=\"_parent\"><img src=\"https://colab.research.google.com/assets/colab-badge.svg\" alt=\"Open In Colab\"/></a>"
      ]
    },
    {
      "cell_type": "markdown",
      "source": [
        "<h1 align='left' >AIR UNIVERSITY</h1>\n",
        "<h1 align='left' >Department of Electrical and Computer Engineering</h1>\n",
        "<h1 align='left' >Lab # 04: Constraint Satisfaction Problems</h1>\n",
        "<h2 align='left' >Lab Instructor: Muhammad Awais</h2>"
      ],
      "metadata": {
        "collapsed": false,
        "pycharm": {
          "name": "#%% md\n"
        },
        "id": "lS1Ot34NAugT"
      }
    },
    {
      "cell_type": "markdown",
      "source": [
        "<h3>Constraint Satisfaction Problems (CSP) in Artificial Intelligence</h3>\n",
        "<p>\n",
        "Finding a solution that meets a set of constraints is the goal of constraint satisfaction problems (CSPs), a type of AI issue. Finding values for a group of variables that fulfill a set of restrictions or rules is the aim of constraint satisfaction problems. For tasks including resource allocation, planning, scheduling, and decision-making, CSPs are frequently employed in AI."
      ],
      "metadata": {
        "collapsed": false,
        "pycharm": {
          "name": "#%% md\n"
        },
        "id": "IXo1UhVcAugX"
      }
    },
    {
      "cell_type": "markdown",
      "source": [
        "<h4>There are mainly three basic components in the constraint satisfaction problem:</h2>\n",
        "<ol>\n",
        "<li><b>Variables:</b>The things that need to be determined are variables. Variables in a CSP are the objects that must have values assigned to them in order to satisfy a particular set of constraints.\n",
        "</li>\n",
        "<li><b>Domains: </b>The range of potential values that a variable can have is represented by domains. </li>\n",
        "<li><b>Constraints:</b> The guidelines that control how variables relate to one another are known as constraints. Constraints in a CSP define the ranges of possible values for variables. </li></ol>"
      ],
      "metadata": {
        "collapsed": false,
        "pycharm": {
          "name": "#%% md\n"
        },
        "id": "HN_nMGVeAugY"
      }
    },
    {
      "cell_type": "markdown",
      "source": [
        "<h2>N Queen Problem</h2>\n"
      ],
      "metadata": {
        "collapsed": false,
        "pycharm": {
          "name": "#%% md\n"
        },
        "id": "TkW8PRMRAugY"
      }
    },
    {
      "cell_type": "code",
      "execution_count": null,
      "outputs": [],
      "source": [
        "def is_safe(board, row, col, N):\n",
        "    for i in range(N):\n",
        "        if board[i][col] == 1:\n",
        "            return False\n",
        "\n",
        "    x = row\n",
        "    y = col\n",
        "\n",
        "    while x >= 0 and y >= 0:\n",
        "        if board[x][y] == 1:\n",
        "          return False\n",
        "        x = x - 1\n",
        "        y = y - 1\n",
        "\n",
        "    x = row\n",
        "    y = col\n",
        "\n",
        "    while x >= 0 and y < N:\n",
        "        if board[x][y] == 1:\n",
        "          return False\n",
        "        x = x - 1\n",
        "        y = y + 1\n",
        "    return True"
      ],
      "metadata": {
        "pycharm": {
          "name": "#%%\n"
        },
        "id": "TPEjsD-IAugZ"
      }
    },
    {
      "cell_type": "code",
      "execution_count": null,
      "outputs": [],
      "source": [
        "def print_board(board, n):\n",
        "  print(\"Solution:\")\n",
        "\n",
        "  for i in range(n):\n",
        "    for j in range(n):\n",
        "      if board[i][j] == 1:\n",
        "        print(\"Q\", end=\" \")\n",
        "      else:\n",
        "        print(\"--\", end=\" \")\n",
        "    print()\n",
        "\n",
        "N = 4\n",
        "board = [[0]*N for i in range(N)]\n",
        "solution_count = 0"
      ],
      "metadata": {
        "pycharm": {
          "name": "#%%\n"
        },
        "id": "C5u8VM1VAugb"
      }
    },
    {
      "cell_type": "code",
      "execution_count": null,
      "outputs": [
        {
          "output_type": "stream",
          "name": "stdout",
          "text": [
            "Solution  1 :\n",
            "\n",
            "Solution:\n",
            "-- Q -- -- \n",
            "-- -- -- Q \n",
            "Q -- -- -- \n",
            "-- -- Q -- \n",
            "\n",
            "\n",
            "Solution  2 :\n",
            "\n",
            "Solution:\n",
            "-- -- Q -- \n",
            "Q -- -- -- \n",
            "-- -- -- Q \n",
            "-- Q -- -- \n",
            "\n",
            "\n",
            "Total number of solutions: 2\n"
          ]
        }
      ],
      "source": [
        "def n_Queens(board, row, N):\n",
        "    global solution_count\n",
        "\n",
        "    if row >= N:\n",
        "        solution_count += 1\n",
        "        print(\"Solution \", solution_count, \":\\n\")\n",
        "        print_board(board, N)\n",
        "        print(\"\\n\")\n",
        "        return\n",
        "\n",
        "    for col in range(N):\n",
        "        if is_safe(board, row, col, N):\n",
        "            board[row][col] = 1\n",
        "            n_Queens(board, row + 1, N)\n",
        "            board[row][col] = 0\n",
        "\n",
        "n_Queens(board, 0, N)\n",
        "print(\"Total number of solutions:\", solution_count)"
      ],
      "metadata": {
        "pycharm": {
          "name": "#%%\n"
        },
        "colab": {
          "base_uri": "https://localhost:8080/"
        },
        "id": "7Db8vDX9Auga",
        "outputId": "78ceb709-5cc6-4e9e-ad19-0be130f9029f"
      }
    },
    {
      "cell_type": "markdown",
      "source": [
        "<h3>Graph Coloring</h3>"
      ],
      "metadata": {
        "collapsed": false,
        "pycharm": {
          "name": "#%% md\n"
        },
        "id": "pD8sJ_OtAugd"
      }
    },
    {
      "cell_type": "markdown",
      "source": [
        "<img src=\"maps.png\">"
      ],
      "metadata": {
        "collapsed": false,
        "pycharm": {
          "name": "#%% md\n"
        },
        "id": "JQ_8o3s0Augd"
      }
    },
    {
      "cell_type": "code",
      "execution_count": null,
      "outputs": [],
      "source": [
        "#Graph Declaration\n",
        "graph = {\n",
        "    'Gilgit': ['AJK', 'KPK'],\n",
        "    'KPK': ['AJK', 'Gilgit', 'Punjab', 'Balochistan'],\n",
        "    'AJK': ['Gilgit', 'KPK', 'Punjab'],\n",
        "    'Punjab': ['AJK', 'KPK', 'Balochistan', 'Sindh'],\n",
        "    'Sindh': ['Punjab', 'Balochistan'],\n",
        "    'Balochistan': ['KPK', 'Punjab', 'Sindh']\n",
        "}"
      ],
      "metadata": {
        "pycharm": {
          "name": "#%%\n"
        },
        "id": "px1zr8HaAugd"
      }
    },
    {
      "cell_type": "code",
      "source": [
        "def is_valid(graph, node, color, color_map):\n",
        "    for neighbor in graph[node]:\n",
        "        if neighbor in color_map and color_map[neighbor] == color:\n",
        "            return False\n",
        "    return True"
      ],
      "metadata": {
        "id": "aY7tWNfXQ3Y9"
      },
      "execution_count": null,
      "outputs": []
    },
    {
      "cell_type": "code",
      "execution_count": null,
      "outputs": [],
      "source": [
        "def solve_map_coloring(graph, colors):\n",
        "    solutions = []\n",
        "    color_map = {}\n",
        "    stack = [(list(graph.keys())[0], iter(colors))]\n",
        "\n",
        "    while stack:\n",
        "        node, color_iter = stack[-1]\n",
        "        try:\n",
        "            color = next(color_iter)\n",
        "            if is_valid(graph, node, color, color_map):\n",
        "                color_map[node] = color\n",
        "                if len(color_map) == len(graph):\n",
        "                    solutions.append(color_map.copy())\n",
        "                for neighbor in graph[node]:\n",
        "                    if neighbor not in color_map:\n",
        "                        stack.append((neighbor, iter(colors)))\n",
        "                        break\n",
        "            else:\n",
        "                continue\n",
        "        except StopIteration:\n",
        "            color_map.pop(node, None)\n",
        "            stack.pop()\n",
        "\n",
        "    return solutions"
      ],
      "metadata": {
        "pycharm": {
          "name": "#%%\n"
        },
        "id": "CiIYlOP2Auge"
      }
    },
    {
      "cell_type": "code",
      "source": [
        "colors = ['red', 'green', 'blue']\n",
        "\n",
        "# Solve the map coloring problem\n",
        "solutions = solve_map_coloring(graph, colors)\n",
        "\n",
        "# Print the solutions\n",
        "if solutions:\n",
        "    for i, solution in enumerate(solutions, 1):\n",
        "        print(f\"Solution {i}:\")\n",
        "        for node, color in solution.items():\n",
        "            print(f\"{node}: {color}\")\n",
        "        print()\n",
        "else:\n",
        "    print(\"No solutions found.\")"
      ],
      "metadata": {
        "colab": {
          "base_uri": "https://localhost:8080/"
        },
        "id": "of6z-Ji6RAbB",
        "outputId": "0a47286d-323f-42ac-c0ee-bcd58883e545"
      },
      "execution_count": null,
      "outputs": [
        {
          "output_type": "stream",
          "name": "stdout",
          "text": [
            "Solution 1:\n",
            "Gilgit: red\n",
            "AJK: green\n",
            "KPK: blue\n",
            "Punjab: red\n",
            "Balochistan: green\n",
            "Sindh: blue\n",
            "\n",
            "Solution 2:\n",
            "Gilgit: red\n",
            "AJK: blue\n",
            "KPK: green\n",
            "Punjab: red\n",
            "Balochistan: blue\n",
            "Sindh: green\n",
            "\n",
            "Solution 3:\n",
            "Gilgit: green\n",
            "AJK: red\n",
            "KPK: blue\n",
            "Punjab: green\n",
            "Balochistan: red\n",
            "Sindh: blue\n",
            "\n",
            "Solution 4:\n",
            "Gilgit: green\n",
            "AJK: blue\n",
            "KPK: red\n",
            "Punjab: green\n",
            "Balochistan: blue\n",
            "Sindh: red\n",
            "\n",
            "Solution 5:\n",
            "Gilgit: blue\n",
            "AJK: red\n",
            "KPK: green\n",
            "Punjab: blue\n",
            "Balochistan: red\n",
            "Sindh: green\n",
            "\n",
            "Solution 6:\n",
            "Gilgit: blue\n",
            "AJK: green\n",
            "KPK: red\n",
            "Punjab: blue\n",
            "Balochistan: green\n",
            "Sindh: red\n",
            "\n"
          ]
        }
      ]
    },
    {
      "cell_type": "markdown",
      "source": [
        "<h3>Conclusion</h3>\n",
        "<p>"
      ],
      "metadata": {
        "collapsed": false,
        "pycharm": {
          "name": "#%% md\n"
        },
        "id": "Xoms38G0Augf"
      }
    },
    {
      "cell_type": "markdown",
      "source": [
        "In these tasks, we delved into two classic problems in constraint satisfaction programming (CSP): the Map Coloring Problem and the N-Queens Problem. Both exemplify the application of CSP techniques in solving combinatorial optimization challenges efficiently. In addressing the Map Coloring Problem, we aimed to assign colors to different regions of a map such that no neighboring regions shared the same color. Utilizing a backtracking algorithm, we traversed the search space, ensuring each color assignment adhered to the constraint of neighboring regions having distinct colors. We extended the solution to enumerate and present all feasible colorings of the map. Similarly, when tackling the N-Queens Problem, our goal was to place N queens on an N×N chessboard without any two queens threatening each other. Employing a backtracking approach with optimizations, we explored the solution space, ensuring each queen placement met the constraint of non-attackability. By modifying the algorithm to track multiple solutions, we could enumerate all valid queen configurations on the chessboard. Through these tasks, we showcased the versatility and effectiveness of CSP techniques in solving a diverse range of constraint-based puzzles and combinatorial optimization problems."
      ],
      "metadata": {
        "id": "5TU4vdgqRGJb"
      }
    }
  ],
  "metadata": {
    "kernelspec": {
      "display_name": "Python 3",
      "language": "python",
      "name": "python3"
    },
    "language_info": {
      "codemirror_mode": {
        "name": "ipython",
        "version": 2
      },
      "file_extension": ".py",
      "mimetype": "text/x-python",
      "name": "python",
      "nbconvert_exporter": "python",
      "pygments_lexer": "ipython2",
      "version": "2.7.6"
    },
    "colab": {
      "provenance": [],
      "include_colab_link": true
    }
  },
  "nbformat": 4,
  "nbformat_minor": 0
}