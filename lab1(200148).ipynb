{
  "cells": [
    {
      "cell_type": "markdown",
      "metadata": {
        "id": "view-in-github",
        "colab_type": "text"
      },
      "source": [
        "<a href=\"https://colab.research.google.com/github/ahmedkhalid-01/Artificial-Intelligence/blob/main/lab1(200148).ipynb\" target=\"_parent\"><img src=\"https://colab.research.google.com/assets/colab-badge.svg\" alt=\"Open In Colab\"/></a>"
      ]
    },
    {
      "cell_type": "markdown",
      "source": [
        "<h1 align='left' >AIR UNIVERSITY</h1>\n",
        "<h1 align='left' >Department of Electrical and Computer Engineering</h1>\n",
        "<h1 align='left' >Lab #1: Introduction to Python</h1>\n",
        "<h2 align='left' >Lab Instructor: Muhammad Awais</h2>"
      ],
      "metadata": {
        "collapsed": false,
        "pycharm": {
          "name": "#%% md\n"
        },
        "id": "cLKGTOK6WpNO"
      }
    },
    {
      "cell_type": "markdown",
      "source": [
        "<h2>Objective</h2>\n",
        "\n",
        "<p>The Introduction to Programming using Python Practice Lab will provide you with necessary skills with programming using Python.</p>\n",
        "<p>\n",
        "By completing the lab tasks, you will improve your practical skills in performing operations using data types and operators, controlling flow with decisions and loops, performing input and output operations, documenting and structuring code, performing troubleshooting and error handling and performing operations using modules and tools.</p>"
      ],
      "metadata": {
        "collapsed": false,
        "pycharm": {
          "name": "#%% md\n"
        },
        "id": "ZmH6tEQoWpNk"
      }
    },
    {
      "cell_type": "markdown",
      "source": [
        "<h2>For Loop</h2>\n",
        "<p>The for loop in Python is a control flow statement that is used for iterating over a sequence.<br>\n",
        "Syntax:<br>for <b>variable</b> in <b>sequence</b>:"
      ],
      "metadata": {
        "collapsed": false,
        "pycharm": {
          "name": "#%% md\n"
        },
        "id": "TRIDACLRWpNl"
      }
    },
    {
      "cell_type": "code",
      "execution_count": null,
      "outputs": [
        {
          "output_type": "stream",
          "name": "stdout",
          "text": [
            "5 X 1 = 5\n",
            "5 X 2 = 10\n",
            "5 X 3 = 15\n",
            "5 X 4 = 20\n",
            "5 X 5 = 25\n",
            "5 X 6 = 30\n",
            "5 X 7 = 35\n",
            "5 X 8 = 40\n",
            "5 X 9 = 45\n",
            "5 X 10 = 50\n"
          ]
        }
      ],
      "source": [
        "for i in range (1,11):\n",
        "    print(f\"{5} X {i} = {5*i}\")"
      ],
      "metadata": {
        "pycharm": {
          "name": "#%%\n"
        },
        "colab": {
          "base_uri": "https://localhost:8080/"
        },
        "id": "1g9O12uKWpNl",
        "outputId": "797f5b08-2914-4a41-b505-36cbb469c9c3"
      }
    },
    {
      "cell_type": "markdown",
      "source": [
        "<h2>Conditional Statement</h2>\n",
        "<p>The conditional statement in Python allows to control the flow of program based on certain condition.<br>\n",
        "Syntax:<br>if <b>condition</b>:"
      ],
      "metadata": {
        "collapsed": false,
        "pycharm": {
          "name": "#%% md\n"
        },
        "id": "VVVX5lKHWpNn"
      }
    },
    {
      "cell_type": "code",
      "execution_count": null,
      "outputs": [
        {
          "output_type": "stream",
          "name": "stdout",
          "text": [
            "x is not greater than 5\n"
          ]
        }
      ],
      "source": [
        "x = 3\n",
        "\n",
        "if x > 5:\n",
        "    print(\"x is greater than 5\")\n",
        "else:\n",
        "    print(\"x is not greater than 5\")"
      ],
      "metadata": {
        "pycharm": {
          "name": "#%%\n"
        },
        "colab": {
          "base_uri": "https://localhost:8080/"
        },
        "id": "hsc3rw9fWpNo",
        "outputId": "cc1144bc-189e-4be8-fb4a-25ff00e386c9"
      }
    },
    {
      "cell_type": "markdown",
      "source": [
        "<h2>Lab Tasks</h2>"
      ],
      "metadata": {
        "collapsed": false,
        "pycharm": {
          "name": "#%% md\n"
        },
        "id": "gWBvMo4iWpNp"
      }
    },
    {
      "cell_type": "markdown",
      "source": [
        "<h3>Task 1: Write a code that takes the input from User, calculate Factorial and print the answer.</h3>"
      ],
      "metadata": {
        "collapsed": false,
        "pycharm": {
          "name": "#%% md\n"
        },
        "id": "UJpzqjaxWpNu"
      }
    },
    {
      "cell_type": "code",
      "execution_count": null,
      "outputs": [
        {
          "output_type": "stream",
          "name": "stdout",
          "text": [
            "Enter a number to calculate its factorial: 3\n",
            "The factorial of 3 is: 6\n"
          ]
        }
      ],
      "source": [
        "def factorial(n):\n",
        "    if n == 0:\n",
        "        return 1\n",
        "    else:\n",
        "        return n * factorial(n-1)\n",
        "\n",
        "try:\n",
        "    num = int(input(\"Enter a number to calculate its factorial: \"))\n",
        "    if num < 0:\n",
        "        print(\"Factorial is not defined for negative numbers.\")\n",
        "    else:\n",
        "        result = factorial(num)\n",
        "        print(f\"The factorial of {num} is: {result}\")\n",
        "except ValueError:\n",
        "    print(\"Please enter a valid integer.\")"
      ],
      "metadata": {
        "pycharm": {
          "name": "#%%\n"
        },
        "colab": {
          "base_uri": "https://localhost:8080/"
        },
        "id": "2gk2qWG8WpNu",
        "outputId": "8b0cdce6-9a5a-4f6c-be13-47b23c64451d"
      }
    },
    {
      "cell_type": "markdown",
      "source": [
        "<h3>Task 2: Write a code that takes the input from User, check the value is even positive, Even Negative, Odd Positive or Odd Negative.</h3>"
      ],
      "metadata": {
        "collapsed": false,
        "pycharm": {
          "name": "#%% md\n"
        },
        "id": "2WwoUBP5WpNv"
      }
    },
    {
      "cell_type": "code",
      "execution_count": null,
      "outputs": [
        {
          "output_type": "stream",
          "name": "stdout",
          "text": [
            "Enter a number: 4\n",
            "Even Positive\n"
          ]
        }
      ],
      "source": [
        "try:\n",
        "    num = int(input(\"Enter a number: \"))\n",
        "\n",
        "    if num > 0:\n",
        "        if num % 2 == 0:\n",
        "            print(\"Even Positive\")\n",
        "        else:\n",
        "            print(\"Odd Positive\")\n",
        "    elif num < 0:\n",
        "        if num % 2 == 0:\n",
        "            print(\"Even Negative\")\n",
        "        else:\n",
        "            print(\"Odd Negative\")\n",
        "    else:\n",
        "        print(\"Zero is neither positive nor negative.\")\n",
        "except ValueError:\n",
        "    print(\"Please enter a valid integer.\")"
      ],
      "metadata": {
        "pycharm": {
          "name": "#%%\n"
        },
        "colab": {
          "base_uri": "https://localhost:8080/"
        },
        "id": "_YBfJkgHWpNv",
        "outputId": "67dbc736-4b8f-4ae3-83bf-558dc6517d5b"
      }
    },
    {
      "cell_type": "markdown",
      "source": [
        "<h3>Task 3:Create a program that calculates the average grade for a list of students. The program should perform the following tasks:</h3>\n",
        "\n",
        "Ask the user for the number of students they want to calculate grades for at least 3.\n",
        "\n",
        "For each student:\n",
        "\n",
        "1. Prompt the user to enter the student's name.\n",
        "2. Use a for loop to iterate through a predefined set of subjects (e.g., Math, Science, English).\n",
        "3. For each subject, ask the user to input the grade (assume grades are on a scale of 0 to 100).\n",
        "4. Calculate the average grade for each student.\n",
        "\n",
        "Use a conditional statement to determine the overall grade for each student based on the average:\n",
        "1. If the average is 90 or above, assign the grade 'A'.\n",
        "2. If the average is between 80 and 89, assign the grade 'B'.\n",
        "3. If the average is between 70 and 79, assign the grade 'C'.\n",
        "4. If the average is between 60 and 69, assign the grade 'D'.\n",
        "5. If the average is below 60, assign the grade 'F'.\n",
        "\n",
        "Store the student names, their average grades, and corresponding letter grades in a list of dictionaries.\n",
        "\n",
        "Create a function named display_results that takes the list of dictionaries as an argument and prints out the results in a readable format, including each student's name, average grade, and letter grade."
      ],
      "metadata": {
        "collapsed": false,
        "pycharm": {
          "name": "#%% md\n"
        },
        "id": "zedARy2-WpNw"
      }
    },
    {
      "cell_type": "markdown",
      "source": [
        "# <img src=\"Results.png\">"
      ],
      "metadata": {
        "collapsed": false,
        "pycharm": {
          "name": "#%% md\n"
        },
        "id": "gqkn4KzDWpNw"
      }
    },
    {
      "cell_type": "code",
      "execution_count": null,
      "outputs": [
        {
          "output_type": "stream",
          "name": "stdout",
          "text": [
            "Enter the number of students (at least 3): 3\n",
            "Enter student 1 name: Ahmed\n",
            "Enter Ahmed's grade in Math: 95\n",
            "Enter Ahmed's grade in Science: 65\n",
            "Enter Ahmed's grade in English: 80\n",
            "Enter student 2 name: Majid\n",
            "Enter Majid's grade in Math: 50\n",
            "Enter Majid's grade in Science: 45\n",
            "Enter Majid's grade in English: 30\n",
            "Enter student 3 name: Aqib\n",
            "Enter Aqib's grade in Math: 70\n",
            "Enter Aqib's grade in Science: 90\n",
            "Enter Aqib's grade in English: 20\n",
            "\n",
            "Student Results:\n",
            "Name: Ahmed\n",
            "Average Grade: 80.00\n",
            "Letter Grade: B\n",
            "---\n",
            "Name: Majid\n",
            "Average Grade: 41.67\n",
            "Letter Grade: F\n",
            "---\n",
            "Name: Aqib\n",
            "Average Grade: 60.00\n",
            "Letter Grade: D\n",
            "---\n"
          ]
        }
      ],
      "source": [
        "def calculate_average_grade(num_students):\n",
        "\n",
        "  subjects = [\"Math\", \"Science\", \"English\"]\n",
        "  student_data = []\n",
        "\n",
        "  for i in range(num_students):\n",
        "    student_name = input(f\"Enter student {i + 1} name: \")\n",
        "    student_grades = {}\n",
        "    for subject in subjects:\n",
        "      while True:\n",
        "        try:\n",
        "          grade = int(input(f\"Enter {student_name}'s grade in {subject}: \"))\n",
        "          if 0 <= grade <= 100:\n",
        "            student_grades[subject] = grade\n",
        "            break\n",
        "          else:\n",
        "            print(\"Invalid grade. Please enter a number between 0 and 100.\")\n",
        "        except ValueError:\n",
        "          print(\"Invalid input. Please enter a valid number.\")\n",
        "\n",
        "    total_grade = sum(student_grades.values())\n",
        "    average_grade = total_grade / len(subjects)\n",
        "\n",
        "    if average_grade >= 90:\n",
        "      letter_grade = \"A\"\n",
        "    elif average_grade >= 80:\n",
        "      letter_grade = \"B\"\n",
        "    elif average_grade >= 70:\n",
        "      letter_grade = \"C\"\n",
        "    elif average_grade >= 60:\n",
        "      letter_grade = \"D\"\n",
        "    else:\n",
        "      letter_grade = \"F\"\n",
        "\n",
        "    student_data.append({\n",
        "      \"name\": student_name,\n",
        "      \"average_grade\": average_grade,\n",
        "      \"letter_grade\": letter_grade\n",
        "    })\n",
        "\n",
        "  return student_data\n",
        "\n",
        "def display_results(student_data):\n",
        "\n",
        "  print(\"\\nStudent Results:\")\n",
        "  for student in student_data:\n",
        "    print(f\"Name: {student['name']}\")\n",
        "    print(f\"Average Grade: {student['average_grade']:.2f}\")\n",
        "    print(f\"Letter Grade: {student['letter_grade']}\")\n",
        "    print(\"---\")\n",
        "\n",
        "# Get the number of students from the user\n",
        "while True:\n",
        "  try:\n",
        "    num_students = int(input(\"Enter the number of students (at least 3): \"))\n",
        "    if num_students >= 3:\n",
        "      break\n",
        "    else:\n",
        "      print(\"Please enter a number greater than or equal to 3.\")\n",
        "  except ValueError:\n",
        "    print(\"Invalid input. Please enter a valid number.\")\n",
        "\n",
        "# Calculate and display the results\n",
        "student_data = calculate_average_grade(num_students)\n",
        "display_results(student_data)\n"
      ],
      "metadata": {
        "pycharm": {
          "name": "#%%\n"
        },
        "colab": {
          "base_uri": "https://localhost:8080/"
        },
        "id": "43x00KOEWpNz",
        "outputId": "296c9091-42d8-412e-f449-b3b71b10d53d"
      }
    },
    {
      "cell_type": "markdown",
      "source": [
        "<h3>Conclusions</h3>"
      ],
      "metadata": {
        "collapsed": false,
        "pycharm": {
          "name": "#%% md\n"
        },
        "id": "Ny30a3BOWpN1"
      }
    },
    {
      "cell_type": "markdown",
      "source": [
        "In this AI lab, we implemented three Python programs to demonstrate essential programming concepts:\n",
        "\n",
        "**Factorial Calculation:** Developed a program to compute the factorial of a user-input number using recursion, ensuring input validation.\n",
        "\n",
        "**Number Classification:** Created a program to classify user-entered numbers as even positive, even negative, odd positive, or odd negative, employing conditional statements for classification.\n",
        "\n",
        "**Student Grade Calculation:** Designed a program to calculate and classify average grades for a list of students, utilizing loops, conditional statements, and data structures to organize and present the results effectively.\n",
        "\n",
        "These exercises provided practical experience in Python programming, covering user input handling, looping, conditional logic, and data organization. Such skills are crucial for building AI systems, where data processing and decision-making are central. Overall, this lab session served as a foundational step in understanding programming fundamentals applicable to AI development."
      ],
      "metadata": {
        "collapsed": false,
        "pycharm": {
          "name": "#%% md\n"
        },
        "id": "al2nv0bkaRUs"
      }
    }
  ],
  "metadata": {
    "kernelspec": {
      "display_name": "Python 3",
      "language": "python",
      "name": "python3"
    },
    "language_info": {
      "codemirror_mode": {
        "name": "ipython",
        "version": 2
      },
      "file_extension": ".py",
      "mimetype": "text/x-python",
      "name": "python",
      "nbconvert_exporter": "python",
      "pygments_lexer": "ipython2",
      "version": "2.7.6"
    },
    "colab": {
      "provenance": [],
      "include_colab_link": true
    }
  },
  "nbformat": 4,
  "nbformat_minor": 0
}