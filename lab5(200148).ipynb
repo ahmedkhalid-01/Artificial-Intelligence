{
  "cells": [
    {
      "cell_type": "markdown",
      "metadata": {
        "id": "view-in-github",
        "colab_type": "text"
      },
      "source": [
        "<a href=\"https://colab.research.google.com/github/ahmedkhalid-01/Artificial-Intelligence/blob/main/lab5(200148).ipynb\" target=\"_parent\"><img src=\"https://colab.research.google.com/assets/colab-badge.svg\" alt=\"Open In Colab\"/></a>"
      ]
    },
    {
      "cell_type": "code",
      "execution_count": null,
      "metadata": {
        "id": "asTkXavr6Prd"
      },
      "outputs": [],
      "source": [
        "import math"
      ]
    },
    {
      "cell_type": "code",
      "execution_count": null,
      "metadata": {
        "id": "EL8kqmnD6Prh"
      },
      "outputs": [],
      "source": [
        "# Constants for the players\n",
        "EMPTY = ' '\n",
        "PLAYER_X = 'X'\n",
        "PLAYER_O = 'O'"
      ]
    },
    {
      "cell_type": "code",
      "execution_count": null,
      "metadata": {
        "id": "MrmhT-4I6Prh"
      },
      "outputs": [],
      "source": [
        "# Function to print the Tic-Tac-Toe board\n",
        "def print_board(board):\n",
        "    for row in board:\n",
        "        print('|'.join(row))\n",
        "        print('-' * 5)"
      ]
    },
    {
      "cell_type": "code",
      "execution_count": null,
      "metadata": {
        "id": "S3izUoCw6Pri"
      },
      "outputs": [],
      "source": [
        "# Function to check if a player has won\n",
        "def check_winner(board, player):\n",
        "    # Check rows, columns, and diagonals\n",
        "    for i in range(3):\n",
        "        if all(board[i][j] == player for j in range(3)) or \\\n",
        "                all(board[j][i] == player for j in range(3)):\n",
        "            return True\n",
        "    if all(board[i][i] == player for i in range(3)) or \\\n",
        "            all(board[i][2 - i] == player for i in range(3)):\n",
        "        return True\n",
        "    return False"
      ]
    },
    {
      "cell_type": "code",
      "execution_count": null,
      "metadata": {
        "id": "mhSYay_M6Pri"
      },
      "outputs": [],
      "source": [
        "# Function to check if the game is over\n",
        "def game_over(board):\n",
        "    return check_winner(board, PLAYER_X) or check_winner(board, PLAYER_O) or \\\n",
        "           all(board[i][j] != EMPTY for i in range(3) for j in range(3))"
      ]
    },
    {
      "cell_type": "code",
      "execution_count": null,
      "metadata": {
        "id": "SdMCoP4v6Pri"
      },
      "outputs": [],
      "source": [
        "# Function to evaluate the board\n",
        "def evaluate(board):\n",
        "    if check_winner(board, PLAYER_X):\n",
        "        return 1\n",
        "    elif check_winner(board, PLAYER_O):\n",
        "        return -1\n",
        "    else:\n",
        "        return 0"
      ]
    },
    {
      "cell_type": "code",
      "execution_count": null,
      "metadata": {
        "id": "Xo4vXME_6Prj"
      },
      "outputs": [],
      "source": [
        "def minimax(board, depth, maximizing):\n",
        "    if game_over(board) or depth == 0:\n",
        "        return evaluate(board)\n",
        "\n",
        "    if maximizing:\n",
        "        max_eval = -math.inf\n",
        "        for i in range(3):\n",
        "            for j in range(3):\n",
        "                if board[i][j] == EMPTY:\n",
        "                    board[i][j] = PLAYER_X\n",
        "                    eval = minimax(board, depth - 1, False)\n",
        "                    board[i][j] = EMPTY\n",
        "                    max_eval = max(max_eval, eval)\n",
        "        return max_eval\n",
        "    else:\n",
        "        min_eval = math.inf\n",
        "        for i in range(3):\n",
        "            for j in range(3):\n",
        "                if board[i][j] == EMPTY:\n",
        "                    board[i][j] = PLAYER_O\n",
        "                    eval = minimax(board, depth - 1, True)\n",
        "                    board[i][j] = EMPTY\n",
        "                    min_eval = min(min_eval, eval)\n",
        "        return min_eval"
      ]
    },
    {
      "cell_type": "code",
      "execution_count": null,
      "metadata": {
        "id": "fvpL6uq76Prj"
      },
      "outputs": [],
      "source": [
        "# Function to find the best move using Minimax\n",
        "def find_best_move(board):\n",
        "    best_eval = -math.inf\n",
        "    best_move = None\n",
        "    for i in range(3):\n",
        "        for j in range(3):\n",
        "            if board[i][j] == EMPTY:\n",
        "                board[i][j] = PLAYER_X\n",
        "                eval = minimax(board, 10, False)  # depth can be adjusted\n",
        "                board[i][j] = EMPTY\n",
        "                if eval > best_eval:\n",
        "                    best_eval = eval\n",
        "                    best_move = (i, j)\n",
        "    return best_move"
      ]
    },
    {
      "cell_type": "code",
      "execution_count": null,
      "metadata": {
        "colab": {
          "background_save": true,
          "base_uri": "https://localhost:8080/"
        },
        "id": "Ck7P8zgF6Prj",
        "outputId": "53c3f6cc-a541-44b5-fd47-e1ad4d5732a2"
      },
      "outputs": [
        {
          "name": "stdout",
          "output_type": "stream",
          "text": [
            " | | \n",
            "-----\n",
            " | | \n",
            "-----\n",
            " | | \n",
            "-----\n",
            " | | \n",
            "-----\n",
            " |O| \n",
            "-----\n",
            " | | \n",
            "-----\n",
            "Computer is making a move...\n",
            "X| | \n",
            "-----\n",
            " |O| \n",
            "-----\n",
            " | | \n",
            "-----\n"
          ]
        }
      ],
      "source": [
        "\n",
        "board = [[EMPTY] * 3 for _ in range(3)]\n",
        "print_board(board)\n",
        "while not game_over(board):\n",
        "    x, y = map(int, input(\"Enter your move (row column): \").split())\n",
        "    if board[x][y] != EMPTY:\n",
        "        print(\"Invalid move. Try again.\")\n",
        "        continue\n",
        "    board[x][y] = PLAYER_O\n",
        "    print_board(board)\n",
        "    if game_over(board):\n",
        "        break\n",
        "    print(\"Computer is making a move...\")\n",
        "    x, y = find_best_move(board)\n",
        "    board[x][y] = PLAYER_X\n",
        "    print_board(board)\n",
        "if check_winner(board, PLAYER_X):\n",
        "    print(\"Computer wins!\")\n",
        "elif check_winner(board, PLAYER_O):\n",
        "    print(\"You win!\")\n",
        "else:\n",
        "    print(\"It's a draw!\")"
      ]
    },
    {
      "cell_type": "code",
      "execution_count": null,
      "metadata": {
        "id": "vGF_jj6u6Prk"
      },
      "outputs": [],
      "source": []
    }
  ],
  "metadata": {
    "colab": {
      "provenance": [],
      "include_colab_link": true
    },
    "kernelspec": {
      "display_name": "Python 3",
      "language": "python",
      "name": "python3"
    },
    "language_info": {
      "codemirror_mode": {
        "name": "ipython",
        "version": 2
      },
      "file_extension": ".py",
      "mimetype": "text/x-python",
      "name": "python",
      "nbconvert_exporter": "python",
      "pygments_lexer": "ipython2",
      "version": "2.7.6"
    }
  },
  "nbformat": 4,
  "nbformat_minor": 0
}