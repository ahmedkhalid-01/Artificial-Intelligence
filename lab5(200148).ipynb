{
  "nbformat": 4,
  "nbformat_minor": 0,
  "metadata": {
    "colab": {
      "provenance": []
    },
    "kernelspec": {
      "name": "python3",
      "display_name": "Python 3"
    },
    "language_info": {
      "name": "python"
    }
  },
  "cells": [
    {
      "cell_type": "markdown",
      "source": [
        "<h1 align='left' >AIR UNIVERSITY</h1>\n",
        "<h1 align='left' >Department of Electrical and Computer Engineering</h1>\n",
        "<h1 align='left' >Lab # 05: Tic-Tac-Toe</h1>\n",
        "<h2 align='left' >Lab Instructor: Muhammad Awais</h2>"
      ],
      "metadata": {
        "collapsed": false,
        "pycharm": {
          "name": "#%% md\n"
        },
        "id": "lS1Ot34NAugT"
      }
    },
    {
      "cell_type": "markdown",
      "source": [
        "<h3>Tic-Tac-Toe in Artificial Intelligence</h3>\n",
        "<p>\n",
        "The development of a Tic Tac Toe game presents an excellent opportunity to delve into the realms of artificial intelligence (AI) and computer science principles, particularly constraint satisfaction problems (CSPs). In this lab task, we aim to create a single-player Tic Tac Toe game where the player competes against an AI opponent. Through this project, we will implement various AI techniques, including the Minimax algorithm, to enable the AI to make strategic decisions in the game. By leveraging these AI concepts, we seek to enhance the gameplay experience and provide a challenging opponent for players to compete against."
      ],
      "metadata": {
        "collapsed": false,
        "pycharm": {
          "name": "#%% md\n"
        },
        "id": "IXo1UhVcAugX"
      }
    },
    {
      "cell_type": "markdown",
      "source": [
        "<h2>Tic-Tac-Toe</h2>\n"
      ],
      "metadata": {
        "collapsed": false,
        "pycharm": {
          "name": "#%% md\n"
        },
        "id": "TkW8PRMRAugY"
      }
    },
    {
      "cell_type": "code",
      "source": [
        "import math\n",
        "\n",
        "Player_X = 'X'\n",
        "Player_O = 'O'\n",
        "EMPTY = ' '\n",
        "\n",
        "def print_board(board):\n",
        "    for row in board:\n",
        "        print(\" | \".join(row))\n",
        "        print(\"-\" * 9)"
      ],
      "metadata": {
        "id": "0BUG9fIw78SC"
      },
      "execution_count": 36,
      "outputs": []
    },
    {
      "cell_type": "code",
      "source": [
        "import math\n",
        "\n",
        "Player_X = 'X'\n",
        "Player_O = 'O'\n",
        "EMPTY = ' '\n",
        "\n",
        "def print_board(board):\n",
        "    for row in board:\n",
        "        print(\" | \".join(row))\n",
        "        print(\"-\" * 9)"
      ],
      "metadata": {
        "id": "EltiNwLo8Dxq"
      },
      "execution_count": 35,
      "outputs": []
    },
    {
      "cell_type": "code",
      "source": [
        "def check_winner(board, player):\n",
        "    for i in range(3):\n",
        "        if all(board[i][j] == player for j in range(3)) or all(board[j][i] == player for j in range(3)):\n",
        "            return True\n",
        "    if all(board[i][i] == player for i in range(3)) or all(board[i][2 - i] == player for i in range(3)):\n",
        "        return True\n",
        "    return False"
      ],
      "metadata": {
        "id": "mHCtyweNfg8h"
      },
      "execution_count": 29,
      "outputs": []
    },
    {
      "cell_type": "code",
      "source": [
        "def game_over(board):\n",
        "  return check_winner(board, Player_X) or check_winner(board, Player_O) or \\\n",
        "  all(board[i][j] != EMPTY for i in range(3) for j in range(3))"
      ],
      "metadata": {
        "id": "-gqGE1vMigAO"
      },
      "execution_count": 30,
      "outputs": []
    },
    {
      "cell_type": "code",
      "source": [
        "def evaluate(board):\n",
        "  if check_winner(board, Player_X):\n",
        "    return 1\n",
        "  elif check_winner(board, Player_O):\n",
        "    return -1\n",
        "  else:\n",
        "    return 0"
      ],
      "metadata": {
        "id": "XW2ummp2kyUV"
      },
      "execution_count": 31,
      "outputs": []
    },
    {
      "cell_type": "code",
      "source": [
        "def minimax(board, depth, maximizing):\n",
        "    if game_over(board) or depth == 0:\n",
        "        return evaluate(board)\n",
        "\n",
        "    if maximizing:\n",
        "        max_eval = -math.inf\n",
        "        for i in range(3):\n",
        "            for j in range(3):\n",
        "                if board[i][j] == EMPTY:\n",
        "                    board[i][j] = Player_X\n",
        "                    eval = minimax(board, depth - 1, False)\n",
        "                    board[i][j] = EMPTY\n",
        "                    max_eval = max(max_eval, eval)\n",
        "        return max_eval\n",
        "    else:\n",
        "        min_eval = math.inf\n",
        "        for i in range(3):\n",
        "            for j in range(3):\n",
        "                if board[i][j] == EMPTY:\n",
        "                    board[i][j] = Player_O\n",
        "                    eval = minimax(board, depth - 1, True)\n",
        "                    board[i][j] = EMPTY\n",
        "                    min_eval = min(min_eval, eval)\n",
        "        return min_eval"
      ],
      "metadata": {
        "id": "ErM0A9S9ldAP"
      },
      "execution_count": 32,
      "outputs": []
    },
    {
      "cell_type": "code",
      "source": [
        "def find_best_move(board):\n",
        "    best_eval = -math.inf\n",
        "    best_move = None\n",
        "    for i in range(3):\n",
        "        for j in range(3):\n",
        "            if board[i][j] == EMPTY:\n",
        "                board[i][j] = Player_X\n",
        "                eval = minimax(board, 10, False)  # depth can be adjusted\n",
        "                board[i][j] = EMPTY\n",
        "                if eval > best_eval:\n",
        "                    best_eval = eval\n",
        "                    best_move = (i, j)\n",
        "    return best_move"
      ],
      "metadata": {
        "id": "KEEmKtidoyLV"
      },
      "execution_count": 33,
      "outputs": []
    },
    {
      "cell_type": "code",
      "source": [
        "board = [[EMPTY] * 3 for _ in range(3)]\n",
        "print_board(board)\n",
        "while not game_over(board):\n",
        "    x, y = map(int, input(\"Enter your move (row column): \").split())\n",
        "    if board[x][y] != EMPTY:\n",
        "        print(\"Invalid move. Try again.\")\n",
        "        continue\n",
        "    board[x][y] = Player_O\n",
        "    print_board(board)\n",
        "    if game_over(board):\n",
        "        break\n",
        "    print(\"AI is thinking...\")\n",
        "    x, y = find_best_move(board)\n",
        "    board[x][y] = Player_X\n",
        "    print_board(board)\n",
        "if check_winner(board, Player_X):\n",
        "    print(\"AI wins!\")\n",
        "elif check_winner(board, Player_O):\n",
        "    print(\"You win!\")\n",
        "else:\n",
        "    print(\"It's a draw!\")"
      ],
      "metadata": {
        "colab": {
          "base_uri": "https://localhost:8080/"
        },
        "id": "ZVeAN3c766zg",
        "outputId": "2d3b205a-e7c8-41a0-91e4-44baf8f69e1e"
      },
      "execution_count": 34,
      "outputs": [
        {
          "output_type": "stream",
          "name": "stdout",
          "text": [
            "  |   |  \n",
            "---------\n",
            "  |   |  \n",
            "---------\n",
            "  |   |  \n",
            "---------\n",
            "Enter your move (row column): 1 1\n",
            "  |   |  \n",
            "---------\n",
            "  | O |  \n",
            "---------\n",
            "  |   |  \n",
            "---------\n",
            "AI is thinking...\n",
            "X |   |  \n",
            "---------\n",
            "  | O |  \n",
            "---------\n",
            "  |   |  \n",
            "---------\n",
            "Enter your move (row column): 0 2\n",
            "X |   | O\n",
            "---------\n",
            "  | O |  \n",
            "---------\n",
            "  |   |  \n",
            "---------\n",
            "AI is thinking...\n",
            "X |   | O\n",
            "---------\n",
            "  | O |  \n",
            "---------\n",
            "X |   |  \n",
            "---------\n",
            "Enter your move (row column): 1 0\n",
            "X |   | O\n",
            "---------\n",
            "O | O |  \n",
            "---------\n",
            "X |   |  \n",
            "---------\n",
            "AI is thinking...\n",
            "X |   | O\n",
            "---------\n",
            "O | O | X\n",
            "---------\n",
            "X |   |  \n",
            "---------\n",
            "Enter your move (row column): 0 1\n",
            "X | O | O\n",
            "---------\n",
            "O | O | X\n",
            "---------\n",
            "X |   |  \n",
            "---------\n",
            "AI is thinking...\n",
            "X | O | O\n",
            "---------\n",
            "O | O | X\n",
            "---------\n",
            "X | X |  \n",
            "---------\n",
            "Enter your move (row column): 2 2\n",
            "X | O | O\n",
            "---------\n",
            "O | O | X\n",
            "---------\n",
            "X | X | O\n",
            "---------\n",
            "It's a draw!\n"
          ]
        }
      ]
    },
    {
      "cell_type": "markdown",
      "source": [
        "<h3>Conclusion</h3>\n",
        "<p>"
      ],
      "metadata": {
        "collapsed": false,
        "pycharm": {
          "name": "#%% md\n"
        },
        "id": "Xoms38G0Augf"
      }
    },
    {
      "cell_type": "markdown",
      "source": [
        "\n",
        "In conclusion, the development of the Tic Tac Toe game with AI has been a rewarding exercise in applying AI and computer science principles to create an engaging and challenging gaming experience. Through the implementation of the Minimax algorithm, we have successfully empowered the AI opponent to make intelligent moves based on strategic analysis of the game state. This project not only demonstrates the practical applications of AI in game development but also serves as a valuable learning experience in problem-solving, algorithm design, and programming. As we reflect on the journey of building this game, we recognize the potential for further refinement and expansion, paving the way for future exploration into advanced AI techniques and game development endeavors."
      ],
      "metadata": {
        "id": "5TU4vdgqRGJb"
      }
    }
  ]
}