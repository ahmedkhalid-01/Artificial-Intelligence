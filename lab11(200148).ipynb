{
  "nbformat": 4,
  "nbformat_minor": 0,
  "metadata": {
    "colab": {
      "provenance": []
    },
    "kernelspec": {
      "name": "python3",
      "display_name": "Python 3"
    },
    "language_info": {
      "name": "python"
    }
  },
  "cells": [
    {
      "cell_type": "markdown",
      "source": [
        "#Lab 11\n",
        "###Submitted by: Ahmed Khalid 200148\n",
        "###Submitted to: Sir Awais"
      ],
      "metadata": {
        "id": "BcRSquR0WVWr"
      }
    },
    {
      "cell_type": "markdown",
      "source": [
        "##Task done in Lab"
      ],
      "metadata": {
        "id": "RTPUjF4L5EMR"
      }
    },
    {
      "cell_type": "code",
      "execution_count": 1,
      "metadata": {
        "id": "IBcYWWEr9Ll3"
      },
      "outputs": [],
      "source": [
        "import random\n",
        "import numpy as np"
      ]
    },
    {
      "cell_type": "code",
      "source": [
        "data = np.array([[4,21], [4,17], [14,24], [12,21], [5,19], [3,16], [6,22], [10,24], [11,25], [10,21]])\n",
        "data = np.array(data)\n",
        "K = 2"
      ],
      "metadata": {
        "id": "YSYcAF3vEByu"
      },
      "execution_count": 2,
      "outputs": []
    },
    {
      "cell_type": "code",
      "source": [
        "def distance(point1, point2):\n",
        "    return np.sqrt(np.sum((point1 - point2) ** 2))"
      ],
      "metadata": {
        "id": "qzwcoPXREYFc"
      },
      "execution_count": 3,
      "outputs": []
    },
    {
      "cell_type": "code",
      "source": [
        "num_points = data.shape[0]\n",
        "\n",
        "initial_indices = random.sample(range(num_points), K)\n",
        "centroids = data[initial_indices]"
      ],
      "metadata": {
        "id": "nkmtImmPFQWR"
      },
      "execution_count": 4,
      "outputs": []
    },
    {
      "cell_type": "code",
      "source": [
        "def assign_clusters(data, centroids):\n",
        "    clusters = [[] for _ in range(K)]\n",
        "    for point in data:\n",
        "        distances = [distance(point, centroid) for centroid in centroids]\n",
        "        closest_centroid = np.argmin(distances)\n",
        "        clusters[closest_centroid].append(point)\n",
        "    return clusters"
      ],
      "metadata": {
        "id": "2CH2u1xpFSG5"
      },
      "execution_count": 5,
      "outputs": []
    },
    {
      "cell_type": "code",
      "source": [
        "def update_centroids(clusters):\n",
        "    new_centroids = []\n",
        "    for cluster in clusters:\n",
        "        new_centroid = np.mean(cluster, axis=0) if cluster else np.array([0,0])\n",
        "        new_centroids.append(new_centroid)\n",
        "    return np.array(new_centroids)"
      ],
      "metadata": {
        "id": "uZVUlGWIFmbp"
      },
      "execution_count": 6,
      "outputs": []
    },
    {
      "cell_type": "code",
      "source": [
        "def kmeans(data, centroids, max_iters=100):\n",
        "    for i in range(max_iters):\n",
        "        clusters = assign_clusters(data, centroids)\n",
        "        new_centroids = update_centroids(clusters)\n",
        "\n",
        "        if np.all(centroids == new_centroids):\n",
        "            print(f\"Converged after {i+1} iterations\")\n",
        "            break\n",
        "\n",
        "        centroids = new_centroids\n",
        "\n",
        "    return centroids, clusters"
      ],
      "metadata": {
        "id": "6ANRwakDFoZi"
      },
      "execution_count": 7,
      "outputs": []
    },
    {
      "cell_type": "code",
      "source": [
        "final_centroids, final_clusters = kmeans(data, centroids)\n",
        "\n",
        "print(\"Final centroids:\\n\", final_centroids.tolist())\n",
        "for idx, cluster in enumerate(final_clusters):\n",
        "    print(f\"Cluster {idx+1}:\\n\", np.array(cluster).tolist())"
      ],
      "metadata": {
        "colab": {
          "base_uri": "https://localhost:8080/"
        },
        "id": "ezC1Xew8FrjE",
        "outputId": "b796acc2-fe8b-4974-d00f-39b745262437"
      },
      "execution_count": 8,
      "outputs": [
        {
          "output_type": "stream",
          "name": "stdout",
          "text": [
            "Converged after 2 iterations\n",
            "Final centroids:\n",
            " [[11.4, 23.0], [4.4, 19.0]]\n",
            "Cluster 1:\n",
            " [[14, 24], [12, 21], [10, 24], [11, 25], [10, 21]]\n",
            "Cluster 2:\n",
            " [[4, 21], [4, 17], [5, 19], [3, 16], [6, 22]]\n"
          ]
        }
      ]
    },
    {
      "cell_type": "markdown",
      "source": [
        "##Task done at home using penguins dataset"
      ],
      "metadata": {
        "id": "p0HjLbFc5Gdc"
      }
    },
    {
      "cell_type": "code",
      "source": [
        "# Import Required Packages\n",
        "import pandas as pd\n",
        "import matplotlib.pyplot as plt\n",
        "from sklearn.decomposition import PCA\n",
        "from sklearn.cluster import KMeans\n",
        "from sklearn.preprocessing import StandardScaler\n",
        "import numpy as np\n",
        "import random"
      ],
      "metadata": {
        "id": "n666pCsMPeAA"
      },
      "execution_count": 10,
      "outputs": []
    },
    {
      "cell_type": "code",
      "source": [
        "# Load Dataset\n",
        "penguins_df = pd.read_csv(\"penguins.csv\")\n",
        "\n",
        "# Loading and examining the dataset\n",
        "print(penguins_df.head())"
      ],
      "metadata": {
        "colab": {
          "base_uri": "https://localhost:8080/"
        },
        "id": "1Q429kqh5NDE",
        "outputId": "c17a97b9-ddab-49ac-a852-cca150b60577"
      },
      "execution_count": 11,
      "outputs": [
        {
          "output_type": "stream",
          "name": "stdout",
          "text": [
            "   culmen_length_mm  culmen_depth_mm  flipper_length_mm  body_mass_g     sex\n",
            "0              39.1             18.7              181.0       3750.0    MALE\n",
            "1              39.5             17.4              186.0       3800.0  FEMALE\n",
            "2              40.3             18.0              195.0       3250.0  FEMALE\n",
            "3               NaN              NaN                NaN          NaN     NaN\n",
            "4              36.7             19.3              193.0       3450.0  FEMALE\n"
          ]
        }
      ]
    },
    {
      "cell_type": "code",
      "source": [
        "# Dealing with null values and outliers\n",
        "penguins_df.boxplot()\n",
        "plt.show()"
      ],
      "metadata": {
        "colab": {
          "base_uri": "https://localhost:8080/",
          "height": 430
        },
        "id": "itYKm7Cx5QxK",
        "outputId": "5904abd5-3c4b-49c1-c9c5-c20711b680b5"
      },
      "execution_count": 12,
      "outputs": [
        {
          "output_type": "display_data",
          "data": {
            "text/plain": [
              "<Figure size 640x480 with 1 Axes>"
            ],
            "image/png": "[encoded data removed]"
          },
          "metadata": {}
        }
      ]
    },
    {
      "cell_type": "code",
      "source": [
        "penguins_df = penguins_df.dropna()\n",
        "penguins_df[penguins_df[\"flipper_length_mm\"] > 4000]\n",
        "penguins_df[penguins_df[\"flipper_length_mm\"] < 0]\n",
        "penguins_clean = penguins_df.drop([9, 14])\n",
        "\n",
        "# Perform preprocessing steps on the dataset to create dummy variables\n",
        "df = pd.get_dummies(penguins_clean).drop(\"sex_.\", axis=1)\n",
        "print(df.head())"
      ],
      "metadata": {
        "colab": {
          "base_uri": "https://localhost:8080/"
        },
        "id": "cTSzvmKs5Wuu",
        "outputId": "821556b3-6d26-45a2-84b1-7b47988988d1"
      },
      "execution_count": 13,
      "outputs": [
        {
          "output_type": "stream",
          "name": "stdout",
          "text": [
            "   culmen_length_mm  culmen_depth_mm  flipper_length_mm  body_mass_g  \\\n",
            "0              39.1             18.7              181.0       3750.0   \n",
            "1              39.5             17.4              186.0       3800.0   \n",
            "2              40.3             18.0              195.0       3250.0   \n",
            "4              36.7             19.3              193.0       3450.0   \n",
            "5              39.3             20.6              190.0       3650.0   \n",
            "\n",
            "   sex_FEMALE  sex_MALE  \n",
            "0       False      True  \n",
            "1        True     False  \n",
            "2        True     False  \n",
            "4        True     False  \n",
            "5       False      True  \n"
          ]
        }
      ]
    },
    {
      "cell_type": "code",
      "source": [
        "# Perform preprocessing steps on the dataset - scaling\n",
        "scaler = StandardScaler()\n",
        "X = scaler.fit_transform(df)\n",
        "penguins_preprocessed = pd.DataFrame(data=X, columns=df.columns)\n",
        "print(penguins_preprocessed.head(10))"
      ],
      "metadata": {
        "colab": {
          "base_uri": "https://localhost:8080/"
        },
        "id": "m8RpNedT5bnS",
        "outputId": "0dead6c4-dbab-45ae-b060-16c568c31162"
      },
      "execution_count": 14,
      "outputs": [
        {
          "output_type": "stream",
          "name": "stdout",
          "text": [
            "   culmen_length_mm  culmen_depth_mm  flipper_length_mm  body_mass_g  \\\n",
            "0         -0.905520         0.793126          -1.428125    -0.569709   \n",
            "1         -0.831938         0.128503          -1.071522    -0.507579   \n",
            "2         -0.684775         0.435252          -0.429637    -1.191006   \n",
            "3         -1.347011         1.099875          -0.572278    -0.942487   \n",
            "4         -0.868729         1.764498          -0.786240    -0.693968   \n",
            "5         -0.942311         0.333002          -1.428125    -0.725033   \n",
            "6         -0.887125         1.253249          -0.429637     0.579691   \n",
            "7         -0.537611         0.230753          -1.356804    -1.253136   \n",
            "8         -0.997497         2.071247          -0.714919    -0.507579   \n",
            "9         -1.365406         0.333002          -1.142843    -0.631839   \n",
            "\n",
            "   sex_FEMALE  sex_MALE  \n",
            "0   -0.991031  0.997001  \n",
            "1    1.009050 -1.003008  \n",
            "2    1.009050 -1.003008  \n",
            "3    1.009050 -1.003008  \n",
            "4   -0.991031  0.997001  \n",
            "5    1.009050 -1.003008  \n",
            "6   -0.991031  0.997001  \n",
            "7    1.009050 -1.003008  \n",
            "8   -0.991031  0.997001  \n",
            "9    1.009050 -1.003008  \n"
          ]
        }
      ]
    },
    {
      "cell_type": "code",
      "source": [
        "# Perform PCA\n",
        "pca = PCA(n_components=None)\n",
        "dfx_pca = pca.fit(penguins_preprocessed)\n",
        "print(dfx_pca.explained_variance_ratio_)\n",
        "n_components = sum(dfx_pca.explained_variance_ratio_ > 0.1)\n",
        "pca = PCA(n_components=n_components)\n",
        "penguins_PCA = pca.fit_transform(penguins_preprocessed)\n",
        "print(n_components)"
      ],
      "metadata": {
        "colab": {
          "base_uri": "https://localhost:8080/"
        },
        "id": "HeXhnONA5foR",
        "outputId": "89abdd53-e347-4936-ab80-1cdcf2a4bded"
      },
      "execution_count": 15,
      "outputs": [
        {
          "output_type": "stream",
          "name": "stdout",
          "text": [
            "[0.51973484 0.34424041 0.08591863 0.03225427 0.01686049 0.00099136]\n",
            "2\n"
          ]
        }
      ]
    },
    {
      "cell_type": "code",
      "source": [
        "# Number of clusters\n",
        "K = 4\n",
        "\n",
        "# Function to compute the Euclidean distance between two points\n",
        "def distance(point1, point2):\n",
        "    return np.sqrt(np.sum((point1 - point2) ** 2))\n",
        "\n",
        "# Number of data points\n",
        "num_points = penguins_PCA.shape[0]\n",
        "\n",
        "# Randomly initialize centroids by selecting K data points\n",
        "initial_indices = random.sample(range(num_points), K)\n",
        "centroids = penguins_PCA[initial_indices]"
      ],
      "metadata": {
        "id": "yqE7yKrf5jXn"
      },
      "execution_count": 16,
      "outputs": []
    },
    {
      "cell_type": "code",
      "source": [
        "# Function to assign points to the nearest centroid\n",
        "def assign_clusters(data, centroids):\n",
        "    clusters = [[] for _ in range(K)]\n",
        "    for point in data:\n",
        "        distances = [distance(point, centroid) for centroid in centroids]\n",
        "        closest_centroid = np.argmin(distances)\n",
        "        clusters[closest_centroid].append(point)\n",
        "    return clusters"
      ],
      "metadata": {
        "id": "Baz1vvj25o_X"
      },
      "execution_count": 17,
      "outputs": []
    },
    {
      "cell_type": "code",
      "source": [
        "# Function to update centroids\n",
        "def update_centroids(clusters):\n",
        "    new_centroids = []\n",
        "    for cluster in clusters:\n",
        "        new_centroid = np.mean(cluster, axis=0) if cluster else np.array([0] * len(clusters[0]))\n",
        "        new_centroids.append(new_centroid)\n",
        "    return np.array(new_centroids)"
      ],
      "metadata": {
        "id": "IJVaQMyw5sRX"
      },
      "execution_count": 18,
      "outputs": []
    },
    {
      "cell_type": "code",
      "source": [
        "# Function to perform K-means clustering\n",
        "def kmeans(data, centroids, max_iters=100):\n",
        "    for i in range(max_iters):\n",
        "        clusters = assign_clusters(data, centroids)\n",
        "        new_centroids = update_centroids(clusters)\n",
        "\n",
        "        # Check for convergence\n",
        "        if np.all(centroids == new_centroids):\n",
        "            print(f\"Converged after {i+1} iterations\")\n",
        "            break\n",
        "\n",
        "        centroids = new_centroids\n",
        "\n",
        "    return centroids, clusters"
      ],
      "metadata": {
        "id": "bOe6BnK55uWc"
      },
      "execution_count": 19,
      "outputs": []
    },
    {
      "cell_type": "code",
      "source": [
        "# Run K-means clustering\n",
        "final_centroids, final_clusters = kmeans(penguins_PCA, centroids)\n",
        "\n",
        "# Plotting the clusters\n",
        "plt.scatter(penguins_PCA[:, 0], penguins_PCA[:, 1], c=KMeans(n_clusters=K).fit_predict(penguins_PCA), cmap='viridis')\n",
        "plt.scatter(final_centroids[:, 0], final_centroids[:, 1], marker='x', color='red', label='Centroids')\n",
        "plt.xlabel(\"First Principal Component\")\n",
        "plt.ylabel(\"Second Principal Component\")\n",
        "plt.title(f\"K-means Clustering (K={K})\")\n",
        "plt.legend()\n",
        "plt.show()\n",
        "\n",
        "# Print final centroids and clusters\n",
        "print(\"\\nFinal centroids:\\n\", final_centroids)\n",
        "for idx, cluster in enumerate(final_clusters):\n",
        "    print(f\"Cluster {idx+1}:\\n\", np.array(cluster))"
      ],
      "metadata": {
        "colab": {
          "base_uri": "https://localhost:8080/",
          "height": 1000
        },
        "id": "WTw0Qb7J5wbI",
        "outputId": "49f502b1-1f32-4b8f-b025-0f2c73ecfa1d"
      },
      "execution_count": 20,
      "outputs": [
        {
          "output_type": "stream",
          "name": "stdout",
          "text": [
            "Converged after 3 iterations\n"
          ]
        },
        {
          "output_type": "stream",
          "name": "stderr",
          "text": [
            "/usr/local/lib/python3.10/dist-packages/sklearn/cluster/_kmeans.py:870: FutureWarning: The default value of `n_init` will change from 10 to 'auto' in 1.4. Set the value of `n_init` explicitly to suppress the warning\n",
            "  warnings.warn(\n"
          ]
        },
        {
          "output_type": "display_data",
          "data": {
            "text/plain": [
              "<Figure size 640x480 with 1 Axes>"
            ],
            "image/png": "[encoded data removed]"
          },
          "metadata": {}
        },
        {
          "output_type": "stream",
          "name": "stdout",
          "text": [
            "\n",
            "Final centroids:\n",
            " [[-2.02559162  0.33725103]\n",
            " [ 0.29618153  2.27350811]\n",
            " [ 2.82671655  0.30596508]\n",
            " [ 0.25314985 -1.78195008]]\n",
            "Cluster 1:\n",
            " [[-1.9293044   0.4121497 ]\n",
            " [-1.95352479  0.3084854 ]\n",
            " [-2.28817761 -0.15827773]\n",
            " [-2.29152165  0.12644555]\n",
            " [-2.33416049  0.15078107]\n",
            " [-2.29097852  0.19172242]\n",
            " [-2.03556313  0.01409269]\n",
            " [-2.7868264  -0.14276205]\n",
            " [-2.80192041 -0.25463941]\n",
            " [-2.25960046 -0.14764826]\n",
            " [-2.35187589 -0.10802186]\n",
            " [-2.23509243  0.1561931 ]\n",
            " [-3.04481322 -0.44846709]\n",
            " [-2.49485913  0.32855442]\n",
            " [-2.20946064  0.215237  ]\n",
            " [-2.1372535   0.5712692 ]\n",
            " [-2.16582005 -0.07477592]\n",
            " [-2.72211005 -0.44061407]\n",
            " [-2.76587976 -0.06557282]\n",
            " [-2.74083453 -0.15451531]\n",
            " [-2.62934802  0.31844414]\n",
            " [-2.33397377  0.20191942]\n",
            " [-2.13533956  0.25063315]\n",
            " [-2.41393403  0.18461162]\n",
            " [-2.92081937 -0.07960675]\n",
            " [-2.13554517  0.31439783]\n",
            " [-2.87704097  0.28124726]\n",
            " [-2.63837943  0.33062618]\n",
            " [-2.20976996  0.43626328]\n",
            " [-2.82262097  0.1888527 ]\n",
            " [-2.12887198  0.81182706]\n",
            " [-2.49022642  0.51452888]\n",
            " [-2.52768109 -0.15090536]\n",
            " [-1.72088855  0.63802477]\n",
            " [-2.1834959   0.37624643]\n",
            " [-1.66100173  0.71070471]\n",
            " [-2.21226462  0.72599231]\n",
            " [-2.58190083  0.31700911]\n",
            " [-2.23186575 -0.05249662]\n",
            " [-2.25098929  0.25452835]\n",
            " [-2.32107936 -0.01193896]\n",
            " [-2.07976415  0.00514542]\n",
            " [-1.89176994  0.4517854 ]\n",
            " [-2.63224856  0.29641794]\n",
            " [-2.46724888  0.29265688]\n",
            " [-2.06432284  0.07700926]\n",
            " [-3.17968288  0.32462524]\n",
            " [-2.17142304  0.2920675 ]\n",
            " [-2.52182196  0.58567767]\n",
            " [-2.46797405 -0.03983583]\n",
            " [-1.57154798  0.73276768]\n",
            " [-2.57571436  0.25890724]\n",
            " [-1.54185748  0.93857914]\n",
            " [-2.07743919  0.33655107]\n",
            " [-1.95295968 -0.48603078]\n",
            " [-2.4700104   0.35752864]\n",
            " [-2.38289606  0.43331852]\n",
            " [-2.55410002  0.289269  ]\n",
            " [-2.40502502  0.249158  ]\n",
            " [-2.62673137  0.63372989]\n",
            " [-2.16237581  0.32573759]\n",
            " [-2.24843022  0.43364743]\n",
            " [-2.21317057  0.21628711]\n",
            " [-2.18401635  0.1053683 ]\n",
            " [-2.26042431  0.2605606 ]\n",
            " [-2.47346079  0.27852547]\n",
            " [-2.3439731   0.53610724]\n",
            " [-1.86250848  0.57921378]\n",
            " [-2.7738484   0.74912482]\n",
            " [-2.35755597  0.50848231]\n",
            " [-2.51599691 -0.07000269]\n",
            " [-2.15466643  0.34289339]\n",
            " [-2.21399758  0.4442698 ]\n",
            " [-1.39425549  0.43908396]\n",
            " [-1.66791179  0.08772751]\n",
            " [-0.9998974   0.6835403 ]\n",
            " [-2.08810818 -0.02662879]\n",
            " [-1.00084185  0.33358421]\n",
            " [-1.15411153  0.56340938]\n",
            " [-1.41906296  0.52819516]\n",
            " [-1.39874355  0.65252303]\n",
            " [-0.71682231  0.47436572]\n",
            " [-1.55884759  0.16286039]\n",
            " [-1.98715133  0.33771407]\n",
            " [-2.10417841  0.54038587]\n",
            " [-1.4020744   0.46211039]\n",
            " [-0.90403483  0.5042096 ]\n",
            " [-1.30187815  0.49295449]\n",
            " [-2.09825315  0.56994231]\n",
            " [-1.88346561  0.60102267]\n",
            " [-0.73272165  1.04666659]\n",
            " [-1.01434459  0.4796782 ]\n",
            " [-1.7636398   0.66786148]\n",
            " [-1.46230508  0.48407142]\n",
            " [-1.26463046  0.79116871]\n",
            " [-0.79470071  0.64344459]\n",
            " [-1.23817315  0.43439874]\n",
            " [-0.76576567  0.85604375]\n",
            " [-1.01633057  1.04928013]\n",
            " [-1.31230274  0.658061  ]\n",
            " [-1.9318603   0.41325678]\n",
            " [-1.58579183  0.74367032]\n",
            " [-1.50289035  0.00374445]\n",
            " [-1.26517448  0.85127111]\n",
            " [-1.1879698   0.80737654]\n",
            " [-1.37106265  0.52080977]\n",
            " [-0.78342458  0.44796793]]\n",
            "Cluster 2:\n",
            " [[ 0.23634959  2.55099093]\n",
            " [ 0.30576692  2.28084573]\n",
            " [ 0.241527    2.45365591]\n",
            " [ 0.2572903   2.17011945]\n",
            " [-0.13544526  2.37294712]\n",
            " [-0.02211079  2.40500876]\n",
            " [ 0.34570638  2.48462466]\n",
            " [-0.1246416   2.01637787]\n",
            " [-0.37140594  2.28328494]\n",
            " [ 0.26082766  2.17138815]\n",
            " [ 0.50491715  2.33020807]\n",
            " [ 0.16869719  2.17183836]\n",
            " [ 0.44192554  2.7302513 ]\n",
            " [ 0.34457215  2.24428539]\n",
            " [-0.05011781  2.18330309]\n",
            " [ 0.26256963  2.16628135]\n",
            " [ 1.0667193   2.44991819]\n",
            " [ 0.26940717  2.48186048]\n",
            " [-0.16149194  2.2889773 ]\n",
            " [-0.52661784  2.14269699]\n",
            " [-0.02875174  2.31249426]\n",
            " [ 0.43859014  2.51276265]\n",
            " [-0.0921692   2.23024573]\n",
            " [ 0.58049581  2.68152788]\n",
            " [ 0.3828964   2.30569087]\n",
            " [-0.03792632  2.11309396]\n",
            " [ 0.63014596  2.40648371]\n",
            " [-0.23332031  2.18007206]\n",
            " [-0.23477423  2.01660368]\n",
            " [-0.16859209  2.21420662]\n",
            " [ 0.187372    2.36769394]\n",
            " [ 0.53224608  2.45458581]\n",
            " [ 0.3825858   2.43671379]\n",
            " [ 0.54853834  2.18286907]\n",
            " [ 0.78771668  2.35067084]\n",
            " [ 0.41295104  2.14880819]\n",
            " [ 0.26241744  2.24152831]\n",
            " [ 0.41117878  2.4931954 ]\n",
            " [ 0.48472093  2.24692601]\n",
            " [ 0.40400066  2.20932989]\n",
            " [ 0.28444577  2.42219526]\n",
            " [ 0.22668364  2.30540106]\n",
            " [ 0.5553083   2.43350875]\n",
            " [ 0.72759881  2.26952229]\n",
            " [ 0.27596144  2.21351974]\n",
            " [ 0.3116442   2.20061663]\n",
            " [ 0.80142057  2.45471749]\n",
            " [ 0.12857972  2.06868149]\n",
            " [ 0.77852943  2.28564456]\n",
            " [ 0.57635637  2.04783095]\n",
            " [-0.14415469  2.02972886]\n",
            " [-0.10735186  2.20370786]\n",
            " [ 0.91449036  2.22654595]\n",
            " [ 0.03055082  1.9586584 ]\n",
            " [ 0.29814601  2.37378664]\n",
            " [ 1.12149039  0.97488494]\n",
            " [ 0.65565317  2.57763195]\n",
            " [ 0.56206423  2.38753777]\n",
            " [ 0.51252679  2.21849104]]\n",
            "Cluster 3:\n",
            " [[ 3.24771214e+00  3.68255750e-01]\n",
            " [ 2.92545600e+00  4.49262038e-01]\n",
            " [ 2.49743309e+00  4.91611329e-01]\n",
            " [ 2.37137995e+00  2.67180589e-01]\n",
            " [ 2.20267797e+00  1.38312600e-01]\n",
            " [ 2.60949016e+00  7.17513483e-02]\n",
            " [ 2.76958965e+00  5.34337975e-01]\n",
            " [ 2.88982352e+00  2.93421264e-01]\n",
            " [ 3.34390042e+00  6.39952358e-01]\n",
            " [ 2.74509388e+00  4.64874813e-01]\n",
            " [ 3.01404010e+00  7.34372429e-01]\n",
            " [ 2.06715677e+00 -1.86400220e-02]\n",
            " [ 2.13926417e+00  2.08519349e-01]\n",
            " [ 2.63129110e+00  3.96404973e-01]\n",
            " [ 2.89096992e+00  4.27157393e-01]\n",
            " [ 2.55374001e+00  3.54933796e-01]\n",
            " [ 4.18034293e+00  3.96275592e-01]\n",
            " [ 2.58745877e+00  5.18395672e-02]\n",
            " [ 2.05779469e+00 -3.86952921e-01]\n",
            " [ 2.21722282e+00 -2.99941065e-02]\n",
            " [ 3.06868383e+00  3.45535917e-01]\n",
            " [ 2.23996634e+00  2.41401795e-01]\n",
            " [ 2.95105198e+00  2.91917270e-01]\n",
            " [ 2.95887999e+00  3.23042870e-01]\n",
            " [ 2.13739535e+00  2.01250474e-02]\n",
            " [ 2.70962406e+00  7.18923804e-01]\n",
            " [ 2.74637614e+00  5.05282731e-01]\n",
            " [ 2.16671312e+00  1.93716744e-01]\n",
            " [ 2.20731741e+00  3.15987173e-01]\n",
            " [ 3.05994727e+00  5.21824238e-01]\n",
            " [ 2.49543752e+00  4.50697268e-01]\n",
            " [ 3.64254527e+00  6.40820398e-01]\n",
            " [ 3.19139118e+00  2.08322617e-01]\n",
            " [ 3.24482743e+00  3.92081693e-01]\n",
            " [ 3.07388438e+00  5.98963592e-01]\n",
            " [ 2.26513525e+00  1.65734242e-01]\n",
            " [ 2.47234166e+00  2.20009753e-01]\n",
            " [ 3.22324308e+00  4.61029228e-01]\n",
            " [ 3.18301914e+00  2.37299412e-01]\n",
            " [ 2.77429382e+00  1.58136110e-01]\n",
            " [ 3.03764358e+00  3.75358430e-01]\n",
            " [ 2.85301258e+00  2.80892306e-01]\n",
            " [ 3.09924795e+00  2.16552550e-03]\n",
            " [ 2.85695037e+00  6.92219481e-01]\n",
            " [ 3.26425128e+00  1.50859746e-01]\n",
            " [ 3.10076797e+00  4.27421575e-02]\n",
            " [ 2.98673473e+00  2.79014160e-01]\n",
            " [ 2.90669205e+00  3.66516848e-01]\n",
            " [ 2.27018443e+00  2.80482767e-02]\n",
            " [ 2.86354453e+00  1.10979473e-01]\n",
            " [ 3.53124260e+00  1.84318274e-01]\n",
            " [ 3.08555056e+00  6.69390028e-01]\n",
            " [ 2.36769031e+00  1.77515611e-04]\n",
            " [ 3.05661859e+00  2.96035695e-01]\n",
            " [ 2.34680660e+00  2.04005221e-01]\n",
            " [ 3.38792978e+00  5.25839171e-01]\n",
            " [ 3.24109663e+00  3.47974534e-01]\n",
            " [ 3.77462371e+00  5.85090691e-01]\n",
            " [ 3.07567296e+00  2.72657637e-01]\n",
            " [ 3.08574341e+00  3.99018042e-01]\n",
            " [ 2.48379253e+00 -1.31616130e-02]]\n",
            "Cluster 4:\n",
            " [[-0.72952069 -2.09719199]\n",
            " [-0.62182165 -2.51402049]\n",
            " [ 0.27068068 -1.85613349]\n",
            " [-0.59702329 -2.65728372]\n",
            " [ 0.40358613 -2.13984589]\n",
            " [ 0.32634198 -2.46479526]\n",
            " [-0.97063029 -2.17804104]\n",
            " [-0.48954109 -1.79101648]\n",
            " [-0.63513137 -1.64334482]\n",
            " [-0.6595738  -2.04230703]\n",
            " [-0.54140032 -2.1112427 ]\n",
            " [-0.8408785  -1.97343654]\n",
            " [-0.40406194 -2.02813659]\n",
            " [-0.14826697 -2.42499995]\n",
            " [-0.42357324 -2.26554412]\n",
            " [-0.03356518 -1.93635284]\n",
            " [ 0.00500238 -1.63210056]\n",
            " [ 0.5146541  -1.84426765]\n",
            " [ 0.14849102 -1.7258766 ]\n",
            " [-0.76520255 -2.20966815]\n",
            " [-0.07969753 -2.51231972]\n",
            " [-0.07792511 -1.86175326]\n",
            " [ 0.27838956 -1.8112068 ]\n",
            " [-0.22670218 -1.81829115]\n",
            " [-0.17502738 -1.8277327 ]\n",
            " [-0.43649615 -1.96316386]\n",
            " [ 0.14359612 -2.35278583]\n",
            " [ 0.037294   -1.59544518]\n",
            " [ 0.03012775 -1.54732412]\n",
            " [-0.14065231 -1.95327701]\n",
            " [ 0.45507846 -1.73476006]\n",
            " [-0.25419546 -1.7608188 ]\n",
            " [ 0.59116624 -1.60035759]\n",
            " [ 0.37832992 -1.54785414]\n",
            " [-0.7402438  -2.24864704]\n",
            " [ 0.11576818 -1.80553915]\n",
            " [ 0.77791707 -1.13849202]\n",
            " [-0.41009168 -2.01820566]\n",
            " [-0.36398849 -2.32089968]\n",
            " [-0.67806189 -2.18702425]\n",
            " [-0.43327542 -2.04577944]\n",
            " [ 0.64878271 -1.22118011]\n",
            " [-0.02695868 -1.62924232]\n",
            " [ 0.66301331 -1.41091918]\n",
            " [ 0.27595554 -1.54606626]\n",
            " [ 0.21265217 -1.64142101]\n",
            " [ 0.68797148 -1.76310852]\n",
            " [-0.31369965 -2.21348754]\n",
            " [-0.72148707 -2.12983107]\n",
            " [-0.50318837 -2.28748953]\n",
            " [ 0.77069096 -1.53214306]\n",
            " [ 0.54151412 -2.06950856]\n",
            " [ 0.33401206 -1.82152974]\n",
            " [ 0.30997737 -1.50552292]\n",
            " [-0.38634413 -2.29101658]\n",
            " [-0.55647918 -1.95406083]\n",
            " [-0.50616222 -2.15055321]\n",
            " [ 0.26883145 -1.50523904]\n",
            " [ 0.14088683 -1.71246282]\n",
            " [ 0.32215213 -1.49620493]\n",
            " [ 0.87813698 -1.09764712]\n",
            " [-0.06023046 -1.89126111]\n",
            " [ 0.2339092  -1.4998185 ]\n",
            " [-0.06965906 -1.45493904]\n",
            " [ 0.03860794 -2.04746783]\n",
            " [ 0.1103512  -1.45761431]\n",
            " [-0.45711806 -1.533784  ]\n",
            " [-0.17205066 -1.34585315]\n",
            " [-0.66380142 -2.03430051]\n",
            " [-0.08883434 -1.75113621]\n",
            " [-0.37409459 -1.66869508]\n",
            " [ 0.32167659 -1.49654236]\n",
            " [ 0.68616143 -1.79517028]\n",
            " [ 0.5533673  -1.80239864]\n",
            " [ 0.80136868 -1.86084878]\n",
            " [ 0.83429632 -1.37859031]\n",
            " [ 0.69978736 -1.90021845]\n",
            " [ 0.60997355 -2.08887522]\n",
            " [ 1.22516138 -1.17807242]\n",
            " [ 0.98423426 -1.67344884]\n",
            " [ 0.32440122 -2.06324235]\n",
            " [ 1.00918983 -1.30851906]\n",
            " [ 0.2399054  -1.42053266]\n",
            " [ 0.57618048 -1.84242054]\n",
            " [ 1.07885404 -1.52434351]\n",
            " [ 0.76022552 -1.58273035]\n",
            " [ 1.5892627  -1.55546712]\n",
            " [ 1.34149268 -1.92713808]\n",
            " [ 1.18887624 -1.35900783]\n",
            " [ 0.51068324 -1.61001411]\n",
            " [ 1.79827045 -1.62089025]\n",
            " [ 1.62166169 -1.52361807]\n",
            " [ 1.11731652 -1.49381432]\n",
            " [ 0.56891597 -1.73534111]\n",
            " [ 1.35005773 -1.23153319]\n",
            " [ 1.39922018 -1.40031166]\n",
            " [ 0.1510866  -1.86656694]\n",
            " [ 1.04131523 -1.49322739]\n",
            " [ 1.06065715 -1.65740973]\n",
            " [ 0.66803202 -1.62014355]\n",
            " [ 0.93258123 -1.74422929]\n",
            " [ 0.90082588 -1.46415439]\n",
            " [ 1.21220801 -1.53136541]\n",
            " [ 1.56574294 -1.52425125]\n",
            " [ 0.57719013 -1.48997693]\n",
            " [ 1.39649081 -1.27150651]]\n"
          ]
        }
      ]
    }
  ]
}