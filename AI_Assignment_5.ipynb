{
  "nbformat": 4,
  "nbformat_minor": 0,
  "metadata": {
    "colab": {
      "provenance": [],
      "include_colab_link": true
    },
    "kernelspec": {
      "name": "python3",
      "display_name": "Python 3"
    },
    "language_info": {
      "name": "python"
    }
  },
  "cells": [
    {
      "cell_type": "markdown",
      "metadata": {
        "id": "view-in-github",
        "colab_type": "text"
      },
      "source": [
        "<a href=\"https://colab.research.google.com/github/ahmedkhalid-01/Artificial-Intelligence/blob/main/AI_Assignment_5.ipynb\" target=\"_parent\"><img src=\"https://colab.research.google.com/assets/colab-badge.svg\" alt=\"Open In Colab\"/></a>"
      ]
    },
    {
      "cell_type": "markdown",
      "source": [
        "\n",
        "**Name**: **Ahmed Khalid**\n",
        "\n",
        "**Roll No**: **200148**\n",
        "\n",
        "**Subject**: **AI For Engineers**\n",
        "\n",
        "**Submitted To** : **Dr Ashfaq Ahmad**\n",
        "\n",
        "###       **AI Assignment # 5**\n",
        "\n",
        "\n"
      ],
      "metadata": {
        "id": "wUbPEXKMlltk"
      }
    },
    {
      "cell_type": "markdown",
      "source": [
        "# **Statement:**\n",
        "\n",
        "\n",
        "**Deforestation is a critical environmental issue that contributes to biodiversity loss, climate change, and disruption of ecosystems. Detecting and monitoring deforestation accurately is essential for implementing effective conservation strategies. k-means clustering, a popular unsupervised machine learning algorithm, can be utilized to analyze satellite imagery and detect deforestation patterns. This document outlines a set of tasks for using k-means and k-mediods clustering to detect deforestation in the Amazon rainforest**."
      ],
      "metadata": {
        "id": "tmcF2c38mCS8"
      }
    },
    {
      "cell_type": "code",
      "source": [],
      "metadata": {
        "id": "uMHoS-csmll7"
      },
      "execution_count": null,
      "outputs": []
    },
    {
      "cell_type": "code",
      "source": [
        "!pip show arcgis"
      ],
      "metadata": {
        "colab": {
          "base_uri": "https://localhost:8080/"
        },
        "collapsed": true,
        "id": "W6MKQQd_Bjza",
        "outputId": "9b1ec853-a94d-4ac3-8d5e-376a0db85178"
      },
      "execution_count": null,
      "outputs": [
        {
          "output_type": "stream",
          "name": "stdout",
          "text": [
            "Name: arcgis\n",
            "Version: 2.3.0.2\n",
            "Summary: ArcGIS API for Python\n",
            "Home-page: https://developers.arcgis.com/python/\n",
            "Author: Esri\n",
            "Author-email: python@esri.com\n",
            "License: Esri Master License Agreement (MLA) - http://www.esri.com/LEGAL/pdfs/mla_e204_e300/english.pdf\n",
            "Location: /usr/local/lib/python3.10/dist-packages\n",
            "Requires: cachetools, cryptography, dask, geomet, ipywidgets, jupyter-client, jupyterlab, keyring, lxml, matplotlib, matplotlib-inline, notebook, numpy, pandas, pillow, puremagic, pyarrow, pylerc, pyshp, pyspnego, requests, requests-gssapi, requests-kerberos, requests-oauthlib, requests-toolbelt, truststore, ujson, urllib3, widgetsnbextension\n",
            "Required-by: \n"
          ]
        }
      ]
    },
    {
      "cell_type": "code",
      "source": [
        "!pip show torch"
      ],
      "metadata": {
        "colab": {
          "base_uri": "https://localhost:8080/"
        },
        "collapsed": true,
        "id": "thKIZiZ-BmAp",
        "outputId": "f5dea1ac-f1cb-45ff-f180-819c983b8eb4"
      },
      "execution_count": null,
      "outputs": [
        {
          "output_type": "stream",
          "name": "stdout",
          "text": [
            "Name: torch\n",
            "Version: 2.3.0+cu121\n",
            "Summary: Tensors and Dynamic neural networks in Python with strong GPU acceleration\n",
            "Home-page: https://pytorch.org/\n",
            "Author: PyTorch Team\n",
            "Author-email: packages@pytorch.org\n",
            "License: BSD-3\n",
            "Location: /usr/local/lib/python3.10/dist-packages\n",
            "Requires: filelock, fsspec, jinja2, networkx, nvidia-cublas-cu12, nvidia-cuda-cupti-cu12, nvidia-cuda-nvrtc-cu12, nvidia-cuda-runtime-cu12, nvidia-cudnn-cu12, nvidia-cufft-cu12, nvidia-curand-cu12, nvidia-cusolver-cu12, nvidia-cusparse-cu12, nvidia-nccl-cu12, nvidia-nvtx-cu12, sympy, triton, typing-extensions\n",
            "Required-by: fastai, timm, torchaudio, torchtext, torchvision\n"
          ]
        }
      ]
    },
    {
      "cell_type": "code",
      "source": [
        "!pip show timm"
      ],
      "metadata": {
        "colab": {
          "base_uri": "https://localhost:8080/"
        },
        "collapsed": true,
        "id": "QY_O87wrBpP3",
        "outputId": "946625e6-07c5-47a3-cec2-8efc04eb5aa9"
      },
      "execution_count": null,
      "outputs": [
        {
          "output_type": "stream",
          "name": "stdout",
          "text": [
            "Name: timm\n",
            "Version: 1.0.3\n",
            "Summary: PyTorch Image Models\n",
            "Home-page: https://github.com/huggingface/pytorch-image-models\n",
            "Author: \n",
            "Author-email: Ross Wightman <ross@huggingface.co>\n",
            "License: Apache-2.0\n",
            "Location: /usr/local/lib/python3.10/dist-packages\n",
            "Requires: huggingface_hub, pyyaml, safetensors, torch, torchvision\n",
            "Required-by: \n"
          ]
        }
      ]
    },
    {
      "cell_type": "code",
      "source": [
        "!pip show fastai"
      ],
      "metadata": {
        "colab": {
          "base_uri": "https://localhost:8080/"
        },
        "id": "ng26-CLZBqwL",
        "outputId": "2f317594-38fc-4fe1-a82f-ed4fd564e5f9"
      },
      "execution_count": null,
      "outputs": [
        {
          "output_type": "stream",
          "name": "stdout",
          "text": [
            "Name: fastai\n",
            "Version: 2.7.15\n",
            "Summary: fastai simplifies training fast and accurate neural nets using modern best practices\n",
            "Home-page: https://github.com/fastai/fastai\n",
            "Author: Jeremy Howard, Sylvain Gugger, and contributors\n",
            "Author-email: info@fast.ai\n",
            "License: Apache Software License 2.0\n",
            "Location: /usr/local/lib/python3.10/dist-packages\n",
            "Requires: fastcore, fastdownload, fastprogress, matplotlib, packaging, pandas, pillow, pip, pyyaml, requests, scikit-learn, scipy, spacy, torch, torchvision\n",
            "Required-by: \n"
          ]
        }
      ]
    },
    {
      "cell_type": "code",
      "source": [
        "!pip install arcgis==1.9.1\n",
        "!pip install torch torchvision torchaudio\n",
        "!pip install fastai\n"
      ],
      "metadata": {
        "colab": {
          "base_uri": "https://localhost:8080/"
        },
        "id": "N6MhTTr4I2FC",
        "outputId": "067dc409-d0ad-44c1-dae0-35660913bd9d",
        "collapsed": true
      },
      "execution_count": null,
      "outputs": [
        {
          "output_type": "stream",
          "name": "stdout",
          "text": [
            "Collecting arcgis==1.9.1\n",
            "  Using cached arcgis-1.9.1.tar.gz (3.5 MB)\n",
            "  \u001b[1;31merror\u001b[0m: \u001b[1msubprocess-exited-with-error\u001b[0m\n",
            "  \n",
            "  \u001b[31m×\u001b[0m \u001b[32mpython setup.py egg_info\u001b[0m did not run successfully.\n",
            "  \u001b[31m│\u001b[0m exit code: \u001b[1;36m1\u001b[0m\n",
            "  \u001b[31m╰─>\u001b[0m See above for output.\n",
            "  \n",
            "  \u001b[1;35mnote\u001b[0m: This error originates from a subprocess, and is likely not a problem with pip.\n",
            "  Preparing metadata (setup.py) ... \u001b[?25l\u001b[?25herror\n",
            "\u001b[1;31merror\u001b[0m: \u001b[1mmetadata-generation-failed\u001b[0m\n",
            "\n",
            "\u001b[31m×\u001b[0m Encountered error while generating package metadata.\n",
            "\u001b[31m╰─>\u001b[0m See above for output.\n",
            "\n",
            "\u001b[1;35mnote\u001b[0m: This is an issue with the package mentioned above, not pip.\n",
            "\u001b[1;36mhint\u001b[0m: See above for details.\n",
            "Requirement already satisfied: torch in /usr/local/lib/python3.10/dist-packages (2.3.0+cu121)\n",
            "Requirement already satisfied: torchvision in /usr/local/lib/python3.10/dist-packages (0.18.0+cu121)\n",
            "Requirement already satisfied: torchaudio in /usr/local/lib/python3.10/dist-packages (2.3.0+cu121)\n",
            "Requirement already satisfied: filelock in /usr/local/lib/python3.10/dist-packages (from torch) (3.14.0)\n",
            "Requirement already satisfied: typing-extensions>=4.8.0 in /usr/local/lib/python3.10/dist-packages (from torch) (4.11.0)\n",
            "Requirement already satisfied: sympy in /usr/local/lib/python3.10/dist-packages (from torch) (1.12)\n",
            "Requirement already satisfied: networkx in /usr/local/lib/python3.10/dist-packages (from torch) (3.3)\n",
            "Requirement already satisfied: jinja2 in /usr/local/lib/python3.10/dist-packages (from torch) (3.1.4)\n",
            "Requirement already satisfied: fsspec in /usr/local/lib/python3.10/dist-packages (from torch) (2023.6.0)\n",
            "Requirement already satisfied: nvidia-cuda-nvrtc-cu12==12.1.105 in /usr/local/lib/python3.10/dist-packages (from torch) (12.1.105)\n",
            "Requirement already satisfied: nvidia-cuda-runtime-cu12==12.1.105 in /usr/local/lib/python3.10/dist-packages (from torch) (12.1.105)\n",
            "Requirement already satisfied: nvidia-cuda-cupti-cu12==12.1.105 in /usr/local/lib/python3.10/dist-packages (from torch) (12.1.105)\n",
            "Requirement already satisfied: nvidia-cudnn-cu12==8.9.2.26 in /usr/local/lib/python3.10/dist-packages (from torch) (8.9.2.26)\n",
            "Requirement already satisfied: nvidia-cublas-cu12==12.1.3.1 in /usr/local/lib/python3.10/dist-packages (from torch) (12.1.3.1)\n",
            "Requirement already satisfied: nvidia-cufft-cu12==11.0.2.54 in /usr/local/lib/python3.10/dist-packages (from torch) (11.0.2.54)\n",
            "Requirement already satisfied: nvidia-curand-cu12==10.3.2.106 in /usr/local/lib/python3.10/dist-packages (from torch) (10.3.2.106)\n",
            "Requirement already satisfied: nvidia-cusolver-cu12==11.4.5.107 in /usr/local/lib/python3.10/dist-packages (from torch) (11.4.5.107)\n",
            "Requirement already satisfied: nvidia-cusparse-cu12==12.1.0.106 in /usr/local/lib/python3.10/dist-packages (from torch) (12.1.0.106)\n",
            "Requirement already satisfied: nvidia-nccl-cu12==2.20.5 in /usr/local/lib/python3.10/dist-packages (from torch) (2.20.5)\n",
            "Requirement already satisfied: nvidia-nvtx-cu12==12.1.105 in /usr/local/lib/python3.10/dist-packages (from torch) (12.1.105)\n",
            "Requirement already satisfied: triton==2.3.0 in /usr/local/lib/python3.10/dist-packages (from torch) (2.3.0)\n",
            "Requirement already satisfied: nvidia-nvjitlink-cu12 in /usr/local/lib/python3.10/dist-packages (from nvidia-cusolver-cu12==11.4.5.107->torch) (12.5.40)\n",
            "Requirement already satisfied: numpy in /usr/local/lib/python3.10/dist-packages (from torchvision) (1.25.2)\n",
            "Requirement already satisfied: pillow!=8.3.*,>=5.3.0 in /usr/local/lib/python3.10/dist-packages (from torchvision) (9.4.0)\n",
            "Requirement already satisfied: MarkupSafe>=2.0 in /usr/local/lib/python3.10/dist-packages (from jinja2->torch) (2.1.5)\n",
            "Requirement already satisfied: mpmath>=0.19 in /usr/local/lib/python3.10/dist-packages (from sympy->torch) (1.3.0)\n",
            "Requirement already satisfied: fastai in /usr/local/lib/python3.10/dist-packages (2.7.15)\n",
            "Requirement already satisfied: pip in /usr/local/lib/python3.10/dist-packages (from fastai) (23.1.2)\n",
            "Requirement already satisfied: packaging in /usr/local/lib/python3.10/dist-packages (from fastai) (24.0)\n",
            "Requirement already satisfied: fastdownload<2,>=0.0.5 in /usr/local/lib/python3.10/dist-packages (from fastai) (0.0.7)\n",
            "Requirement already satisfied: fastcore<1.6,>=1.5.29 in /usr/local/lib/python3.10/dist-packages (from fastai) (1.5.37)\n",
            "Requirement already satisfied: torchvision>=0.11 in /usr/local/lib/python3.10/dist-packages (from fastai) (0.18.0+cu121)\n",
            "Requirement already satisfied: matplotlib in /usr/local/lib/python3.10/dist-packages (from fastai) (3.7.1)\n",
            "Requirement already satisfied: pandas in /usr/local/lib/python3.10/dist-packages (from fastai) (2.0.3)\n",
            "Requirement already satisfied: requests in /usr/local/lib/python3.10/dist-packages (from fastai) (2.31.0)\n",
            "Requirement already satisfied: pyyaml in /usr/local/lib/python3.10/dist-packages (from fastai) (6.0.1)\n",
            "Requirement already satisfied: fastprogress>=0.2.4 in /usr/local/lib/python3.10/dist-packages (from fastai) (1.0.3)\n",
            "Requirement already satisfied: pillow>=9.0.0 in /usr/local/lib/python3.10/dist-packages (from fastai) (9.4.0)\n",
            "Requirement already satisfied: scikit-learn in /usr/local/lib/python3.10/dist-packages (from fastai) (1.2.2)\n",
            "Requirement already satisfied: scipy in /usr/local/lib/python3.10/dist-packages (from fastai) (1.11.4)\n",
            "Requirement already satisfied: spacy<4 in /usr/local/lib/python3.10/dist-packages (from fastai) (3.7.4)\n",
            "Requirement already satisfied: torch<2.4,>=1.10 in /usr/local/lib/python3.10/dist-packages (from fastai) (2.3.0+cu121)\n",
            "Requirement already satisfied: spacy-legacy<3.1.0,>=3.0.11 in /usr/local/lib/python3.10/dist-packages (from spacy<4->fastai) (3.0.12)\n",
            "Requirement already satisfied: spacy-loggers<2.0.0,>=1.0.0 in /usr/local/lib/python3.10/dist-packages (from spacy<4->fastai) (1.0.5)\n",
            "Requirement already satisfied: murmurhash<1.1.0,>=0.28.0 in /usr/local/lib/python3.10/dist-packages (from spacy<4->fastai) (1.0.10)\n",
            "Requirement already satisfied: cymem<2.1.0,>=2.0.2 in /usr/local/lib/python3.10/dist-packages (from spacy<4->fastai) (2.0.8)\n",
            "Requirement already satisfied: preshed<3.1.0,>=3.0.2 in /usr/local/lib/python3.10/dist-packages (from spacy<4->fastai) (3.0.9)\n",
            "Requirement already satisfied: thinc<8.3.0,>=8.2.2 in /usr/local/lib/python3.10/dist-packages (from spacy<4->fastai) (8.2.3)\n",
            "Requirement already satisfied: wasabi<1.2.0,>=0.9.1 in /usr/local/lib/python3.10/dist-packages (from spacy<4->fastai) (1.1.2)\n",
            "Requirement already satisfied: srsly<3.0.0,>=2.4.3 in /usr/local/lib/python3.10/dist-packages (from spacy<4->fastai) (2.4.8)\n",
            "Requirement already satisfied: catalogue<2.1.0,>=2.0.6 in /usr/local/lib/python3.10/dist-packages (from spacy<4->fastai) (2.0.10)\n",
            "Requirement already satisfied: weasel<0.4.0,>=0.1.0 in /usr/local/lib/python3.10/dist-packages (from spacy<4->fastai) (0.3.4)\n",
            "Requirement already satisfied: typer<0.10.0,>=0.3.0 in /usr/local/lib/python3.10/dist-packages (from spacy<4->fastai) (0.9.4)\n",
            "Requirement already satisfied: smart-open<7.0.0,>=5.2.1 in /usr/local/lib/python3.10/dist-packages (from spacy<4->fastai) (6.4.0)\n",
            "Requirement already satisfied: tqdm<5.0.0,>=4.38.0 in /usr/local/lib/python3.10/dist-packages (from spacy<4->fastai) (4.66.4)\n",
            "Requirement already satisfied: pydantic!=1.8,!=1.8.1,<3.0.0,>=1.7.4 in /usr/local/lib/python3.10/dist-packages (from spacy<4->fastai) (2.7.1)\n",
            "Requirement already satisfied: jinja2 in /usr/local/lib/python3.10/dist-packages (from spacy<4->fastai) (3.1.4)\n",
            "Requirement already satisfied: setuptools in /usr/local/lib/python3.10/dist-packages (from spacy<4->fastai) (67.7.2)\n",
            "Requirement already satisfied: langcodes<4.0.0,>=3.2.0 in /usr/local/lib/python3.10/dist-packages (from spacy<4->fastai) (3.4.0)\n",
            "Requirement already satisfied: numpy>=1.19.0 in /usr/local/lib/python3.10/dist-packages (from spacy<4->fastai) (1.25.2)\n",
            "Requirement already satisfied: charset-normalizer<4,>=2 in /usr/local/lib/python3.10/dist-packages (from requests->fastai) (3.3.2)\n",
            "Requirement already satisfied: idna<4,>=2.5 in /usr/local/lib/python3.10/dist-packages (from requests->fastai) (3.7)\n",
            "Requirement already satisfied: urllib3<3,>=1.21.1 in /usr/local/lib/python3.10/dist-packages (from requests->fastai) (2.0.7)\n",
            "Requirement already satisfied: certifi>=2017.4.17 in /usr/local/lib/python3.10/dist-packages (from requests->fastai) (2024.2.2)\n",
            "Requirement already satisfied: filelock in /usr/local/lib/python3.10/dist-packages (from torch<2.4,>=1.10->fastai) (3.14.0)\n",
            "Requirement already satisfied: typing-extensions>=4.8.0 in /usr/local/lib/python3.10/dist-packages (from torch<2.4,>=1.10->fastai) (4.11.0)\n",
            "Requirement already satisfied: sympy in /usr/local/lib/python3.10/dist-packages (from torch<2.4,>=1.10->fastai) (1.12)\n",
            "Requirement already satisfied: networkx in /usr/local/lib/python3.10/dist-packages (from torch<2.4,>=1.10->fastai) (3.3)\n",
            "Requirement already satisfied: fsspec in /usr/local/lib/python3.10/dist-packages (from torch<2.4,>=1.10->fastai) (2023.6.0)\n",
            "Requirement already satisfied: nvidia-cuda-nvrtc-cu12==12.1.105 in /usr/local/lib/python3.10/dist-packages (from torch<2.4,>=1.10->fastai) (12.1.105)\n",
            "Requirement already satisfied: nvidia-cuda-runtime-cu12==12.1.105 in /usr/local/lib/python3.10/dist-packages (from torch<2.4,>=1.10->fastai) (12.1.105)\n",
            "Requirement already satisfied: nvidia-cuda-cupti-cu12==12.1.105 in /usr/local/lib/python3.10/dist-packages (from torch<2.4,>=1.10->fastai) (12.1.105)\n",
            "Requirement already satisfied: nvidia-cudnn-cu12==8.9.2.26 in /usr/local/lib/python3.10/dist-packages (from torch<2.4,>=1.10->fastai) (8.9.2.26)\n",
            "Requirement already satisfied: nvidia-cublas-cu12==12.1.3.1 in /usr/local/lib/python3.10/dist-packages (from torch<2.4,>=1.10->fastai) (12.1.3.1)\n",
            "Requirement already satisfied: nvidia-cufft-cu12==11.0.2.54 in /usr/local/lib/python3.10/dist-packages (from torch<2.4,>=1.10->fastai) (11.0.2.54)\n",
            "Requirement already satisfied: nvidia-curand-cu12==10.3.2.106 in /usr/local/lib/python3.10/dist-packages (from torch<2.4,>=1.10->fastai) (10.3.2.106)\n",
            "Requirement already satisfied: nvidia-cusolver-cu12==11.4.5.107 in /usr/local/lib/python3.10/dist-packages (from torch<2.4,>=1.10->fastai) (11.4.5.107)\n",
            "Requirement already satisfied: nvidia-cusparse-cu12==12.1.0.106 in /usr/local/lib/python3.10/dist-packages (from torch<2.4,>=1.10->fastai) (12.1.0.106)\n",
            "Requirement already satisfied: nvidia-nccl-cu12==2.20.5 in /usr/local/lib/python3.10/dist-packages (from torch<2.4,>=1.10->fastai) (2.20.5)\n",
            "Requirement already satisfied: nvidia-nvtx-cu12==12.1.105 in /usr/local/lib/python3.10/dist-packages (from torch<2.4,>=1.10->fastai) (12.1.105)\n",
            "Requirement already satisfied: triton==2.3.0 in /usr/local/lib/python3.10/dist-packages (from torch<2.4,>=1.10->fastai) (2.3.0)\n",
            "Requirement already satisfied: nvidia-nvjitlink-cu12 in /usr/local/lib/python3.10/dist-packages (from nvidia-cusolver-cu12==11.4.5.107->torch<2.4,>=1.10->fastai) (12.5.40)\n",
            "Requirement already satisfied: contourpy>=1.0.1 in /usr/local/lib/python3.10/dist-packages (from matplotlib->fastai) (1.2.1)\n",
            "Requirement already satisfied: cycler>=0.10 in /usr/local/lib/python3.10/dist-packages (from matplotlib->fastai) (0.12.1)\n",
            "Requirement already satisfied: fonttools>=4.22.0 in /usr/local/lib/python3.10/dist-packages (from matplotlib->fastai) (4.51.0)\n",
            "Requirement already satisfied: kiwisolver>=1.0.1 in /usr/local/lib/python3.10/dist-packages (from matplotlib->fastai) (1.4.5)\n",
            "Requirement already satisfied: pyparsing>=2.3.1 in /usr/local/lib/python3.10/dist-packages (from matplotlib->fastai) (3.1.2)\n",
            "Requirement already satisfied: python-dateutil>=2.7 in /usr/local/lib/python3.10/dist-packages (from matplotlib->fastai) (2.8.2)\n",
            "Requirement already satisfied: pytz>=2020.1 in /usr/local/lib/python3.10/dist-packages (from pandas->fastai) (2023.4)\n",
            "Requirement already satisfied: tzdata>=2022.1 in /usr/local/lib/python3.10/dist-packages (from pandas->fastai) (2024.1)\n",
            "Requirement already satisfied: joblib>=1.1.1 in /usr/local/lib/python3.10/dist-packages (from scikit-learn->fastai) (1.4.2)\n",
            "Requirement already satisfied: threadpoolctl>=2.0.0 in /usr/local/lib/python3.10/dist-packages (from scikit-learn->fastai) (3.5.0)\n",
            "Requirement already satisfied: language-data>=1.2 in /usr/local/lib/python3.10/dist-packages (from langcodes<4.0.0,>=3.2.0->spacy<4->fastai) (1.2.0)\n",
            "Requirement already satisfied: annotated-types>=0.4.0 in /usr/local/lib/python3.10/dist-packages (from pydantic!=1.8,!=1.8.1,<3.0.0,>=1.7.4->spacy<4->fastai) (0.6.0)\n",
            "Requirement already satisfied: pydantic-core==2.18.2 in /usr/local/lib/python3.10/dist-packages (from pydantic!=1.8,!=1.8.1,<3.0.0,>=1.7.4->spacy<4->fastai) (2.18.2)\n",
            "Requirement already satisfied: six>=1.5 in /usr/local/lib/python3.10/dist-packages (from python-dateutil>=2.7->matplotlib->fastai) (1.16.0)\n",
            "Requirement already satisfied: blis<0.8.0,>=0.7.8 in /usr/local/lib/python3.10/dist-packages (from thinc<8.3.0,>=8.2.2->spacy<4->fastai) (0.7.11)\n",
            "Requirement already satisfied: confection<1.0.0,>=0.0.1 in /usr/local/lib/python3.10/dist-packages (from thinc<8.3.0,>=8.2.2->spacy<4->fastai) (0.1.4)\n",
            "Requirement already satisfied: click<9.0.0,>=7.1.1 in /usr/local/lib/python3.10/dist-packages (from typer<0.10.0,>=0.3.0->spacy<4->fastai) (8.1.7)\n",
            "Requirement already satisfied: cloudpathlib<0.17.0,>=0.7.0 in /usr/local/lib/python3.10/dist-packages (from weasel<0.4.0,>=0.1.0->spacy<4->fastai) (0.16.0)\n",
            "Requirement already satisfied: MarkupSafe>=2.0 in /usr/local/lib/python3.10/dist-packages (from jinja2->spacy<4->fastai) (2.1.5)\n",
            "Requirement already satisfied: mpmath>=0.19 in /usr/local/lib/python3.10/dist-packages (from sympy->torch<2.4,>=1.10->fastai) (1.3.0)\n",
            "Requirement already satisfied: marisa-trie>=0.7.7 in /usr/local/lib/python3.10/dist-packages (from language-data>=1.2->langcodes<4.0.0,>=3.2.0->spacy<4->fastai) (1.1.1)\n"
          ]
        }
      ]
    },
    {
      "cell_type": "code",
      "source": [
        "!pip install arcgis --use-deprecated=legacy-resolver\n"
      ],
      "metadata": {
        "colab": {
          "base_uri": "https://localhost:8080/"
        },
        "collapsed": true,
        "id": "QOr87YDSCkFO",
        "outputId": "5b8b05ff-48e4-4d25-846d-3c6f1137408b"
      },
      "execution_count": null,
      "outputs": [
        {
          "output_type": "stream",
          "name": "stdout",
          "text": [
            "Requirement already satisfied: arcgis in /usr/local/lib/python3.10/dist-packages (2.3.0.2)\n",
            "Requirement already satisfied: pillow in /usr/local/lib/python3.10/dist-packages (from arcgis) (9.4.0)\n",
            "Requirement already satisfied: urllib3<3,>=1.26.1 in /usr/local/lib/python3.10/dist-packages (from arcgis) (2.0.7)\n",
            "Requirement already satisfied: cachetools in /usr/local/lib/python3.10/dist-packages (from arcgis) (5.3.3)\n",
            "Requirement already satisfied: lxml in /usr/local/lib/python3.10/dist-packages (from arcgis) (4.9.4)\n",
            "Requirement already satisfied: notebook in /usr/local/lib/python3.10/dist-packages (from arcgis) (6.5.5)\n",
            "Requirement already satisfied: cryptography in /usr/local/lib/python3.10/dist-packages (from arcgis) (42.0.7)\n",
            "Requirement already satisfied: ipywidgets<8,>=7 in /usr/local/lib/python3.10/dist-packages (from arcgis) (7.7.1)\n",
            "Requirement already satisfied: widgetsnbextension>=3 in /usr/local/lib/python3.10/dist-packages (from arcgis) (3.6.6)\n",
            "Requirement already satisfied: jupyter-client<=6.1.12 in /usr/local/lib/python3.10/dist-packages (from arcgis) (6.1.12)\n",
            "Requirement already satisfied: pandas<2.2.0,>=2.0.0 in /usr/local/lib/python3.10/dist-packages (from arcgis) (2.0.3)\n",
            "Requirement already satisfied: numpy<2,>=1.21.6 in /usr/local/lib/python3.10/dist-packages (from arcgis) (1.25.2)\n",
            "Requirement already satisfied: matplotlib in /usr/local/lib/python3.10/dist-packages (from arcgis) (3.7.1)\n",
            "Requirement already satisfied: keyring>=23.3.0 in /usr/lib/python3/dist-packages (from arcgis) (23.5.0)\n",
            "Requirement already satisfied: pylerc in /usr/local/lib/python3.10/dist-packages (from arcgis) (4.0)\n",
            "Requirement already satisfied: ujson>=3 in /usr/local/lib/python3.10/dist-packages (from arcgis) (5.10.0)\n",
            "Requirement already satisfied: jupyterlab in /usr/local/lib/python3.10/dist-packages (from arcgis) (3.6.7)\n",
            "Requirement already satisfied: pyshp>=2 in /usr/local/lib/python3.10/dist-packages (from arcgis) (2.3.1)\n",
            "Requirement already satisfied: geomet in /usr/local/lib/python3.10/dist-packages (from arcgis) (1.1.0)\n",
            "Requirement already satisfied: requests<3,>=2.31.0 in /usr/local/lib/python3.10/dist-packages (from arcgis) (2.31.0)\n",
            "Requirement already satisfied: requests-oauthlib in /usr/local/lib/python3.10/dist-packages (from arcgis) (1.3.1)\n",
            "Requirement already satisfied: requests-toolbelt in /usr/local/lib/python3.10/dist-packages (from arcgis) (1.0.0)\n",
            "Requirement already satisfied: pyspnego>=0.8.0 in /usr/local/lib/python3.10/dist-packages (from arcgis) (0.10.2)\n",
            "Requirement already satisfied: requests-kerberos in /usr/local/lib/python3.10/dist-packages (from arcgis) (0.14.0)\n",
            "Requirement already satisfied: requests-gssapi in /usr/local/lib/python3.10/dist-packages (from arcgis) (1.3.0)\n",
            "Requirement already satisfied: dask>=2023.3.2 in /usr/local/lib/python3.10/dist-packages (from arcgis) (2023.8.1)\n",
            "Requirement already satisfied: matplotlib-inline in /usr/local/lib/python3.10/dist-packages (from arcgis) (0.1.7)\n",
            "Requirement already satisfied: pyarrow>=11.0.0 in /usr/local/lib/python3.10/dist-packages (from arcgis) (14.0.2)\n",
            "Requirement already satisfied: puremagic<2,>=1.15 in /usr/local/lib/python3.10/dist-packages (from arcgis) (1.23)\n",
            "Requirement already satisfied: truststore>=0.7.0; python_version > \"3.9\" in /usr/local/lib/python3.10/dist-packages (from arcgis) (0.9.1)\n",
            "Requirement already satisfied: jinja2 in /usr/local/lib/python3.10/dist-packages (from notebook->arcgis) (3.1.4)\n",
            "Requirement already satisfied: tornado>=6.1 in /usr/local/lib/python3.10/dist-packages (from notebook->arcgis) (6.3.3)\n",
            "Requirement already satisfied: pyzmq<25,>=17 in /usr/local/lib/python3.10/dist-packages (from notebook->arcgis) (24.0.1)\n",
            "Requirement already satisfied: argon2-cffi in /usr/local/lib/python3.10/dist-packages (from notebook->arcgis) (23.1.0)\n",
            "Requirement already satisfied: traitlets>=4.2.1 in /usr/local/lib/python3.10/dist-packages (from notebook->arcgis) (5.7.1)\n",
            "Requirement already satisfied: jupyter-core>=4.6.1 in /usr/local/lib/python3.10/dist-packages (from notebook->arcgis) (5.7.2)\n",
            "Requirement already satisfied: ipython-genutils in /usr/local/lib/python3.10/dist-packages (from notebook->arcgis) (0.2.0)\n",
            "Requirement already satisfied: nbformat in /usr/local/lib/python3.10/dist-packages (from notebook->arcgis) (5.10.4)\n",
            "Requirement already satisfied: nbconvert>=5 in /usr/local/lib/python3.10/dist-packages (from notebook->arcgis) (6.5.4)\n",
            "Requirement already satisfied: nest-asyncio>=1.5 in /usr/local/lib/python3.10/dist-packages (from notebook->arcgis) (1.6.0)\n",
            "Requirement already satisfied: ipykernel in /usr/local/lib/python3.10/dist-packages (from notebook->arcgis) (5.5.6)\n",
            "Requirement already satisfied: Send2Trash>=1.8.0 in /usr/local/lib/python3.10/dist-packages (from notebook->arcgis) (1.8.3)\n",
            "Requirement already satisfied: terminado>=0.8.3 in /usr/local/lib/python3.10/dist-packages (from notebook->arcgis) (0.18.1)\n",
            "Requirement already satisfied: prometheus-client in /usr/local/lib/python3.10/dist-packages (from notebook->arcgis) (0.20.0)\n",
            "Requirement already satisfied: nbclassic>=0.4.7 in /usr/local/lib/python3.10/dist-packages (from notebook->arcgis) (1.0.0)\n",
            "Requirement already satisfied: cffi>=1.12; platform_python_implementation != \"PyPy\" in /usr/local/lib/python3.10/dist-packages (from cryptography->arcgis) (1.16.0)\n",
            "Requirement already satisfied: ipython>=4.0.0; python_version >= \"3.3\" in /usr/local/lib/python3.10/dist-packages (from ipywidgets<8,>=7->arcgis) (7.34.0)\n",
            "Requirement already satisfied: jupyterlab-widgets>=1.0.0; python_version >= \"3.6\" in /usr/local/lib/python3.10/dist-packages (from ipywidgets<8,>=7->arcgis) (3.0.10)\n",
            "Requirement already satisfied: python-dateutil>=2.1 in /usr/local/lib/python3.10/dist-packages (from jupyter-client<=6.1.12->arcgis) (2.8.2)\n",
            "Requirement already satisfied: pytz>=2020.1 in /usr/local/lib/python3.10/dist-packages (from pandas<2.2.0,>=2.0.0->arcgis) (2023.4)\n",
            "Requirement already satisfied: tzdata>=2022.1 in /usr/local/lib/python3.10/dist-packages (from pandas<2.2.0,>=2.0.0->arcgis) (2024.1)\n",
            "Requirement already satisfied: contourpy>=1.0.1 in /usr/local/lib/python3.10/dist-packages (from matplotlib->arcgis) (1.2.1)\n",
            "Requirement already satisfied: cycler>=0.10 in /usr/local/lib/python3.10/dist-packages (from matplotlib->arcgis) (0.12.1)\n",
            "Requirement already satisfied: fonttools>=4.22.0 in /usr/local/lib/python3.10/dist-packages (from matplotlib->arcgis) (4.51.0)\n",
            "Requirement already satisfied: kiwisolver>=1.0.1 in /usr/local/lib/python3.10/dist-packages (from matplotlib->arcgis) (1.4.5)\n",
            "Requirement already satisfied: packaging>=20.0 in /usr/local/lib/python3.10/dist-packages (from matplotlib->arcgis) (24.0)\n",
            "Requirement already satisfied: pyparsing>=2.3.1 in /usr/local/lib/python3.10/dist-packages (from matplotlib->arcgis) (3.1.2)\n",
            "Requirement already satisfied: jupyterlab-server~=2.19 in /usr/local/lib/python3.10/dist-packages (from jupyterlab->arcgis) (2.27.2)\n",
            "Requirement already satisfied: jupyter-server<3,>=1.16.0 in /usr/local/lib/python3.10/dist-packages (from jupyterlab->arcgis) (1.24.0)\n",
            "Requirement already satisfied: jupyter-ydoc~=0.2.4 in /usr/local/lib/python3.10/dist-packages (from jupyterlab->arcgis) (0.2.5)\n",
            "Requirement already satisfied: jupyter-server-ydoc~=0.8.0 in /usr/local/lib/python3.10/dist-packages (from jupyterlab->arcgis) (0.8.0)\n",
            "Requirement already satisfied: tomli; python_version < \"3.11\" in /usr/local/lib/python3.10/dist-packages (from jupyterlab->arcgis) (2.0.1)\n",
            "Requirement already satisfied: click in /usr/local/lib/python3.10/dist-packages (from geomet->arcgis) (8.1.7)\n",
            "Requirement already satisfied: charset-normalizer<4,>=2 in /usr/local/lib/python3.10/dist-packages (from requests<3,>=2.31.0->arcgis) (3.3.2)\n",
            "Requirement already satisfied: idna<4,>=2.5 in /usr/local/lib/python3.10/dist-packages (from requests<3,>=2.31.0->arcgis) (3.7)\n",
            "Requirement already satisfied: certifi>=2017.4.17 in /usr/local/lib/python3.10/dist-packages (from requests<3,>=2.31.0->arcgis) (2024.2.2)\n",
            "Requirement already satisfied: oauthlib>=3.0.0 in /usr/local/lib/python3.10/dist-packages (from requests-oauthlib->arcgis) (3.2.2)\n",
            "Requirement already satisfied: gssapi in /usr/local/lib/python3.10/dist-packages (from requests-gssapi->arcgis) (1.8.3)\n",
            "Requirement already satisfied: cloudpickle>=1.5.0 in /usr/local/lib/python3.10/dist-packages (from dask>=2023.3.2->arcgis) (2.2.1)\n",
            "Requirement already satisfied: fsspec>=2021.09.0 in /usr/local/lib/python3.10/dist-packages (from dask>=2023.3.2->arcgis) (2023.6.0)\n",
            "Requirement already satisfied: partd>=1.2.0 in /usr/local/lib/python3.10/dist-packages (from dask>=2023.3.2->arcgis) (1.4.2)\n",
            "Requirement already satisfied: pyyaml>=5.3.1 in /usr/local/lib/python3.10/dist-packages (from dask>=2023.3.2->arcgis) (6.0.1)\n",
            "Requirement already satisfied: toolz>=0.10.0 in /usr/local/lib/python3.10/dist-packages (from dask>=2023.3.2->arcgis) (0.12.1)\n",
            "Requirement already satisfied: importlib-metadata>=4.13.0 in /usr/local/lib/python3.10/dist-packages (from dask>=2023.3.2->arcgis) (7.1.0)\n",
            "Requirement already satisfied: MarkupSafe>=2.0 in /usr/local/lib/python3.10/dist-packages (from jinja2->notebook->arcgis) (2.1.5)\n",
            "Requirement already satisfied: argon2-cffi-bindings in /usr/local/lib/python3.10/dist-packages (from argon2-cffi->notebook->arcgis) (21.2.0)\n",
            "Requirement already satisfied: platformdirs>=2.5 in /usr/local/lib/python3.10/dist-packages (from jupyter-core>=4.6.1->notebook->arcgis) (4.2.2)\n",
            "Requirement already satisfied: fastjsonschema>=2.15 in /usr/local/lib/python3.10/dist-packages (from nbformat->notebook->arcgis) (2.19.1)\n",
            "Requirement already satisfied: jsonschema>=2.6 in /usr/local/lib/python3.10/dist-packages (from nbformat->notebook->arcgis) (4.19.2)\n",
            "Requirement already satisfied: beautifulsoup4 in /usr/local/lib/python3.10/dist-packages (from nbconvert>=5->notebook->arcgis) (4.12.3)\n",
            "Requirement already satisfied: bleach in /usr/local/lib/python3.10/dist-packages (from nbconvert>=5->notebook->arcgis) (6.1.0)\n",
            "Requirement already satisfied: defusedxml in /usr/local/lib/python3.10/dist-packages (from nbconvert>=5->notebook->arcgis) (0.7.1)\n",
            "Requirement already satisfied: entrypoints>=0.2.2 in /usr/local/lib/python3.10/dist-packages (from nbconvert>=5->notebook->arcgis) (0.4)\n",
            "Requirement already satisfied: jupyterlab-pygments in /usr/local/lib/python3.10/dist-packages (from nbconvert>=5->notebook->arcgis) (0.3.0)\n",
            "Requirement already satisfied: mistune<2,>=0.8.1 in /usr/local/lib/python3.10/dist-packages (from nbconvert>=5->notebook->arcgis) (0.8.4)\n",
            "Requirement already satisfied: nbclient>=0.5.0 in /usr/local/lib/python3.10/dist-packages (from nbconvert>=5->notebook->arcgis) (0.10.0)\n",
            "Requirement already satisfied: pandocfilters>=1.4.1 in /usr/local/lib/python3.10/dist-packages (from nbconvert>=5->notebook->arcgis) (1.5.1)\n",
            "Requirement already satisfied: pygments>=2.4.1 in /usr/local/lib/python3.10/dist-packages (from nbconvert>=5->notebook->arcgis) (2.16.1)\n",
            "Requirement already satisfied: tinycss2 in /usr/local/lib/python3.10/dist-packages (from nbconvert>=5->notebook->arcgis) (1.3.0)\n",
            "Requirement already satisfied: ptyprocess; os_name != \"nt\" in /usr/local/lib/python3.10/dist-packages (from terminado>=0.8.3->notebook->arcgis) (0.7.0)\n",
            "Requirement already satisfied: notebook-shim>=0.2.3 in /usr/local/lib/python3.10/dist-packages (from nbclassic>=0.4.7->notebook->arcgis) (0.2.4)\n",
            "Requirement already satisfied: pycparser in /usr/local/lib/python3.10/dist-packages (from cffi>=1.12; platform_python_implementation != \"PyPy\"->cryptography->arcgis) (2.22)\n",
            "Requirement already satisfied: setuptools>=18.5 in /usr/local/lib/python3.10/dist-packages (from ipython>=4.0.0; python_version >= \"3.3\"->ipywidgets<8,>=7->arcgis) (67.7.2)\n",
            "Requirement already satisfied: jedi>=0.16 in /usr/local/lib/python3.10/dist-packages (from ipython>=4.0.0; python_version >= \"3.3\"->ipywidgets<8,>=7->arcgis) (0.19.1)\n",
            "Requirement already satisfied: decorator in /usr/local/lib/python3.10/dist-packages (from ipython>=4.0.0; python_version >= \"3.3\"->ipywidgets<8,>=7->arcgis) (4.4.2)\n",
            "Requirement already satisfied: pickleshare in /usr/local/lib/python3.10/dist-packages (from ipython>=4.0.0; python_version >= \"3.3\"->ipywidgets<8,>=7->arcgis) (0.7.5)\n",
            "Requirement already satisfied: prompt-toolkit!=3.0.0,!=3.0.1,<3.1.0,>=2.0.0 in /usr/local/lib/python3.10/dist-packages (from ipython>=4.0.0; python_version >= \"3.3\"->ipywidgets<8,>=7->arcgis) (3.0.43)\n",
            "Requirement already satisfied: backcall in /usr/local/lib/python3.10/dist-packages (from ipython>=4.0.0; python_version >= \"3.3\"->ipywidgets<8,>=7->arcgis) (0.2.0)\n",
            "Requirement already satisfied: pexpect>4.3; sys_platform != \"win32\" in /usr/local/lib/python3.10/dist-packages (from ipython>=4.0.0; python_version >= \"3.3\"->ipywidgets<8,>=7->arcgis) (4.9.0)\n",
            "Requirement already satisfied: six>=1.5 in /usr/local/lib/python3.10/dist-packages (from python-dateutil>=2.1->jupyter-client<=6.1.12->arcgis) (1.16.0)\n",
            "Requirement already satisfied: babel>=2.10 in /usr/local/lib/python3.10/dist-packages (from jupyterlab-server~=2.19->jupyterlab->arcgis) (2.15.0)\n",
            "Requirement already satisfied: json5>=0.9.0 in /usr/local/lib/python3.10/dist-packages (from jupyterlab-server~=2.19->jupyterlab->arcgis) (0.9.25)\n",
            "Requirement already satisfied: anyio<4,>=3.1.0 in /usr/local/lib/python3.10/dist-packages (from jupyter-server<3,>=1.16.0->jupyterlab->arcgis) (3.7.1)\n",
            "Requirement already satisfied: websocket-client in /usr/local/lib/python3.10/dist-packages (from jupyter-server<3,>=1.16.0->jupyterlab->arcgis) (1.8.0)\n",
            "Requirement already satisfied: y-py<0.7.0,>=0.6.0 in /usr/local/lib/python3.10/dist-packages (from jupyter-ydoc~=0.2.4->jupyterlab->arcgis) (0.6.2)\n",
            "Requirement already satisfied: jupyter-server-fileid<1,>=0.6.0 in /usr/local/lib/python3.10/dist-packages (from jupyter-server-ydoc~=0.8.0->jupyterlab->arcgis) (0.9.2)\n",
            "Requirement already satisfied: ypy-websocket<0.9.0,>=0.8.2 in /usr/local/lib/python3.10/dist-packages (from jupyter-server-ydoc~=0.8.0->jupyterlab->arcgis) (0.8.4)\n",
            "Requirement already satisfied: locket in /usr/local/lib/python3.10/dist-packages (from partd>=1.2.0->dask>=2023.3.2->arcgis) (1.0.0)\n",
            "Requirement already satisfied: zipp>=0.5 in /usr/local/lib/python3.10/dist-packages (from importlib-metadata>=4.13.0->dask>=2023.3.2->arcgis) (3.18.2)\n",
            "Requirement already satisfied: attrs>=22.2.0 in /usr/local/lib/python3.10/dist-packages (from jsonschema>=2.6->nbformat->notebook->arcgis) (23.2.0)\n",
            "Requirement already satisfied: jsonschema-specifications>=2023.03.6 in /usr/local/lib/python3.10/dist-packages (from jsonschema>=2.6->nbformat->notebook->arcgis) (2023.12.1)\n",
            "Requirement already satisfied: referencing>=0.28.4 in /usr/local/lib/python3.10/dist-packages (from jsonschema>=2.6->nbformat->notebook->arcgis) (0.35.1)\n",
            "Requirement already satisfied: rpds-py>=0.7.1 in /usr/local/lib/python3.10/dist-packages (from jsonschema>=2.6->nbformat->notebook->arcgis) (0.18.1)\n",
            "Requirement already satisfied: soupsieve>1.2 in /usr/local/lib/python3.10/dist-packages (from beautifulsoup4->nbconvert>=5->notebook->arcgis) (2.5)\n",
            "Requirement already satisfied: webencodings in /usr/local/lib/python3.10/dist-packages (from bleach->nbconvert>=5->notebook->arcgis) (0.5.1)\n",
            "Requirement already satisfied: parso<0.9.0,>=0.8.3 in /usr/local/lib/python3.10/dist-packages (from jedi>=0.16->ipython>=4.0.0; python_version >= \"3.3\"->ipywidgets<8,>=7->arcgis) (0.8.4)\n",
            "Requirement already satisfied: wcwidth in /usr/local/lib/python3.10/dist-packages (from prompt-toolkit!=3.0.0,!=3.0.1,<3.1.0,>=2.0.0->ipython>=4.0.0; python_version >= \"3.3\"->ipywidgets<8,>=7->arcgis) (0.2.13)\n",
            "Requirement already satisfied: sniffio>=1.1 in /usr/local/lib/python3.10/dist-packages (from anyio<4,>=3.1.0->jupyter-server<3,>=1.16.0->jupyterlab->arcgis) (1.3.1)\n",
            "Requirement already satisfied: exceptiongroup; python_version < \"3.11\" in /usr/local/lib/python3.10/dist-packages (from anyio<4,>=3.1.0->jupyter-server<3,>=1.16.0->jupyterlab->arcgis) (1.2.1)\n",
            "Requirement already satisfied: jupyter-events>=0.5.0 in /usr/local/lib/python3.10/dist-packages (from jupyter-server-fileid<1,>=0.6.0->jupyter-server-ydoc~=0.8.0->jupyterlab->arcgis) (0.10.0)\n",
            "Requirement already satisfied: aiofiles<23,>=22.1.0 in /usr/local/lib/python3.10/dist-packages (from ypy-websocket<0.9.0,>=0.8.2->jupyter-server-ydoc~=0.8.0->jupyterlab->arcgis) (22.1.0)\n",
            "Requirement already satisfied: aiosqlite<1,>=0.17.0 in /usr/local/lib/python3.10/dist-packages (from ypy-websocket<0.9.0,>=0.8.2->jupyter-server-ydoc~=0.8.0->jupyterlab->arcgis) (0.20.0)\n",
            "Requirement already satisfied: python-json-logger>=2.0.4 in /usr/local/lib/python3.10/dist-packages (from jupyter-events>=0.5.0->jupyter-server-fileid<1,>=0.6.0->jupyter-server-ydoc~=0.8.0->jupyterlab->arcgis) (2.0.7)\n",
            "Requirement already satisfied: rfc3339-validator in /usr/local/lib/python3.10/dist-packages (from jupyter-events>=0.5.0->jupyter-server-fileid<1,>=0.6.0->jupyter-server-ydoc~=0.8.0->jupyterlab->arcgis) (0.1.4)\n",
            "Requirement already satisfied: rfc3986-validator>=0.1.1 in /usr/local/lib/python3.10/dist-packages (from jupyter-events>=0.5.0->jupyter-server-fileid<1,>=0.6.0->jupyter-server-ydoc~=0.8.0->jupyterlab->arcgis) (0.1.1)\n",
            "Requirement already satisfied: typing_extensions>=4.0 in /usr/local/lib/python3.10/dist-packages (from aiosqlite<1,>=0.17.0->ypy-websocket<0.9.0,>=0.8.2->jupyter-server-ydoc~=0.8.0->jupyterlab->arcgis) (4.11.0)\n"
          ]
        }
      ]
    },
    {
      "cell_type": "code",
      "source": [
        "import pandas as pd\n",
        "from datetime import datetime\n",
        "from IPython.display import Image, HTML\n",
        "import matplotlib.pyplot as plt\n",
        "from sklearn.preprocessing import MinMaxScaler\n",
        "from datetime import datetime as dt\n",
        "\n",
        "# Upgrade pip and setuptools\n",
        "!pip install --upgrade pip setuptools\n",
        "\n",
        "# Uninstall any existing timm version\n",
        "!pip uninstall timm -y\n",
        "\n",
        "# Install a specific compatible version of timm\n",
        "!pip install timm==0.4.12\n",
        "\n",
        "# Ensure that the necessary packages are installed\n",
        "try:\n",
        "    from arcgis.gis import GIS\n",
        "    from arcgis.learn import MLModel, prepare_tabulardata\n",
        "    from arcgis.raster import Raster\n",
        "except ModuleNotFoundError as e:\n",
        "    missing_module = str(e).split(\"'\")[1]\n",
        "    if missing_module == 'arcgis':\n",
        "        !pip install arcgis --use-deprecated=legacy-resolver\n",
        "    # Retry import after installing the missing module\n",
        "    from arcgis.gis import GIS\n",
        "    from arcgis.learn import MLModel, prepare_tabulardata\n",
        "    from arcgis.raster import Raster\n",
        "\n",
        "from fastai.vision.all import *\n"
      ],
      "metadata": {
        "id": "CyBrIk_1IZtj",
        "colab": {
          "base_uri": "https://localhost:8080/",
          "height": 1000
        },
        "collapsed": true,
        "outputId": "43b2e827-b69d-475c-d09c-bafdcb8b1b27"
      },
      "execution_count": null,
      "outputs": [
        {
          "output_type": "stream",
          "name": "stdout",
          "text": [
            "Requirement already satisfied: pip in /usr/local/lib/python3.10/dist-packages (23.1.2)\n",
            "Collecting pip\n",
            "  Downloading pip-24.0-py3-none-any.whl (2.1 MB)\n",
            "\u001b[2K     \u001b[90m━━━━━━━━━━━━━━━━━━━━━━━━━━━━━━━━━━━━━━━━\u001b[0m \u001b[32m2.1/2.1 MB\u001b[0m \u001b[31m8.8 MB/s\u001b[0m eta \u001b[36m0:00:00\u001b[0m\n",
            "\u001b[?25hRequirement already satisfied: setuptools in /usr/local/lib/python3.10/dist-packages (67.7.2)\n",
            "Collecting setuptools\n",
            "  Using cached setuptools-70.0.0-py3-none-any.whl (863 kB)\n",
            "Installing collected packages: setuptools, pip\n",
            "  Attempting uninstall: setuptools\n",
            "    Found existing installation: setuptools 67.7.2\n",
            "    Uninstalling setuptools-67.7.2:\n",
            "      Successfully uninstalled setuptools-67.7.2\n",
            "  Attempting uninstall: pip\n",
            "    Found existing installation: pip 23.1.2\n",
            "    Uninstalling pip-23.1.2:\n",
            "      Successfully uninstalled pip-23.1.2\n",
            "\u001b[31mERROR: pip's dependency resolver does not currently take into account all the packages that are installed. This behaviour is the source of the following dependency conflicts.\n",
            "ipython 7.34.0 requires jedi>=0.16, which is not installed.\u001b[0m\u001b[31m\n",
            "\u001b[0mSuccessfully installed pip-24.0 setuptools-70.0.0\n"
          ]
        },
        {
          "output_type": "display_data",
          "data": {
            "application/vnd.colab-display-data+json": {
              "pip_warning": {
                "packages": [
                  "_distutils_hack",
                  "pkg_resources",
                  "setuptools"
                ]
              },
              "id": "7f56b487c887480ca2edd4a1b59226ef"
            }
          },
          "metadata": {}
        },
        {
          "output_type": "stream",
          "name": "stdout",
          "text": [
            "\u001b[33mWARNING: Skipping timm as it is not installed.\u001b[0m\u001b[33m\n",
            "\u001b[0m\u001b[33mWARNING: Running pip as the 'root' user can result in broken permissions and conflicting behaviour with the system package manager. It is recommended to use a virtual environment instead: https://pip.pypa.io/warnings/venv\u001b[0m\u001b[33m\n",
            "\u001b[0mCollecting timm==0.4.12\n",
            "  Downloading timm-0.4.12-py3-none-any.whl.metadata (30 kB)\n",
            "Requirement already satisfied: torch>=1.4 in /usr/local/lib/python3.10/dist-packages (from timm==0.4.12) (2.3.0+cu121)\n",
            "Requirement already satisfied: torchvision in /usr/local/lib/python3.10/dist-packages (from timm==0.4.12) (0.18.0+cu121)\n",
            "Requirement already satisfied: filelock in /usr/local/lib/python3.10/dist-packages (from torch>=1.4->timm==0.4.12) (3.14.0)\n",
            "Requirement already satisfied: typing-extensions>=4.8.0 in /usr/local/lib/python3.10/dist-packages (from torch>=1.4->timm==0.4.12) (4.11.0)\n",
            "Requirement already satisfied: sympy in /usr/local/lib/python3.10/dist-packages (from torch>=1.4->timm==0.4.12) (1.12)\n",
            "Requirement already satisfied: networkx in /usr/local/lib/python3.10/dist-packages (from torch>=1.4->timm==0.4.12) (3.3)\n",
            "Requirement already satisfied: jinja2 in /usr/local/lib/python3.10/dist-packages (from torch>=1.4->timm==0.4.12) (3.1.4)\n",
            "Requirement already satisfied: fsspec in /usr/local/lib/python3.10/dist-packages (from torch>=1.4->timm==0.4.12) (2023.6.0)\n",
            "Collecting nvidia-cuda-nvrtc-cu12==12.1.105 (from torch>=1.4->timm==0.4.12)\n",
            "  Downloading nvidia_cuda_nvrtc_cu12-12.1.105-py3-none-manylinux1_x86_64.whl.metadata (1.5 kB)\n",
            "Collecting nvidia-cuda-runtime-cu12==12.1.105 (from torch>=1.4->timm==0.4.12)\n",
            "  Downloading nvidia_cuda_runtime_cu12-12.1.105-py3-none-manylinux1_x86_64.whl.metadata (1.5 kB)\n",
            "Collecting nvidia-cuda-cupti-cu12==12.1.105 (from torch>=1.4->timm==0.4.12)\n",
            "  Downloading nvidia_cuda_cupti_cu12-12.1.105-py3-none-manylinux1_x86_64.whl.metadata (1.6 kB)\n",
            "Collecting nvidia-cudnn-cu12==8.9.2.26 (from torch>=1.4->timm==0.4.12)\n",
            "  Downloading nvidia_cudnn_cu12-8.9.2.26-py3-none-manylinux1_x86_64.whl.metadata (1.6 kB)\n",
            "Collecting nvidia-cublas-cu12==12.1.3.1 (from torch>=1.4->timm==0.4.12)\n",
            "  Downloading nvidia_cublas_cu12-12.1.3.1-py3-none-manylinux1_x86_64.whl.metadata (1.5 kB)\n",
            "Collecting nvidia-cufft-cu12==11.0.2.54 (from torch>=1.4->timm==0.4.12)\n",
            "  Downloading nvidia_cufft_cu12-11.0.2.54-py3-none-manylinux1_x86_64.whl.metadata (1.5 kB)\n",
            "Collecting nvidia-curand-cu12==10.3.2.106 (from torch>=1.4->timm==0.4.12)\n",
            "  Downloading nvidia_curand_cu12-10.3.2.106-py3-none-manylinux1_x86_64.whl.metadata (1.5 kB)\n",
            "Collecting nvidia-cusolver-cu12==11.4.5.107 (from torch>=1.4->timm==0.4.12)\n",
            "  Downloading nvidia_cusolver_cu12-11.4.5.107-py3-none-manylinux1_x86_64.whl.metadata (1.6 kB)\n",
            "Collecting nvidia-cusparse-cu12==12.1.0.106 (from torch>=1.4->timm==0.4.12)\n",
            "  Downloading nvidia_cusparse_cu12-12.1.0.106-py3-none-manylinux1_x86_64.whl.metadata (1.6 kB)\n",
            "Collecting nvidia-nccl-cu12==2.20.5 (from torch>=1.4->timm==0.4.12)\n",
            "  Downloading nvidia_nccl_cu12-2.20.5-py3-none-manylinux2014_x86_64.whl.metadata (1.8 kB)\n",
            "Collecting nvidia-nvtx-cu12==12.1.105 (from torch>=1.4->timm==0.4.12)\n",
            "  Downloading nvidia_nvtx_cu12-12.1.105-py3-none-manylinux1_x86_64.whl.metadata (1.7 kB)\n",
            "Requirement already satisfied: triton==2.3.0 in /usr/local/lib/python3.10/dist-packages (from torch>=1.4->timm==0.4.12) (2.3.0)\n",
            "Collecting nvidia-nvjitlink-cu12 (from nvidia-cusolver-cu12==11.4.5.107->torch>=1.4->timm==0.4.12)\n",
            "  Downloading nvidia_nvjitlink_cu12-12.5.40-py3-none-manylinux2014_x86_64.whl.metadata (1.5 kB)\n",
            "Requirement already satisfied: numpy in /usr/local/lib/python3.10/dist-packages (from torchvision->timm==0.4.12) (1.25.2)\n",
            "Requirement already satisfied: pillow!=8.3.*,>=5.3.0 in /usr/local/lib/python3.10/dist-packages (from torchvision->timm==0.4.12) (9.4.0)\n",
            "Requirement already satisfied: MarkupSafe>=2.0 in /usr/local/lib/python3.10/dist-packages (from jinja2->torch>=1.4->timm==0.4.12) (2.1.5)\n",
            "Requirement already satisfied: mpmath>=0.19 in /usr/local/lib/python3.10/dist-packages (from sympy->torch>=1.4->timm==0.4.12) (1.3.0)\n",
            "Downloading timm-0.4.12-py3-none-any.whl (376 kB)\n",
            "\u001b[2K   \u001b[90m━━━━━━━━━━━━━━━━━━━━━━━━━━━━━━━━━━━━━━━━\u001b[0m \u001b[32m377.0/377.0 kB\u001b[0m \u001b[31m4.1 MB/s\u001b[0m eta \u001b[36m0:00:00\u001b[0m\n",
            "\u001b[?25hDownloading nvidia_cublas_cu12-12.1.3.1-py3-none-manylinux1_x86_64.whl (410.6 MB)\n",
            "\u001b[2K   \u001b[90m━━━━━━━━━━━━━━━━━━━━━━━━━━━━━━━━━━━━━━━━\u001b[0m \u001b[32m410.6/410.6 MB\u001b[0m \u001b[31m1.4 MB/s\u001b[0m eta \u001b[36m0:00:00\u001b[0m\n",
            "\u001b[?25hDownloading nvidia_cuda_cupti_cu12-12.1.105-py3-none-manylinux1_x86_64.whl (14.1 MB)\n",
            "\u001b[2K   \u001b[90m━━━━━━━━━━━━━━━━━━━━━━━━━━━━━━━━━━━━━━━━\u001b[0m \u001b[32m14.1/14.1 MB\u001b[0m \u001b[31m35.0 MB/s\u001b[0m eta \u001b[36m0:00:00\u001b[0m\n",
            "\u001b[?25hDownloading nvidia_cuda_nvrtc_cu12-12.1.105-py3-none-manylinux1_x86_64.whl (23.7 MB)\n",
            "\u001b[2K   \u001b[90m━━━━━━━━━━━━━━━━━━━━━━━━━━━━━━━━━━━━━━━━\u001b[0m \u001b[32m23.7/23.7 MB\u001b[0m \u001b[31m41.5 MB/s\u001b[0m eta \u001b[36m0:00:00\u001b[0m\n",
            "\u001b[?25hDownloading nvidia_cuda_runtime_cu12-12.1.105-py3-none-manylinux1_x86_64.whl (823 kB)\n",
            "\u001b[2K   \u001b[90m━━━━━━━━━━━━━━━━━━━━━━━━━━━━━━━━━━━━━━━━\u001b[0m \u001b[32m823.6/823.6 kB\u001b[0m \u001b[31m38.5 MB/s\u001b[0m eta \u001b[36m0:00:00\u001b[0m\n",
            "\u001b[?25hDownloading nvidia_cudnn_cu12-8.9.2.26-py3-none-manylinux1_x86_64.whl (731.7 MB)\n",
            "\u001b[2K   \u001b[90m━━━━━━━━━━━━━━━━━━━━━━━━━━━━━━━━━━━━━━━━\u001b[0m \u001b[32m731.7/731.7 MB\u001b[0m \u001b[31m2.2 MB/s\u001b[0m eta \u001b[36m0:00:00\u001b[0m\n",
            "\u001b[?25hDownloading nvidia_cufft_cu12-11.0.2.54-py3-none-manylinux1_x86_64.whl (121.6 MB)\n",
            "\u001b[2K   \u001b[90m━━━━━━━━━━━━━━━━━━━━━━━━━━━━━━━━━━━━━━━━\u001b[0m \u001b[32m121.6/121.6 MB\u001b[0m \u001b[31m6.3 MB/s\u001b[0m eta \u001b[36m0:00:00\u001b[0m\n",
            "\u001b[?25hDownloading nvidia_curand_cu12-10.3.2.106-py3-none-manylinux1_x86_64.whl (56.5 MB)\n",
            "\u001b[2K   \u001b[90m━━━━━━━━━━━━━━━━━━━━━━━━━━━━━━━━━━━━━━━━\u001b[0m \u001b[32m56.5/56.5 MB\u001b[0m \u001b[31m4.6 MB/s\u001b[0m eta \u001b[36m0:00:00\u001b[0m\n",
            "\u001b[?25hDownloading nvidia_cusolver_cu12-11.4.5.107-py3-none-manylinux1_x86_64.whl (124.2 MB)\n",
            "\u001b[2K   \u001b[90m━━━━━━━━━━━━━━━━━━━━━━━━━━━━━━━━━━━━━━━━\u001b[0m \u001b[32m124.2/124.2 MB\u001b[0m \u001b[31m4.0 MB/s\u001b[0m eta \u001b[36m0:00:00\u001b[0m\n",
            "\u001b[?25hDownloading nvidia_cusparse_cu12-12.1.0.106-py3-none-manylinux1_x86_64.whl (196.0 MB)\n",
            "\u001b[2K   \u001b[90m━━━━━━━━━━━━━━━━━━━━━━━━━━━━━━━━━━━━━━━━\u001b[0m \u001b[32m196.0/196.0 MB\u001b[0m \u001b[31m4.7 MB/s\u001b[0m eta \u001b[36m0:00:00\u001b[0m\n",
            "\u001b[?25hDownloading nvidia_nccl_cu12-2.20.5-py3-none-manylinux2014_x86_64.whl (176.2 MB)\n",
            "\u001b[2K   \u001b[90m━━━━━━━━━━━━━━━━━━━━━━━━━━━━━━━━━━━━━━━━\u001b[0m \u001b[32m176.2/176.2 MB\u001b[0m \u001b[31m3.9 MB/s\u001b[0m eta \u001b[36m0:00:00\u001b[0m\n",
            "\u001b[?25hDownloading nvidia_nvtx_cu12-12.1.105-py3-none-manylinux1_x86_64.whl (99 kB)\n",
            "\u001b[2K   \u001b[90m━━━━━━━━━━━━━━━━━━━━━━━━━━━━━━━━━━━━━━━━\u001b[0m \u001b[32m99.1/99.1 kB\u001b[0m \u001b[31m4.7 MB/s\u001b[0m eta \u001b[36m0:00:00\u001b[0m\n",
            "\u001b[?25hDownloading nvidia_nvjitlink_cu12-12.5.40-py3-none-manylinux2014_x86_64.whl (21.3 MB)\n",
            "\u001b[2K   \u001b[90m━━━━━━━━━━━━━━━━━━━━━━━━━━━━━━━━━━━━━━━━\u001b[0m \u001b[32m21.3/21.3 MB\u001b[0m \u001b[31m8.2 MB/s\u001b[0m eta \u001b[36m0:00:00\u001b[0m\n",
            "\u001b[?25hInstalling collected packages: nvidia-nvtx-cu12, nvidia-nvjitlink-cu12, nvidia-nccl-cu12, nvidia-curand-cu12, nvidia-cufft-cu12, nvidia-cuda-runtime-cu12, nvidia-cuda-nvrtc-cu12, nvidia-cuda-cupti-cu12, nvidia-cublas-cu12, nvidia-cusparse-cu12, nvidia-cudnn-cu12, nvidia-cusolver-cu12, timm\n",
            "Successfully installed nvidia-cublas-cu12-12.1.3.1 nvidia-cuda-cupti-cu12-12.1.105 nvidia-cuda-nvrtc-cu12-12.1.105 nvidia-cuda-runtime-cu12-12.1.105 nvidia-cudnn-cu12-8.9.2.26 nvidia-cufft-cu12-11.0.2.54 nvidia-curand-cu12-10.3.2.106 nvidia-cusolver-cu12-11.4.5.107 nvidia-cusparse-cu12-12.1.0.106 nvidia-nccl-cu12-2.20.5 nvidia-nvjitlink-cu12-12.5.40 nvidia-nvtx-cu12-12.1.105 timm-0.4.12\n",
            "\u001b[33mWARNING: Running pip as the 'root' user can result in broken permissions and conflicting behaviour with the system package manager. It is recommended to use a virtual environment instead: https://pip.pypa.io/warnings/venv\u001b[0m\u001b[33m\n",
            "\u001b[0mCollecting arcgis\n",
            "  Downloading arcgis-2.3.0.3.tar.gz (47.4 MB)\n",
            "\u001b[2K     \u001b[90m━━━━━━━━━━━━━━━━━━━━━━━━━━━━━━━━━━━━━━━━\u001b[0m \u001b[32m47.4/47.4 MB\u001b[0m \u001b[31m11.1 MB/s\u001b[0m eta \u001b[36m0:00:00\u001b[0m\n",
            "\u001b[?25h  Preparing metadata (setup.py) ... \u001b[?25l\u001b[?25hdone\n",
            "Requirement already satisfied: pillow in /usr/local/lib/python3.10/dist-packages (from arcgis) (9.4.0)\n",
            "Requirement already satisfied: urllib3<3,>=1.26.1 in /usr/local/lib/python3.10/dist-packages (from arcgis) (2.0.7)\n",
            "Requirement already satisfied: cachetools in /usr/local/lib/python3.10/dist-packages (from arcgis) (5.3.3)\n",
            "Requirement already satisfied: lxml in /usr/local/lib/python3.10/dist-packages (from arcgis) (4.9.4)\n",
            "Requirement already satisfied: notebook in /usr/local/lib/python3.10/dist-packages (from arcgis) (6.5.5)\n",
            "Requirement already satisfied: cryptography in /usr/local/lib/python3.10/dist-packages (from arcgis) (42.0.7)\n",
            "Requirement already satisfied: ipywidgets<8,>=7 in /usr/local/lib/python3.10/dist-packages (from arcgis) (7.7.1)\n",
            "Requirement already satisfied: widgetsnbextension>=3 in /usr/local/lib/python3.10/dist-packages (from arcgis) (3.6.6)\n",
            "Requirement already satisfied: jupyter-client<=6.1.12 in /usr/local/lib/python3.10/dist-packages (from arcgis) (6.1.12)\n",
            "Requirement already satisfied: pandas<2.2.0,>=2.0.0 in /usr/local/lib/python3.10/dist-packages (from arcgis) (2.0.3)\n",
            "Requirement already satisfied: numpy<2,>=1.21.6 in /usr/local/lib/python3.10/dist-packages (from arcgis) (1.25.2)\n",
            "Requirement already satisfied: matplotlib in /usr/local/lib/python3.10/dist-packages (from arcgis) (3.7.1)\n",
            "Requirement already satisfied: keyring>=23.3.0 in /usr/lib/python3/dist-packages (from arcgis) (23.5.0)\n",
            "Processing /root/.cache/pip/wheels/b2/3e/3c/dac5aba13bfca730a3fd593edb44677942d1a98c4338624a18/pylerc-4.0-py3-none-any.whl (from arcgis)\n",
            "Collecting ujson>=3 (from arcgis)\n",
            "  Using cached ujson-5.10.0-cp310-cp310-manylinux_2_17_x86_64.manylinux2014_x86_64.whl (53 kB)\n",
            "Collecting jupyterlab (from arcgis)\n",
            "  Using cached jupyterlab-4.2.1-py3-none-any.whl (11.6 MB)\n",
            "Requirement already satisfied: pyshp>=2 in /usr/local/lib/python3.10/dist-packages (from arcgis) (2.3.1)\n",
            "Collecting geomet (from arcgis)\n",
            "  Using cached geomet-1.1.0-py3-none-any.whl (31 kB)\n",
            "Requirement already satisfied: requests<2.32.0,>=2.30.0 in /usr/local/lib/python3.10/dist-packages (from arcgis) (2.31.0)\n",
            "Requirement already satisfied: requests-oauthlib in /usr/local/lib/python3.10/dist-packages (from arcgis) (1.3.1)\n",
            "Collecting requests_toolbelt (from arcgis)\n",
            "  Using cached requests_toolbelt-1.0.0-py2.py3-none-any.whl (54 kB)\n",
            "Collecting pyspnego>=0.8.0 (from arcgis)\n",
            "  Using cached pyspnego-0.10.2-py3-none-any.whl (129 kB)\n",
            "Collecting requests-kerberos (from arcgis)\n",
            "  Using cached requests_kerberos-0.14.0-py2.py3-none-any.whl (11 kB)\n",
            "Collecting requests-gssapi (from arcgis)\n",
            "  Using cached requests_gssapi-1.3.0-py3-none-any.whl (12 kB)\n",
            "Requirement already satisfied: dask>=2023.3.2 in /usr/local/lib/python3.10/dist-packages (from arcgis) (2023.8.1)\n",
            "Requirement already satisfied: matplotlib-inline in /usr/local/lib/python3.10/dist-packages (from arcgis) (0.1.7)\n",
            "Requirement already satisfied: pyarrow>=11.0.0 in /usr/local/lib/python3.10/dist-packages (from arcgis) (14.0.2)\n",
            "Collecting puremagic<2,>=1.15 (from arcgis)\n",
            "  Using cached puremagic-1.23-py3-none-any.whl (37 kB)\n",
            "Collecting truststore>=0.7.0 (from arcgis)\n",
            "  Using cached truststore-0.9.1-py3-none-any.whl (17 kB)\n",
            "Requirement already satisfied: jinja2 in /usr/local/lib/python3.10/dist-packages (from notebook->arcgis) (3.1.4)\n",
            "Requirement already satisfied: tornado>=6.1 in /usr/local/lib/python3.10/dist-packages (from notebook->arcgis) (6.3.3)\n",
            "Requirement already satisfied: pyzmq<25,>=17 in /usr/local/lib/python3.10/dist-packages (from notebook->arcgis) (24.0.1)\n",
            "Requirement already satisfied: argon2-cffi in /usr/local/lib/python3.10/dist-packages (from notebook->arcgis) (23.1.0)\n",
            "Requirement already satisfied: traitlets>=4.2.1 in /usr/local/lib/python3.10/dist-packages (from notebook->arcgis) (5.7.1)\n",
            "Requirement already satisfied: jupyter-core>=4.6.1 in /usr/local/lib/python3.10/dist-packages (from notebook->arcgis) (5.7.2)\n",
            "Requirement already satisfied: ipython-genutils in /usr/local/lib/python3.10/dist-packages (from notebook->arcgis) (0.2.0)\n",
            "Requirement already satisfied: nbformat in /usr/local/lib/python3.10/dist-packages (from notebook->arcgis) (5.10.4)\n",
            "Requirement already satisfied: nbconvert>=5 in /usr/local/lib/python3.10/dist-packages (from notebook->arcgis) (6.5.4)\n",
            "Requirement already satisfied: nest-asyncio>=1.5 in /usr/local/lib/python3.10/dist-packages (from notebook->arcgis) (1.6.0)\n",
            "Requirement already satisfied: ipykernel in /usr/local/lib/python3.10/dist-packages (from notebook->arcgis) (5.5.6)\n",
            "Requirement already satisfied: Send2Trash>=1.8.0 in /usr/local/lib/python3.10/dist-packages (from notebook->arcgis) (1.8.3)\n",
            "Requirement already satisfied: terminado>=0.8.3 in /usr/local/lib/python3.10/dist-packages (from notebook->arcgis) (0.18.1)\n",
            "Requirement already satisfied: prometheus-client in /usr/local/lib/python3.10/dist-packages (from notebook->arcgis) (0.20.0)\n",
            "Requirement already satisfied: nbclassic>=0.4.7 in /usr/local/lib/python3.10/dist-packages (from notebook->arcgis) (1.0.0)\n",
            "Requirement already satisfied: cffi>=1.12; platform_python_implementation != \"PyPy\" in /usr/local/lib/python3.10/dist-packages (from cryptography->arcgis) (1.16.0)\n",
            "Requirement already satisfied: ipython>=4.0.0; python_version >= \"3.3\" in /usr/local/lib/python3.10/dist-packages (from ipywidgets<8,>=7->arcgis) (7.34.0)\n",
            "Requirement already satisfied: jupyterlab-widgets>=1.0.0; python_version >= \"3.6\" in /usr/local/lib/python3.10/dist-packages (from ipywidgets<8,>=7->arcgis) (3.0.10)\n",
            "Requirement already satisfied: python-dateutil>=2.1 in /usr/local/lib/python3.10/dist-packages (from jupyter-client<=6.1.12->arcgis) (2.8.2)\n",
            "Requirement already satisfied: pytz>=2020.1 in /usr/local/lib/python3.10/dist-packages (from pandas<2.2.0,>=2.0.0->arcgis) (2023.4)\n",
            "Requirement already satisfied: tzdata>=2022.1 in /usr/local/lib/python3.10/dist-packages (from pandas<2.2.0,>=2.0.0->arcgis) (2024.1)\n",
            "Requirement already satisfied: contourpy>=1.0.1 in /usr/local/lib/python3.10/dist-packages (from matplotlib->arcgis) (1.2.1)\n",
            "Requirement already satisfied: cycler>=0.10 in /usr/local/lib/python3.10/dist-packages (from matplotlib->arcgis) (0.12.1)\n",
            "Requirement already satisfied: fonttools>=4.22.0 in /usr/local/lib/python3.10/dist-packages (from matplotlib->arcgis) (4.51.0)\n",
            "Requirement already satisfied: kiwisolver>=1.0.1 in /usr/local/lib/python3.10/dist-packages (from matplotlib->arcgis) (1.4.5)\n",
            "Requirement already satisfied: packaging>=20.0 in /usr/local/lib/python3.10/dist-packages (from matplotlib->arcgis) (24.0)\n",
            "Requirement already satisfied: pyparsing>=2.3.1 in /usr/local/lib/python3.10/dist-packages (from matplotlib->arcgis) (3.1.2)\n",
            "Collecting async-lru>=1.0.0 (from jupyterlab->arcgis)\n",
            "  Using cached async_lru-2.0.4-py3-none-any.whl (6.1 kB)\n",
            "Collecting httpx>=0.25.0 (from jupyterlab->arcgis)\n",
            "  Using cached httpx-0.27.0-py3-none-any.whl (75 kB)\n",
            "Collecting jupyter-lsp>=2.0.0 (from jupyterlab->arcgis)\n",
            "  Using cached jupyter_lsp-2.2.5-py3-none-any.whl (69 kB)\n",
            "Collecting jupyter-server<3,>=2.4.0 (from jupyterlab->arcgis)\n",
            "  Using cached jupyter_server-2.14.0-py3-none-any.whl (383 kB)\n",
            "Collecting jupyterlab-server<3,>=2.27.1 (from jupyterlab->arcgis)\n",
            "  Using cached jupyterlab_server-2.27.2-py3-none-any.whl (59 kB)\n",
            "Requirement already satisfied: notebook-shim>=0.2 in /usr/local/lib/python3.10/dist-packages (from jupyterlab->arcgis) (0.2.4)\n",
            "Requirement already satisfied: tomli>=1.2.2; python_version < \"3.11\" in /usr/local/lib/python3.10/dist-packages (from jupyterlab->arcgis) (2.0.1)\n",
            "Requirement already satisfied: click in /usr/local/lib/python3.10/dist-packages (from geomet->arcgis) (8.1.7)\n",
            "Requirement already satisfied: charset-normalizer<4,>=2 in /usr/local/lib/python3.10/dist-packages (from requests<2.32.0,>=2.30.0->arcgis) (3.3.2)\n",
            "Requirement already satisfied: idna<4,>=2.5 in /usr/local/lib/python3.10/dist-packages (from requests<2.32.0,>=2.30.0->arcgis) (3.7)\n",
            "Requirement already satisfied: certifi>=2017.4.17 in /usr/local/lib/python3.10/dist-packages (from requests<2.32.0,>=2.30.0->arcgis) (2024.2.2)\n",
            "Requirement already satisfied: oauthlib>=3.0.0 in /usr/local/lib/python3.10/dist-packages (from requests-oauthlib->arcgis) (3.2.2)\n",
            "Processing /root/.cache/pip/wheels/87/3d/a4/a49f352c16a790928eaa1c84e8a8b505f85651bf450de80761/gssapi-1.8.3-cp310-cp310-linux_x86_64.whl (from requests-gssapi->arcgis)\n",
            "Requirement already satisfied: cloudpickle>=1.5.0 in /usr/local/lib/python3.10/dist-packages (from dask>=2023.3.2->arcgis) (2.2.1)\n",
            "Requirement already satisfied: fsspec>=2021.09.0 in /usr/local/lib/python3.10/dist-packages (from dask>=2023.3.2->arcgis) (2023.6.0)\n",
            "Requirement already satisfied: partd>=1.2.0 in /usr/local/lib/python3.10/dist-packages (from dask>=2023.3.2->arcgis) (1.4.2)\n",
            "Requirement already satisfied: pyyaml>=5.3.1 in /usr/local/lib/python3.10/dist-packages (from dask>=2023.3.2->arcgis) (6.0.1)\n",
            "Requirement already satisfied: toolz>=0.10.0 in /usr/local/lib/python3.10/dist-packages (from dask>=2023.3.2->arcgis) (0.12.1)\n",
            "Requirement already satisfied: importlib-metadata>=4.13.0 in /usr/local/lib/python3.10/dist-packages (from dask>=2023.3.2->arcgis) (7.1.0)\n",
            "Requirement already satisfied: MarkupSafe>=2.0 in /usr/local/lib/python3.10/dist-packages (from jinja2->notebook->arcgis) (2.1.5)\n",
            "Requirement already satisfied: argon2-cffi-bindings in /usr/local/lib/python3.10/dist-packages (from argon2-cffi->notebook->arcgis) (21.2.0)\n",
            "Requirement already satisfied: platformdirs>=2.5 in /usr/local/lib/python3.10/dist-packages (from jupyter-core>=4.6.1->notebook->arcgis) (4.2.2)\n",
            "Requirement already satisfied: fastjsonschema>=2.15 in /usr/local/lib/python3.10/dist-packages (from nbformat->notebook->arcgis) (2.19.1)\n",
            "Requirement already satisfied: jsonschema>=2.6 in /usr/local/lib/python3.10/dist-packages (from nbformat->notebook->arcgis) (4.19.2)\n",
            "Requirement already satisfied: beautifulsoup4 in /usr/local/lib/python3.10/dist-packages (from nbconvert>=5->notebook->arcgis) (4.12.3)\n",
            "Requirement already satisfied: bleach in /usr/local/lib/python3.10/dist-packages (from nbconvert>=5->notebook->arcgis) (6.1.0)\n",
            "Requirement already satisfied: defusedxml in /usr/local/lib/python3.10/dist-packages (from nbconvert>=5->notebook->arcgis) (0.7.1)\n",
            "Requirement already satisfied: entrypoints>=0.2.2 in /usr/local/lib/python3.10/dist-packages (from nbconvert>=5->notebook->arcgis) (0.4)\n",
            "Requirement already satisfied: jupyterlab-pygments in /usr/local/lib/python3.10/dist-packages (from nbconvert>=5->notebook->arcgis) (0.3.0)\n",
            "Requirement already satisfied: mistune<2,>=0.8.1 in /usr/local/lib/python3.10/dist-packages (from nbconvert>=5->notebook->arcgis) (0.8.4)\n",
            "Requirement already satisfied: nbclient>=0.5.0 in /usr/local/lib/python3.10/dist-packages (from nbconvert>=5->notebook->arcgis) (0.10.0)\n",
            "Requirement already satisfied: pandocfilters>=1.4.1 in /usr/local/lib/python3.10/dist-packages (from nbconvert>=5->notebook->arcgis) (1.5.1)\n",
            "Requirement already satisfied: pygments>=2.4.1 in /usr/local/lib/python3.10/dist-packages (from nbconvert>=5->notebook->arcgis) (2.16.1)\n",
            "Requirement already satisfied: tinycss2 in /usr/local/lib/python3.10/dist-packages (from nbconvert>=5->notebook->arcgis) (1.3.0)\n",
            "Requirement already satisfied: ptyprocess; os_name != \"nt\" in /usr/local/lib/python3.10/dist-packages (from terminado>=0.8.3->notebook->arcgis) (0.7.0)\n",
            "Requirement already satisfied: pycparser in /usr/local/lib/python3.10/dist-packages (from cffi>=1.12; platform_python_implementation != \"PyPy\"->cryptography->arcgis) (2.22)\n",
            "Requirement already satisfied: setuptools>=18.5 in /usr/local/lib/python3.10/dist-packages (from ipython>=4.0.0; python_version >= \"3.3\"->ipywidgets<8,>=7->arcgis) (70.0.0)\n",
            "Collecting jedi>=0.16 (from ipython>=4.0.0; python_version >= \"3.3\"->ipywidgets<8,>=7->arcgis)\n",
            "  Using cached jedi-0.19.1-py2.py3-none-any.whl (1.6 MB)\n",
            "Requirement already satisfied: decorator in /usr/local/lib/python3.10/dist-packages (from ipython>=4.0.0; python_version >= \"3.3\"->ipywidgets<8,>=7->arcgis) (4.4.2)\n",
            "Requirement already satisfied: pickleshare in /usr/local/lib/python3.10/dist-packages (from ipython>=4.0.0; python_version >= \"3.3\"->ipywidgets<8,>=7->arcgis) (0.7.5)\n",
            "Requirement already satisfied: prompt-toolkit!=3.0.0,!=3.0.1,<3.1.0,>=2.0.0 in /usr/local/lib/python3.10/dist-packages (from ipython>=4.0.0; python_version >= \"3.3\"->ipywidgets<8,>=7->arcgis) (3.0.43)\n",
            "Requirement already satisfied: backcall in /usr/local/lib/python3.10/dist-packages (from ipython>=4.0.0; python_version >= \"3.3\"->ipywidgets<8,>=7->arcgis) (0.2.0)\n",
            "Requirement already satisfied: pexpect>4.3; sys_platform != \"win32\" in /usr/local/lib/python3.10/dist-packages (from ipython>=4.0.0; python_version >= \"3.3\"->ipywidgets<8,>=7->arcgis) (4.9.0)\n",
            "Requirement already satisfied: six>=1.5 in /usr/local/lib/python3.10/dist-packages (from python-dateutil>=2.1->jupyter-client<=6.1.12->arcgis) (1.16.0)\n",
            "Requirement already satisfied: typing-extensions>=4.0.0; python_version < \"3.11\" in /usr/local/lib/python3.10/dist-packages (from async-lru>=1.0.0->jupyterlab->arcgis) (4.11.0)\n",
            "Requirement already satisfied: anyio in /usr/local/lib/python3.10/dist-packages (from httpx>=0.25.0->jupyterlab->arcgis) (3.7.1)\n",
            "Collecting httpcore==1.* (from httpx>=0.25.0->jupyterlab->arcgis)\n",
            "  Using cached httpcore-1.0.5-py3-none-any.whl (77 kB)\n",
            "Requirement already satisfied: sniffio in /usr/local/lib/python3.10/dist-packages (from httpx>=0.25.0->jupyterlab->arcgis) (1.3.1)\n",
            "Collecting jupyter-events>=0.9.0 (from jupyter-server<3,>=2.4.0->jupyterlab->arcgis)\n",
            "  Using cached jupyter_events-0.10.0-py3-none-any.whl (18 kB)\n",
            "Collecting jupyter-server-terminals>=0.4.4 (from jupyter-server<3,>=2.4.0->jupyterlab->arcgis)\n",
            "  Using cached jupyter_server_terminals-0.5.3-py3-none-any.whl (13 kB)\n",
            "Collecting overrides>=5.0 (from jupyter-server<3,>=2.4.0->jupyterlab->arcgis)\n",
            "  Using cached overrides-7.7.0-py3-none-any.whl (17 kB)\n",
            "Requirement already satisfied: websocket-client>=1.7 in /usr/local/lib/python3.10/dist-packages (from jupyter-server<3,>=2.4.0->jupyterlab->arcgis) (1.8.0)\n",
            "Requirement already satisfied: babel>=2.10 in /usr/local/lib/python3.10/dist-packages (from jupyterlab-server<3,>=2.27.1->jupyterlab->arcgis) (2.15.0)\n",
            "Collecting json5>=0.9.0 (from jupyterlab-server<3,>=2.27.1->jupyterlab->arcgis)\n",
            "  Using cached json5-0.9.25-py3-none-any.whl (30 kB)\n",
            "Requirement already satisfied: locket in /usr/local/lib/python3.10/dist-packages (from partd>=1.2.0->dask>=2023.3.2->arcgis) (1.0.0)\n",
            "Requirement already satisfied: zipp>=0.5 in /usr/local/lib/python3.10/dist-packages (from importlib-metadata>=4.13.0->dask>=2023.3.2->arcgis) (3.18.2)\n",
            "Requirement already satisfied: attrs>=22.2.0 in /usr/local/lib/python3.10/dist-packages (from jsonschema>=2.6->nbformat->notebook->arcgis) (23.2.0)\n",
            "Requirement already satisfied: jsonschema-specifications>=2023.03.6 in /usr/local/lib/python3.10/dist-packages (from jsonschema>=2.6->nbformat->notebook->arcgis) (2023.12.1)\n",
            "Requirement already satisfied: referencing>=0.28.4 in /usr/local/lib/python3.10/dist-packages (from jsonschema>=2.6->nbformat->notebook->arcgis) (0.35.1)\n",
            "Requirement already satisfied: rpds-py>=0.7.1 in /usr/local/lib/python3.10/dist-packages (from jsonschema>=2.6->nbformat->notebook->arcgis) (0.18.1)\n",
            "Requirement already satisfied: soupsieve>1.2 in /usr/local/lib/python3.10/dist-packages (from beautifulsoup4->nbconvert>=5->notebook->arcgis) (2.5)\n",
            "Requirement already satisfied: webencodings in /usr/local/lib/python3.10/dist-packages (from bleach->nbconvert>=5->notebook->arcgis) (0.5.1)\n",
            "Requirement already satisfied: parso<0.9.0,>=0.8.3 in /usr/local/lib/python3.10/dist-packages (from jedi>=0.16->ipython>=4.0.0; python_version >= \"3.3\"->ipywidgets<8,>=7->arcgis) (0.8.4)\n",
            "Requirement already satisfied: wcwidth in /usr/local/lib/python3.10/dist-packages (from prompt-toolkit!=3.0.0,!=3.0.1,<3.1.0,>=2.0.0->ipython>=4.0.0; python_version >= \"3.3\"->ipywidgets<8,>=7->arcgis) (0.2.13)\n",
            "Requirement already satisfied: exceptiongroup; python_version < \"3.11\" in /usr/local/lib/python3.10/dist-packages (from anyio->httpx>=0.25.0->jupyterlab->arcgis) (1.2.1)\n",
            "Collecting h11<0.15,>=0.13 (from httpcore==1.*->httpx>=0.25.0->jupyterlab->arcgis)\n",
            "  Using cached h11-0.14.0-py3-none-any.whl (58 kB)\n",
            "Collecting python-json-logger>=2.0.4 (from jupyter-events>=0.9.0->jupyter-server<3,>=2.4.0->jupyterlab->arcgis)\n",
            "  Using cached python_json_logger-2.0.7-py3-none-any.whl (8.1 kB)\n",
            "Collecting rfc3339-validator (from jupyter-events>=0.9.0->jupyter-server<3,>=2.4.0->jupyterlab->arcgis)\n",
            "  Using cached rfc3339_validator-0.1.4-py2.py3-none-any.whl (3.5 kB)\n",
            "Collecting rfc3986-validator>=0.1.1 (from jupyter-events>=0.9.0->jupyter-server<3,>=2.4.0->jupyterlab->arcgis)\n",
            "  Using cached rfc3986_validator-0.1.1-py2.py3-none-any.whl (4.2 kB)\n",
            "Building wheels for collected packages: arcgis\n",
            "  Building wheel for arcgis (setup.py) ... \u001b[?25l\u001b[?25hdone\n",
            "  Created wheel for arcgis: filename=arcgis-2.3.0.3-cp310-cp310-linux_x86_64.whl size=8696590 sha256=3418023030b22537db58c23f4d1e7c33034dd6a119a9a0defee4330af4dfd62a\n",
            "  Stored in directory: /root/.cache/pip/wheels/86/79/8f/55e9bdaa732e3eab81d2fce8b2dc7e1743b97002867bb61eea\n",
            "Successfully built arcgis\n",
            "Installing collected packages: pylerc, ujson, async-lru, h11, httpcore, httpx, python-json-logger, rfc3339-validator, rfc3986-validator, jupyter-events, jupyter-server-terminals, overrides, jupyter-server, jupyter-lsp, json5, jupyterlab-server, jupyterlab, geomet, requests_toolbelt, pyspnego, requests-kerberos, gssapi, requests-gssapi, puremagic, truststore, arcgis, jedi\n",
            "  Attempting uninstall: jupyter-server\n",
            "    Found existing installation: jupyter-server 1.24.0\n",
            "    Uninstalling jupyter-server-1.24.0:\n",
            "      Successfully uninstalled jupyter-server-1.24.0\n",
            "\u001b[31mERROR: pip's legacy dependency resolver does not consider dependency conflicts when selecting packages. This behaviour is the source of the following dependency conflicts.\n",
            "jupyter-server 2.14.0 requires jupyter-client>=7.4.4, but you'll have jupyter-client 6.1.12 which is incompatible.\n",
            "jupyterlab 4.2.1 requires ipykernel>=6.5.0, but you'll have ipykernel 5.5.6 which is incompatible.\u001b[0m\u001b[31m\n",
            "\u001b[0mSuccessfully installed arcgis-2.3.0.3 async-lru-2.0.4 geomet-1.1.0 gssapi-1.8.3 h11-0.14.0 httpcore-1.0.5 httpx-0.27.0 jedi-0.19.1 json5-0.9.25 jupyter-events-0.10.0 jupyter-lsp-2.2.5 jupyter-server-2.14.0 jupyter-server-terminals-0.5.3 jupyterlab-4.2.1 jupyterlab-server-2.27.2 overrides-7.7.0 puremagic-1.23 pylerc-4.0 pyspnego-0.10.2 python-json-logger-2.0.7 requests-gssapi-1.3.0 requests-kerberos-0.14.0 requests_toolbelt-1.0.0 rfc3339-validator-0.1.4 rfc3986-validator-0.1.1 truststore-0.9.1 ujson-5.10.0\n",
            "\u001b[33mWARNING: Running pip as the 'root' user can result in broken permissions and conflicting behaviour with the system package manager. It is recommended to use a virtual environment instead: https://pip.pypa.io/warnings/venv\u001b[0m\u001b[33m\n",
            "\u001b[0mtorch not available\n",
            "\n",
            "No module named 'fastai.basic_train'\n"
          ]
        }
      ]
    },
    {
      "cell_type": "code",
      "source": [
        "# Import necessary modules\n",
        "from arcgis.gis import GIS\n",
        "\n",
        "# Establish GIS connection for the first instance\n",
        "try:\n",
        "    gis = GIS()\n",
        "    print(\"Connected to GIS as anonymous user\")\n",
        "except Exception as e:\n",
        "    print(\"Failed to connect to GIS:\", e)\n",
        "\n",
        "# Attempting to establish the second GIS connection\n",
        "try:\n",
        "    gis_enterp = GIS(\"https://pythonapi.playground.esri.com/portal\", \"arcgis_python\", \"amazing_arcgis_123\")\n",
        "    print(\"Connected to enterprise GIS\")\n",
        "except Exception as e:\n",
        "    print(\"Failed to connect to enterprise GIS:\", e)\n",
        "\n"
      ],
      "metadata": {
        "colab": {
          "base_uri": "https://localhost:8080/"
        },
        "id": "ObfRjOsYJtqo",
        "outputId": "028ec3cc-cf74-4b4d-ee55-cd5766462e17"
      },
      "execution_count": null,
      "outputs": [
        {
          "output_type": "stream",
          "name": "stdout",
          "text": [
            "Connected to GIS as anonymous user\n",
            "Connected to enterprise GIS\n"
          ]
        }
      ]
    },
    {
      "cell_type": "code",
      "source": [
        "# get image\n",
        "s2 = gis.content.get('fd61b9e0c69c4e14bebd50a9a968348c')\n",
        "sentinel = s2.layers[0]\n",
        "s2"
      ],
      "metadata": {
        "colab": {
          "base_uri": "https://localhost:8080/",
          "height": 177
        },
        "id": "4SyKvl_iDKI5",
        "outputId": "fc470e37-a2ee-4b13-dab1-ae787a6739d6"
      },
      "execution_count": null,
      "outputs": [
        {
          "output_type": "execute_result",
          "data": {
            "text/plain": [
              "<Item title:\"Sentinel-2 Views\" type:Imagery Layer owner:esri>"
            ],
            "text/html": [
              "<div class=\"item_container\" style=\"height: auto; overflow: hidden; border: 1px solid #cfcfcf; border-radius: 2px; background: #f6fafa; line-height: 1.21429em; padding: 10px;\">\n",
              "                    <div class=\"item_left\" style=\"width: 210px; float: left;\">\n",
              "                       <a href='https://www.arcgis.com/home/item.html?id=fd61b9e0c69c4e14bebd50a9a968348c' target='_blank'>\n",
              "                        <img src='data:image/png;base64,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' width='200' height='133' class=\"itemThumbnail\">\n",
              "                       </a>\n",
              "                    </div>\n",
              "\n",
              "                    <div class=\"item_right\"     style=\"float: none; width: auto; overflow: hidden;\">\n",
              "                        <a href='https://www.arcgis.com/home/item.html?id=fd61b9e0c69c4e14bebd50a9a968348c' target='_blank'><b>Sentinel-2 Views</b>\n",
              "                        </a>\n",
              "                        <br/>Sentinel-2, 10m Multispectral, Multitemporal, 13-band images with visual renderings and indices.  This Imagery Layer is sourced from the Sentinel-2 on AWS collections and is updated daily with new imagery.  This layer is in beta release.\n",
              "<img src='https://www.arcgis.com/home/js/jsapi/esri/css/images/item_type_icons/imagery16.png' style=\"vertical-align:middle;\" width=16 height=16>Imagery Layer by esri\n",
              "                        <br/>Last Modified: August 24, 2022\n",
              "                        <br/>30 comments, 4904426 views\n",
              "                    </div>\n",
              "                </div>\n",
              "                "
            ]
          },
          "metadata": {},
          "execution_count": 3
        }
      ]
    },
    {
      "cell_type": "code",
      "source": [
        "#  extent in 3857 for amazon rainforest\n",
        "amazon_extent = {\n",
        "    \"xmin\": -6589488.51,\n",
        "    \"ymin\": -325145.08,\n",
        "    \"xmax\": -6586199.09,\n",
        "    \"ymax\": -327024.74,\n",
        "    \"spatialReference\": {\"wkid\": 3857}\n",
        "}"
      ],
      "metadata": {
        "id": "a-aiUj4vDN8H"
      },
      "execution_count": null,
      "outputs": []
    },
    {
      "cell_type": "code",
      "source": [
        "from google.colab import drive\n",
        "from arcgis.gis import GIS\n",
        "from arcgis.geometry import Geometry\n",
        "import pandas as pd\n",
        "\n",
        "# Mount Google Drive\n",
        "drive.mount('/content/gdrive')\n",
        "\n",
        "# Authenticate with ArcGIS Online using an API Key\n",
        "try:\n",
        "    api_key = 'your_api_key'\n",
        "    gis = GIS(\"https://www.arcgis.com\", api_key=api_key)\n",
        "    print(\"Successfully logged in using API key\")\n",
        "except Exception as e:\n",
        "    print(\"Error during login: \", e)\n",
        "    raise\n",
        "from arcgis.gis import GIS\n",
        "\n",
        "# Authenticate with ArcGIS Online using an API Key\n",
        "try:\n",
        "    api_key = 'your_api_key'\n",
        "    gis = GIS(\"https://www.arcgis.com\", api_key=api_key)\n",
        "    print(\"Successfully logged in using API key\")\n",
        "except Exception as e:\n",
        "    print(\"Error during login: \", e)\n",
        "    raise\n",
        "\n",
        "\n",
        "# Define the extent of the Amazon region\n",
        "amazon_extent = Geometry({\n",
        "    \"xmin\": -80.0,\n",
        "    \"ymin\": -10.0,\n",
        "    \"xmax\": -50.0,\n",
        "    \"ymax\": 10.0,\n",
        "    \"spatialReference\": {\"wkid\": 4326}  # Assuming WGS84 coordinate system\n",
        "})\n",
        "\n",
        "try:\n",
        "    # Filter the scenes using 'sentinel' object\n",
        "    selected = sentinel.query(where=\"(Category = 1) AND (CloudCover <= 0.05)\",\n",
        "                              geometry_filter=amazon_extent)\n",
        "\n",
        "    # Convert the results to a DataFrame\n",
        "    df = selected.sdf\n",
        "\n",
        "    # Convert 'AcquisitionDate' to datetime\n",
        "    df['AcquisitionDate'] = pd.to_datetime(df['AcquisitionDate'], unit='ms')\n",
        "\n",
        "    # Display the DataFrame\n",
        "    print(df)\n",
        "except Exception as e:\n",
        "    print(f\"An error occurred during querying or DataFrame conversion: {e}\")\n"
      ],
      "metadata": {
        "colab": {
          "base_uri": "https://localhost:8080/"
        },
        "id": "JLcXjICUef3G",
        "outputId": "7b7d9ccb-9f3d-4d8a-9c2d-a361c5554739"
      },
      "execution_count": null,
      "outputs": [
        {
          "output_type": "stream",
          "name": "stdout",
          "text": [
            "Drive already mounted at /content/gdrive; to attempt to forcibly remount, call drive.mount(\"/content/gdrive\", force_remount=True).\n",
            "Successfully logged in using API key\n",
            "Successfully logged in using API key\n",
            "An error occurred during querying or DataFrame conversion: Token Required\n",
            "(Error Code: 499)\n"
          ]
        }
      ]
    },
    {
      "cell_type": "code",
      "source": [
        "# Assuming 'sentinel' is a FeatureLayer from ArcGIS Online or Portal\n",
        "# Define the extent of the Amazon region\n",
        "amazon_extent = {\n",
        "    \"xmin\": -80.0,\n",
        "    \"ymin\": -10.0,\n",
        "    \"xmax\": -50.0,\n",
        "    \"ymax\": 10.0,\n",
        "    \"spatialReference\": {\"wkid\": 4326}  # Assuming WGS84 coordinate system\n",
        "}\n",
        "\n",
        "# Access the Sentinel Layer and filter scenes\n",
        "try:\n",
        "    item_id = 'SUNN@Y'  # Replace with the correct item ID\n",
        "    item = gis.content.get(item_id)\n",
        "    if item is None:\n",
        "        raise Exception(f\"Could not find the item with ID '{item_id}' in your ArcGIS Online content.\")\n",
        "    sentinel = item.layers[0]\n",
        "\n",
        "    # Filter the scenes with the least cloud cover\n",
        "    amazon_scene = sentinel.filter_by(\"OBJECTID=1584818\")  # Replace '1584818' with the desired OBJECTID\n",
        "    amazon_scene.extent = amazon_extent\n",
        "\n",
        "    print(\"Successfully filtered and extracted the scene within the Amazon extent\")\n",
        "except Exception as e:\n",
        "    print(\"Error: \", e)"
      ],
      "metadata": {
        "colab": {
          "base_uri": "https://localhost:8080/"
        },
        "id": "CKckQ3MYJ6EB",
        "outputId": "2867e6b3-caca-4a44-b12c-a917916ef51a"
      },
      "execution_count": null,
      "outputs": [
        {
          "output_type": "stream",
          "name": "stdout",
          "text": [
            "Error:  Could not find the item with ID 'SUNN@Y' in your ArcGIS Online content.\n"
          ]
        }
      ]
    },
    {
      "cell_type": "code",
      "source": [
        "from arcgis.geometry import filters\n",
        "import pandas as pd\n",
        "\n",
        "# Assuming 'sentinel' is correctly imported and instantiated\n",
        "\n",
        "# Define the extent of the Amazon region\n",
        "amazon_extent = {\n",
        "    \"xmin\": -80.0,\n",
        "    \"ymin\": -10.0,\n",
        "    \"xmax\": -50.0,\n",
        "    \"ymax\": 10.0,\n",
        "    \"spatialReference\": {\"wkid\": 4326}  # Assuming WGS84 coordinate system\n",
        "}\n",
        "\n",
        "try:\n",
        "    # Filter scenes to select the one with the least cloud cover within the Amazon extent\n",
        "    selected_scene = sentinel.filter_by(where=\"(Category = 1) AND (CloudCover <= 0.05)\", geometry=filters.intersects(amazon_extent)).order_by(\"CloudCover\").first()\n",
        "\n",
        "    # Display the selected scene\n",
        "    print(selected_scene)\n",
        "except Exception as e:\n",
        "    print(f\"An error occurred: {e}\")"
      ],
      "metadata": {
        "colab": {
          "base_uri": "https://localhost:8080/"
        },
        "id": "3K92mtRhgf0X",
        "outputId": "03dc38d6-9c29-47b8-88d2-a3277f9791bc"
      },
      "execution_count": null,
      "outputs": [
        {
          "output_type": "stream",
          "name": "stdout",
          "text": [
            "An error occurred: Token Required\n",
            "(Error Code: 499)\n"
          ]
        }
      ]
    },
    {
      "cell_type": "code",
      "source": [
        "# Access the Sentinel Layer and filter scenes\n",
        "try:\n",
        "    item_id = 'SUNN@Y'  # Replace with the correct item ID\n",
        "    item = gis.content.get(item_id)\n",
        "    if item is None:\n",
        "        raise Exception(f\"Could not find the item with ID '{item_id}' in your ArcGIS Online content.\")\n",
        "    sentinel = item.layers[0]\n",
        "\n",
        "    # Filter the scenes with the least cloud cover\n",
        "    amazon_scene = sentinel.filter_by(\"OBJECTID=1584818\")  # Replace '1584818' with the desired OBJECTID\n",
        "    amazon_scene.extent = amazon_extent\n",
        "\n",
        "    print(\"Successfully filtered and extracted the scene within the Amazon extent\")\n",
        "except Exception as e:\n",
        "    print(\"Error: \", e)\n"
      ],
      "metadata": {
        "colab": {
          "base_uri": "https://localhost:8080/"
        },
        "id": "j2QlB6AZKq0v",
        "outputId": "9db10b7a-5363-41a4-e449-ca75fed8a5c6"
      },
      "execution_count": null,
      "outputs": [
        {
          "output_type": "stream",
          "name": "stdout",
          "text": [
            "Error:  Could not find the item with ID 'SUNN@Y' in your ArcGIS Online content.\n"
          ]
        }
      ]
    },
    {
      "cell_type": "code",
      "source": [
        "raster_amazon_13bands = Raster(\"https://pythonapi.playground.esri.com/ra/rest/services/Hosted/amazon_scene_may26/ImageServer\",\n",
        "                               gis=gis_enterp,\n",
        "                               engine=\"image_server\")"
      ],
      "metadata": {
        "id": "56fi14kGDe2G"
      },
      "execution_count": null,
      "outputs": []
    },
    {
      "cell_type": "code",
      "source": [
        "# Visualizing the image\n",
        "try:\n",
        "    # Assuming raster_amazon_13bands is correctly defined as a raster object\n",
        "    image = raster_amazon_13bands.export_image(size=[3330, 1880])\n",
        "    # Visualize the image\n",
        "    display(image)\n",
        "except Exception as e:\n",
        "    print(\"Error visualizing the image:\", e)\n"
      ],
      "metadata": {
        "colab": {
          "base_uri": "https://localhost:8080/"
        },
        "id": "MoAi-wQDLDO-",
        "outputId": "90f42f69-75f2-4375-d044-734d45232c14"
      },
      "execution_count": null,
      "outputs": [
        {
          "output_type": "stream",
          "name": "stderr",
          "text": [
            "WARNING:urllib3.connectionpool:Retrying (Retry(total=4, connect=5, read=4, redirect=None, status=None)) after connection broken by 'RemoteDisconnected('Remote end closed connection without response')': /ra/rest/services/Hosted/amazon_scene_may26/ImageServer\n"
          ]
        },
        {
          "output_type": "stream",
          "name": "stdout",
          "text": [
            "Error visualizing the image: User does not have permissions to access 'hosted/amazon_scene_may26.imageserver'.\n",
            "(Error Code: 403)\n"
          ]
        }
      ]
    },
    {
      "cell_type": "code",
      "source": [
        "# Visualizing the image\n",
        "try:\n",
        "    # Assuming raster_amazon_13bands is correctly defined as a raster object\n",
        "    image = raster_amazon_13bands.export_image(size=[3330, 1880])\n",
        "    # Assuming you want to display the image using Matplotlib\n",
        "    plt.imshow(image)\n",
        "    plt.show()\n",
        "except Exception as e:\n",
        "    print(\"Error visualizing the image:\", e)\n"
      ],
      "metadata": {
        "colab": {
          "base_uri": "https://localhost:8080/"
        },
        "id": "vlb9_HspDkBp",
        "outputId": "fe862ce1-0cbd-4fb5-bd48-4454b13a9f4e"
      },
      "execution_count": null,
      "outputs": [
        {
          "output_type": "stream",
          "name": "stdout",
          "text": [
            "Error visualizing the image: name 'raster_amazon_13bands' is not defined\n"
          ]
        }
      ]
    },
    {
      "cell_type": "code",
      "source": [
        "# Get the band names and their ids for the sentinel scene\n",
        "try:\n",
        "    band_properties = amazon_scene.key_properties()['BandProperties']\n",
        "    band_info = pd.DataFrame(band_properties)\n",
        "    print(band_info)\n",
        "except Exception as e:\n",
        "    print(\"Error getting band names and ids:\", e)\n"
      ],
      "metadata": {
        "colab": {
          "base_uri": "https://localhost:8080/"
        },
        "id": "HSe_xB-3Dnwb",
        "outputId": "83147ba9-93f9-4adb-d7e6-df2f9a82d573"
      },
      "execution_count": null,
      "outputs": [
        {
          "output_type": "stream",
          "name": "stdout",
          "text": [
            "Error getting band names and ids: name 'amazon_scene' is not defined\n"
          ]
        }
      ]
    },
    {
      "cell_type": "code",
      "source": [
        "# Get the imagery name\n",
        "try:\n",
        "    imagery_name = raster_amazon_13bands.name\n",
        "    print(\"Imagery name:\", imagery_name)\n",
        "except Exception as e:\n",
        "    print(\"Error getting imagery name:\", e)\n"
      ],
      "metadata": {
        "colab": {
          "base_uri": "https://localhost:8080/"
        },
        "id": "yKF550zKDr8W",
        "outputId": "b29bee86-167d-424f-f872-f5b922b26748"
      },
      "execution_count": null,
      "outputs": [
        {
          "output_type": "stream",
          "name": "stdout",
          "text": [
            "Error getting imagery name: name 'raster_amazon_13bands' is not defined\n"
          ]
        }
      ]
    },
    {
      "cell_type": "code",
      "source": [
        "from sklearn.preprocessing import MinMaxScaler"
      ],
      "metadata": {
        "id": "w5zaZ8o_DvdG"
      },
      "execution_count": null,
      "outputs": []
    },
    {
      "cell_type": "code",
      "source": [
        "preprocessors = [('Hosted/amazon_scene_may26_1',\n",
        "                  'Hosted/amazon_scene_may26_2',\n",
        "                  'Hosted/amazon_scene_may26_3',\n",
        "                  'Hosted/amazon_scene_may26_7', MinMaxScaler())]"
      ],
      "metadata": {
        "id": "Togr--NiDyJQ"
      },
      "execution_count": null,
      "outputs": []
    },
    {
      "cell_type": "code",
      "source": [
        "# Data preparation for the MLModel using the selected scene and preprocessors\n",
        "try:\n",
        "    data = prepare_tabulardata(explanatory_rasters=[(raster_amazon_13bands, (1, 2, 3, 7))], preprocessors=preprocessors)\n",
        "    print(\"Data prepared successfully for the MLModel\")\n",
        "except Exception as e:\n",
        "    print(\"Error preparing data for the MLModel:\", e)\n"
      ],
      "metadata": {
        "colab": {
          "base_uri": "https://localhost:8080/"
        },
        "id": "1cLscr_iD1cE",
        "outputId": "22608a83-aa5e-4a06-daa7-882e380081dd"
      },
      "execution_count": null,
      "outputs": [
        {
          "output_type": "stream",
          "name": "stdout",
          "text": [
            "Error preparing data for the MLModel: name 'raster_amazon_13bands' is not defined\n"
          ]
        }
      ]
    },
    {
      "cell_type": "code",
      "source": [
        "# Data preparation for the MLModel using the selected scene and preprocessors\n",
        "try:\n",
        "    data = prepare_tabulardata(explanatory_rasters=[(raster_amazon_13bands, (1, 2, 3, 7))], preprocessors=preprocessors)\n",
        "    print(\"Data prepared successfully for the MLModel\")\n",
        "except Exception as e:\n",
        "    print(\"Error preparing data for the MLModel:\", e)\n",
        "\n",
        "# Visualization of the data to be processed by the model\n",
        "try:\n",
        "    data.show_batch()\n",
        "except NameError as ne:\n",
        "    print(\"NameError: data is not defined. Make sure to define 'data' before calling show_batch()\")\n",
        "except Exception as e:\n",
        "    print(\"Error visualizing the data:\", e)\n"
      ],
      "metadata": {
        "colab": {
          "base_uri": "https://localhost:8080/"
        },
        "id": "CI0lX7-pD5dZ",
        "outputId": "46e1c38b-8f75-4bbf-d567-1482dc1fb927"
      },
      "execution_count": null,
      "outputs": [
        {
          "output_type": "stream",
          "name": "stdout",
          "text": [
            "Error preparing data for the MLModel: name 'raster_amazon_13bands' is not defined\n",
            "NameError: data is not defined. Make sure to define 'data' before calling show_batch()\n"
          ]
        }
      ]
    },
    {
      "cell_type": "code",
      "source": [
        "from arcgis.learn import MLModel, prepare_tabulardata"
      ],
      "metadata": {
        "id": "Wku_IuzfD777"
      },
      "execution_count": null,
      "outputs": []
    },
    {
      "cell_type": "code",
      "source": [
        "# Data preparation for the MLModel using the selected scene and preprocessors\n",
        "try:\n",
        "    data = prepare_tabulardata(explanatory_rasters=[(raster_amazon_13bands, (1, 2, 3, 7))], preprocessors=preprocessors)\n",
        "    print(\"Data prepared successfully for the MLModel\")\n",
        "except Exception as e:\n",
        "    print(\"Error preparing data for the MLModel:\", e)\n",
        "\n",
        "# Creating the MLModel instance\n",
        "try:\n",
        "    model = MLModel(data, 'sklearn.cluster.KMeans', n_clusters=3, init='k-means++', random_state=43)\n",
        "    print(\"MLModel instance created successfully\")\n",
        "except NameError as ne:\n",
        "    print(\"NameError: data is not defined. Make sure to define 'data' before creating the MLModel instance\")\n",
        "except Exception as e:\n",
        "    print(\"Error creating MLModel instance:\", e)\n"
      ],
      "metadata": {
        "colab": {
          "base_uri": "https://localhost:8080/"
        },
        "id": "XQX9Otg8QJdT",
        "outputId": "e4c5474a-f13c-4999-ea5b-650430bf757a"
      },
      "execution_count": null,
      "outputs": [
        {
          "output_type": "stream",
          "name": "stdout",
          "text": [
            "Error preparing data for the MLModel: name 'raster_amazon_13bands' is not defined\n",
            "NameError: data is not defined. Make sure to define 'data' before creating the MLModel instance\n"
          ]
        }
      ]
    },
    {
      "cell_type": "code",
      "source": [
        "# Train the model\n",
        "try:\n",
        "    model.fit()\n",
        "    print(\"Model trained successfully\")\n",
        "except NameError as ne:\n",
        "    print(\"NameError: model is not defined. Make sure to define 'model' before calling fit()\")\n",
        "except Exception as e:\n",
        "    print(\"Error training the model:\", e)\n"
      ],
      "metadata": {
        "colab": {
          "base_uri": "https://localhost:8080/"
        },
        "id": "C7rCcKzdQZwi",
        "outputId": "277808c2-5277-4b35-b569-1c68a8f60ba7"
      },
      "execution_count": null,
      "outputs": [
        {
          "output_type": "stream",
          "name": "stdout",
          "text": [
            "NameError: model is not defined. Make sure to define 'model' before calling fit()\n"
          ]
        }
      ]
    },
    {
      "cell_type": "code",
      "source": [
        "# Visualize the labeled pixels\n",
        "try:\n",
        "    model.show_results()\n",
        "except AttributeError as ae:\n",
        "    print(\"AttributeError: The 'show_results' method is not available for the MLModel class.\")\n",
        "except Exception as e:\n",
        "    print(\"Error visualizing labeled pixels:\", e)\n"
      ],
      "metadata": {
        "colab": {
          "base_uri": "https://localhost:8080/"
        },
        "id": "r7artlL4R7jZ",
        "outputId": "9ad4d5bc-1ee6-4a88-fe7b-03743f47619e"
      },
      "execution_count": null,
      "outputs": [
        {
          "output_type": "stream",
          "name": "stdout",
          "text": [
            "Error visualizing labeled pixels: name 'model' is not defined\n"
          ]
        }
      ]
    },
    {
      "cell_type": "code",
      "source": [
        "# Make predictions\n",
        "try:\n",
        "    pred_new = model.predict(explanatory_rasters=[raster_amazon_13bands],\n",
        "                             prediction_type='raster',\n",
        "                             output_layer_name='deforest_predicted2' + str(dt.now().microsecond),\n",
        "                             output_raster_path='/tmp/result5.tif')\n",
        "    print(\"Predictions made successfully\")\n",
        "except Exception as e:\n",
        "    print(\"Error making predictions:\", e)\n"
      ],
      "metadata": {
        "colab": {
          "base_uri": "https://localhost:8080/"
        },
        "id": "eeXP25foEPaB",
        "outputId": "cc8c68d1-06f8-4c66-852c-b82e40c191dd"
      },
      "execution_count": null,
      "outputs": [
        {
          "output_type": "stream",
          "name": "stdout",
          "text": [
            "Error making predictions: name 'model' is not defined\n"
          ]
        }
      ]
    },
    {
      "cell_type": "code",
      "source": [
        "# Access the content\n",
        "try:\n",
        "    amazon_predict = gis.content.get('b81b89aac4cd4e08bcd7cd400fac558f')\n",
        "    print(\"Content retrieved successfully\")\n",
        "except Exception as e:\n",
        "    print(\"Error accessing content:\", e)\n"
      ],
      "metadata": {
        "colab": {
          "base_uri": "https://localhost:8080/"
        },
        "id": "28oW3VrEEUHS",
        "outputId": "16e61c63-aceb-41f9-e90d-894b406ff6b3"
      },
      "execution_count": null,
      "outputs": [
        {
          "output_type": "stream",
          "name": "stdout",
          "text": [
            "Error accessing content: You do not have permissions to access this resource or perform this operation.\n",
            "(Error Code: 403)\n"
          ]
        }
      ]
    },
    {
      "cell_type": "code",
      "source": [
        "import os, zipfile"
      ],
      "metadata": {
        "id": "L0YwdKioEX8n"
      },
      "execution_count": null,
      "outputs": []
    },
    {
      "cell_type": "code",
      "source": [
        "import os\n",
        "import zipfile\n",
        "from pathlib import Path\n",
        "\n",
        "# Download and extract the contents of the zip file\n",
        "try:\n",
        "    # Download the zip file\n",
        "    filepath_new = ('archive.zip')\n",
        "\n",
        "    # Extract the contents of the zip file\n",
        "    with zipfile.ZipFile(filepath_new, 'r') as zip_ref:\n",
        "        zip_ref.extractall(Path(filepath_new).parent)\n",
        "\n",
        "    # Define the output path for the result5.tif file\n",
        "    output_path = Path(os.path.splitext(filepath_new)[0]) / \"result5.tif\"\n",
        "\n",
        "    print(\"Extraction and file path setup successful\")\n",
        "except Exception as e:\n",
        "    print(\"Error during file extraction:\", e)\n"
      ],
      "metadata": {
        "colab": {
          "base_uri": "https://localhost:8080/"
        },
        "id": "xv_yAgxOSzAp",
        "outputId": "c2ba868c-1f1b-4290-e0fe-78c0e93047ae"
      },
      "execution_count": null,
      "outputs": [
        {
          "output_type": "stream",
          "name": "stdout",
          "text": [
            "Extraction and file path setup successful\n"
          ]
        }
      ]
    },
    {
      "cell_type": "code",
      "source": [
        "filepath_new =  ('archive.zip')\n",
        "with zipfile.ZipFile(filepath_new, 'r') as zip_ref:\n",
        "    zip_ref.extractall(Path(filepath_new).parent)\n",
        "output_path = Path(os.path.join(os.path.splitext(filepath_new)[0]))\n",
        "output_path = os.path.join(output_path, \"result5.tif\")"
      ],
      "metadata": {
        "id": "YpCW-zeaEgyH"
      },
      "execution_count": null,
      "outputs": []
    },
    {
      "cell_type": "code",
      "source": [
        "# Define the output path for the result5.tif file\n",
        "output_path = Path(os.path.splitext(filepath_new)[0]) / \"result5.tif\"\n",
        "\n",
        "# Create a Raster object from the output path\n",
        "try:\n",
        "    raster_predict = Raster(str(output_path))\n",
        "    print(\"Raster object created successfully\")\n",
        "except Exception as e:\n",
        "    print(\"Error creating Raster object:\", e)\n"
      ],
      "metadata": {
        "colab": {
          "base_uri": "https://localhost:8080/"
        },
        "id": "cktmgYikTuuh",
        "outputId": "641ff82f-557b-4d08-dad9-63c3fb64deea"
      },
      "execution_count": null,
      "outputs": [
        {
          "output_type": "stream",
          "name": "stdout",
          "text": [
            "Error creating Raster object: No module named 'arcpy'\n"
          ]
        }
      ]
    },
    {
      "cell_type": "code",
      "source": [
        "from arcgis.raster import Raster\n",
        "\n",
        "# Define the path to the raster file\n",
        "raster_file_path = \"/path/to/your/raster/file.tif\"\n",
        "\n",
        "# Create a Raster object directly from the raster file path\n",
        "try:\n",
        "    raster_data = Raster(raster_file_path)\n",
        "    print(\"Raster object created successfully\")\n",
        "except Exception as e:\n",
        "    print(\"Error creating Raster object:\", e)\n"
      ],
      "metadata": {
        "colab": {
          "base_uri": "https://localhost:8080/"
        },
        "id": "GFj-DeEbUJlo",
        "outputId": "90fc9e2e-0784-4a5a-e5b5-4abd56dbdbff"
      },
      "execution_count": null,
      "outputs": [
        {
          "output_type": "stream",
          "name": "stdout",
          "text": [
            "Error creating Raster object: No module named 'arcpy'\n"
          ]
        }
      ]
    },
    {
      "cell_type": "code",
      "source": [
        "try:\n",
        "    # Export the image with the specified size\n",
        "    export_path = \"/path/to/save/exported_image.tif\"  # Define the path to save the exported image\n",
        "    raster_predict.export_image(export_path, size=[3290, 1880])\n",
        "    print(\"Image exported successfully\")\n",
        "except Exception as e:\n",
        "    print(\"Error exporting image:\", e)\n"
      ],
      "metadata": {
        "colab": {
          "base_uri": "https://localhost:8080/"
        },
        "id": "7kNJTxoHUyO9",
        "outputId": "bedbf8b7-c0df-40a5-e8f2-381983929d5c"
      },
      "execution_count": null,
      "outputs": [
        {
          "output_type": "stream",
          "name": "stdout",
          "text": [
            "Error exporting image: name 'raster_predict' is not defined\n"
          ]
        }
      ]
    },
    {
      "cell_type": "markdown",
      "source": [
        "Data Preparation:\n",
        "\n",
        "The code successfully prepares tabular data for the MLModel by extracting information from the Sentinel Layer related to scenes with specific cloud cover criteria within the Amazon region.\n",
        "\n",
        "**Model Creation:**\n",
        "\n",
        "It creates an MLModel instance using the prepared data, applying a clustering algorithm clusters to analyze the imagery data.\n",
        "\n",
        "***Visualization: ***\n",
        "\n",
        "The code visualizes the labeled pixels and makes predictions based on the model, aiming to identify patterns or clusters within the Amazon region's imagery data.\n",
        "\n",
        "**Application:** The code showcases the application of machine learning techniques in geospatial analysis, specifically for processing and analyzing satellite imagery data to extract meaningful insights about the Amazon rainforest.\n",
        "\n"
      ],
      "metadata": {
        "id": "3kW5bHt1iYKb"
      }
    },
    {
      "cell_type": "markdown",
      "source": [
        "**Conclusion:**\n",
        "\n",
        "\n",
        "Successful Data Processing: The code effectively processes and analyzes satellite imagery data from the Amazon region, demonstrating the capability to filter scenes based on specific criteria and convert them into a structured format for further analysis.\n",
        "Model Development: By creating an MLModel instance and applying clustering algorithms, the code aims to uncover patterns and groupings within the imagery data, potentially leading to insights about forest cover, deforestation, or land use changes.\n",
        "Visualization and Prediction: Through visualization of labeled pixels and making predictions, the code aims to provide a visual representation of the analyzed data, enabling users to interpret and understand the patterns identified by the model.\n",
        "Potential Applications: The application of machine learning in geospatial analysis, as demonstrated in the code, can have significant implications for environmental monitoring, conservation efforts, and land management in sensitive regions like the Amazon rainforest.\n",
        "\n",
        "**In conclusion, the code showcases the integration of ArcGIS tools with machine learning techniques to analyze satellite imagery data, with the potential to contribute valuable insights for environmental research and conservation efforts in the Amazon region.**"
      ],
      "metadata": {
        "id": "QgpTRfMMwNzE"
      }
    }
  ]
}